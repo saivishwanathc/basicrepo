{
 "cells": [
  {
   "cell_type": "markdown",
   "id": "f1ec333a-475d-4d9b-a382-78cbd2975a69",
   "metadata": {},
   "source": [
    "# Netflix Data Cleaning & Wrangling Part 2"
   ]
  },
  {
   "cell_type": "markdown",
   "id": "2b3eb4d6-8acc-47ba-be6f-f89efd64f43f",
   "metadata": {},
   "source": [
    "### This Script Contains the Following Points:\n",
    "#### 1. Importing Libraries & Data\n",
    "#### 2. Check Data for Additional Cleaning\n",
    "#### 3. Deriving New Column for Region\n",
    "#### 4. Export Updated Dataframe"
   ]
  },
  {
   "cell_type": "markdown",
   "id": "61973415-8fd8-41de-8cd6-338a5968e606",
   "metadata": {},
   "source": [
    "## 1. Importing Libraries & Data"
   ]
  },
  {
   "cell_type": "code",
   "execution_count": 5,
   "id": "69411e44-9984-4b14-8b56-91a78f0cc8b7",
   "metadata": {},
   "outputs": [],
   "source": [
    "#Import libraries\n",
    "import pandas as pd\n",
    "import numpy as np\n",
    "import os\n",
    "\n",
    "#Create Folder path to data\n",
    "path = r'/Users/C SaiVishwanath/Desktop/2024 Projects/Netflix'\n",
    "\n",
    "#Import Airbnb data as 'df'\n",
    "df=pd.read_csv(os.path.join(path, '02 Data', 'Prepared Data', 'cleaned_with_days_since_join_netflix.csv'))"
   ]
  },
  {
   "cell_type": "markdown",
   "id": "54bea484-084d-44e2-8ce5-563aa4c3a437",
   "metadata": {},
   "source": [
    "## 2. Check Data for Additional Cleaning"
   ]
  },
  {
   "cell_type": "code",
   "execution_count": 7,
   "id": "8af894e3-030b-4e26-8cc7-0359aa25df3d",
   "metadata": {},
   "outputs": [
    {
     "data": {
      "text/html": [
       "<div>\n",
       "<style scoped>\n",
       "    .dataframe tbody tr th:only-of-type {\n",
       "        vertical-align: middle;\n",
       "    }\n",
       "\n",
       "    .dataframe tbody tr th {\n",
       "        vertical-align: top;\n",
       "    }\n",
       "\n",
       "    .dataframe thead th {\n",
       "        text-align: right;\n",
       "    }\n",
       "</style>\n",
       "<table border=\"1\" class=\"dataframe\">\n",
       "  <thead>\n",
       "    <tr style=\"text-align: right;\">\n",
       "      <th></th>\n",
       "      <th>User ID</th>\n",
       "      <th>Subscription Type</th>\n",
       "      <th>Monthly Revenue</th>\n",
       "      <th>Join Date</th>\n",
       "      <th>Last Payment Date</th>\n",
       "      <th>Country</th>\n",
       "      <th>Age</th>\n",
       "      <th>Gender</th>\n",
       "      <th>Device</th>\n",
       "      <th>Days Since Join</th>\n",
       "    </tr>\n",
       "  </thead>\n",
       "  <tbody>\n",
       "    <tr>\n",
       "      <th>0</th>\n",
       "      <td>1</td>\n",
       "      <td>Basic</td>\n",
       "      <td>10</td>\n",
       "      <td>1/15/22</td>\n",
       "      <td>10/6/23</td>\n",
       "      <td>United States</td>\n",
       "      <td>28</td>\n",
       "      <td>Male</td>\n",
       "      <td>Smartphone</td>\n",
       "      <td>629</td>\n",
       "    </tr>\n",
       "    <tr>\n",
       "      <th>1</th>\n",
       "      <td>2</td>\n",
       "      <td>Premium</td>\n",
       "      <td>15</td>\n",
       "      <td>5/9/21</td>\n",
       "      <td>6/22/23</td>\n",
       "      <td>Canada</td>\n",
       "      <td>35</td>\n",
       "      <td>Female</td>\n",
       "      <td>Tablet</td>\n",
       "      <td>774</td>\n",
       "    </tr>\n",
       "    <tr>\n",
       "      <th>2</th>\n",
       "      <td>211</td>\n",
       "      <td>Premium</td>\n",
       "      <td>15</td>\n",
       "      <td>11/15/22</td>\n",
       "      <td>6/27/23</td>\n",
       "      <td>United States</td>\n",
       "      <td>40</td>\n",
       "      <td>Male</td>\n",
       "      <td>Tablet</td>\n",
       "      <td>224</td>\n",
       "    </tr>\n",
       "    <tr>\n",
       "      <th>3</th>\n",
       "      <td>4</td>\n",
       "      <td>Standard</td>\n",
       "      <td>12</td>\n",
       "      <td>10/7/22</td>\n",
       "      <td>6/26/23</td>\n",
       "      <td>Australia</td>\n",
       "      <td>51</td>\n",
       "      <td>Female</td>\n",
       "      <td>Laptop</td>\n",
       "      <td>262</td>\n",
       "    </tr>\n",
       "    <tr>\n",
       "      <th>4</th>\n",
       "      <td>5</td>\n",
       "      <td>Basic</td>\n",
       "      <td>10</td>\n",
       "      <td>1/5/23</td>\n",
       "      <td>6/28/23</td>\n",
       "      <td>Germany</td>\n",
       "      <td>33</td>\n",
       "      <td>Male</td>\n",
       "      <td>Smartphone</td>\n",
       "      <td>174</td>\n",
       "    </tr>\n",
       "  </tbody>\n",
       "</table>\n",
       "</div>"
      ],
      "text/plain": [
       "   User ID Subscription Type  Monthly Revenue Join Date Last Payment Date  \\\n",
       "0        1             Basic               10   1/15/22           10/6/23   \n",
       "1        2           Premium               15    5/9/21           6/22/23   \n",
       "2      211           Premium               15  11/15/22           6/27/23   \n",
       "3        4          Standard               12   10/7/22           6/26/23   \n",
       "4        5             Basic               10    1/5/23           6/28/23   \n",
       "\n",
       "         Country  Age  Gender      Device  Days Since Join  \n",
       "0  United States   28    Male  Smartphone              629  \n",
       "1         Canada   35  Female      Tablet              774  \n",
       "2  United States   40    Male      Tablet              224  \n",
       "3      Australia   51  Female      Laptop              262  \n",
       "4        Germany   33    Male  Smartphone              174  "
      ]
     },
     "execution_count": 7,
     "metadata": {},
     "output_type": "execute_result"
    }
   ],
   "source": [
    "# Check output\n",
    "df.head(5)"
   ]
  },
  {
   "cell_type": "code",
   "execution_count": 8,
   "id": "d63923e7-8a34-460f-8f47-d01965c3689b",
   "metadata": {},
   "outputs": [
    {
     "data": {
      "text/plain": [
       "2500"
      ]
     },
     "execution_count": 8,
     "metadata": {},
     "output_type": "execute_result"
    }
   ],
   "source": [
    "# User ID column looks like there may be an error, 3rd row has 211\n",
    "# Check unique values in User ID\n",
    "df['User ID'].value_counts().sum()"
   ]
  },
  {
   "cell_type": "code",
   "execution_count": 9,
   "id": "c0a0e387-2cdf-4fc8-a1d3-b1cb0df4e313",
   "metadata": {},
   "outputs": [],
   "source": [
    "# No issue with User ID column found"
   ]
  },
  {
   "cell_type": "code",
   "execution_count": 10,
   "id": "e87b0a9f-6bd8-4ad5-b11d-43f47e2288c9",
   "metadata": {},
   "outputs": [
    {
     "data": {
      "text/plain": [
       "(2500, 10)"
      ]
     },
     "execution_count": 10,
     "metadata": {},
     "output_type": "execute_result"
    }
   ],
   "source": [
    "# Check Shape\n",
    "df.shape"
   ]
  },
  {
   "cell_type": "code",
   "execution_count": 11,
   "id": "061d6c37-c99d-41b7-b00e-f95abafedb59",
   "metadata": {},
   "outputs": [
    {
     "data": {
      "text/html": [
       "<div>\n",
       "<style scoped>\n",
       "    .dataframe tbody tr th:only-of-type {\n",
       "        vertical-align: middle;\n",
       "    }\n",
       "\n",
       "    .dataframe tbody tr th {\n",
       "        vertical-align: top;\n",
       "    }\n",
       "\n",
       "    .dataframe thead th {\n",
       "        text-align: right;\n",
       "    }\n",
       "</style>\n",
       "<table border=\"1\" class=\"dataframe\">\n",
       "  <thead>\n",
       "    <tr style=\"text-align: right;\">\n",
       "      <th></th>\n",
       "      <th>User ID</th>\n",
       "      <th>Monthly Revenue</th>\n",
       "      <th>Age</th>\n",
       "      <th>Days Since Join</th>\n",
       "    </tr>\n",
       "  </thead>\n",
       "  <tbody>\n",
       "    <tr>\n",
       "      <th>count</th>\n",
       "      <td>2500.00000</td>\n",
       "      <td>2500.000000</td>\n",
       "      <td>2500.000000</td>\n",
       "      <td>2500.000000</td>\n",
       "    </tr>\n",
       "    <tr>\n",
       "      <th>mean</th>\n",
       "      <td>1250.50000</td>\n",
       "      <td>12.508400</td>\n",
       "      <td>38.795600</td>\n",
       "      <td>327.393200</td>\n",
       "    </tr>\n",
       "    <tr>\n",
       "      <th>std</th>\n",
       "      <td>721.83216</td>\n",
       "      <td>1.686851</td>\n",
       "      <td>7.171778</td>\n",
       "      <td>115.818714</td>\n",
       "    </tr>\n",
       "    <tr>\n",
       "      <th>min</th>\n",
       "      <td>1.00000</td>\n",
       "      <td>10.000000</td>\n",
       "      <td>26.000000</td>\n",
       "      <td>8.000000</td>\n",
       "    </tr>\n",
       "    <tr>\n",
       "      <th>25%</th>\n",
       "      <td>625.75000</td>\n",
       "      <td>11.000000</td>\n",
       "      <td>32.000000</td>\n",
       "      <td>249.000000</td>\n",
       "    </tr>\n",
       "    <tr>\n",
       "      <th>50%</th>\n",
       "      <td>1250.50000</td>\n",
       "      <td>12.000000</td>\n",
       "      <td>39.000000</td>\n",
       "      <td>330.000000</td>\n",
       "    </tr>\n",
       "    <tr>\n",
       "      <th>75%</th>\n",
       "      <td>1875.25000</td>\n",
       "      <td>14.000000</td>\n",
       "      <td>45.000000</td>\n",
       "      <td>402.000000</td>\n",
       "    </tr>\n",
       "    <tr>\n",
       "      <th>max</th>\n",
       "      <td>2500.00000</td>\n",
       "      <td>15.000000</td>\n",
       "      <td>51.000000</td>\n",
       "      <td>776.000000</td>\n",
       "    </tr>\n",
       "  </tbody>\n",
       "</table>\n",
       "</div>"
      ],
      "text/plain": [
       "          User ID  Monthly Revenue          Age  Days Since Join\n",
       "count  2500.00000      2500.000000  2500.000000      2500.000000\n",
       "mean   1250.50000        12.508400    38.795600       327.393200\n",
       "std     721.83216         1.686851     7.171778       115.818714\n",
       "min       1.00000        10.000000    26.000000         8.000000\n",
       "25%     625.75000        11.000000    32.000000       249.000000\n",
       "50%    1250.50000        12.000000    39.000000       330.000000\n",
       "75%    1875.25000        14.000000    45.000000       402.000000\n",
       "max    2500.00000        15.000000    51.000000       776.000000"
      ]
     },
     "execution_count": 11,
     "metadata": {},
     "output_type": "execute_result"
    }
   ],
   "source": [
    "# Printing stats\n",
    "df.describe()"
   ]
  },
  {
   "cell_type": "code",
   "execution_count": 12,
   "id": "18d864ad-5856-41ea-b8bc-596e07678c73",
   "metadata": {},
   "outputs": [
    {
     "data": {
      "text/plain": [
       "User ID               int64\n",
       "Subscription Type    object\n",
       "Monthly Revenue       int64\n",
       "Join Date            object\n",
       "Last Payment Date    object\n",
       "Country              object\n",
       "Age                   int64\n",
       "Gender               object\n",
       "Device               object\n",
       "Days Since Join       int64\n",
       "dtype: object"
      ]
     },
     "execution_count": 12,
     "metadata": {},
     "output_type": "execute_result"
    }
   ],
   "source": [
    "# Print Column data types\n",
    "df.dtypes"
   ]
  },
  {
   "cell_type": "code",
   "execution_count": 13,
   "id": "9bc6d26a-9cc9-4619-9b77-03073afeb925",
   "metadata": {},
   "outputs": [],
   "source": [
    "# User ID does not need to by integer\n",
    "# Changing data type \n",
    "df['User ID']=df['User ID'].astype(str)"
   ]
  },
  {
   "cell_type": "code",
   "execution_count": 14,
   "id": "9faeceac-de20-4394-b50d-12d303d7488f",
   "metadata": {},
   "outputs": [
    {
     "data": {
      "text/plain": [
       "User ID              object\n",
       "Subscription Type    object\n",
       "Monthly Revenue       int64\n",
       "Join Date            object\n",
       "Last Payment Date    object\n",
       "Country              object\n",
       "Age                   int64\n",
       "Gender               object\n",
       "Device               object\n",
       "Days Since Join       int64\n",
       "dtype: object"
      ]
     },
     "execution_count": 14,
     "metadata": {},
     "output_type": "execute_result"
    }
   ],
   "source": [
    "# Check data types for change\n",
    "df.dtypes"
   ]
  },
  {
   "cell_type": "code",
   "execution_count": 15,
   "id": "5b12b64f-f1cf-4ddf-8478-a698ad8c6678",
   "metadata": {},
   "outputs": [],
   "source": [
    "# User ID column successfully changed from integer"
   ]
  },
  {
   "cell_type": "code",
   "execution_count": 16,
   "id": "3d8088de-e59f-4638-8089-9e39951f8355",
   "metadata": {},
   "outputs": [
    {
     "name": "stdout",
     "output_type": "stream",
     "text": [
      "<class 'pandas.core.frame.DataFrame'>\n",
      "RangeIndex: 2500 entries, 0 to 2499\n",
      "Data columns (total 10 columns):\n",
      " #   Column             Non-Null Count  Dtype \n",
      "---  ------             --------------  ----- \n",
      " 0   User ID            2500 non-null   object\n",
      " 1   Subscription Type  2500 non-null   object\n",
      " 2   Monthly Revenue    2500 non-null   int64 \n",
      " 3   Join Date          2500 non-null   object\n",
      " 4   Last Payment Date  2500 non-null   object\n",
      " 5   Country            2500 non-null   object\n",
      " 6   Age                2500 non-null   int64 \n",
      " 7   Gender             2500 non-null   object\n",
      " 8   Device             2500 non-null   object\n",
      " 9   Days Since Join    2500 non-null   int64 \n",
      "dtypes: int64(3), object(7)\n",
      "memory usage: 195.4+ KB\n"
     ]
    }
   ],
   "source": [
    "# Print basic Info\n",
    "df.info()"
   ]
  },
  {
   "cell_type": "code",
   "execution_count": 17,
   "id": "980f3a9d-5e39-4a40-a097-5fca7fd9acb6",
   "metadata": {},
   "outputs": [
    {
     "data": {
      "text/plain": [
       "User ID              0\n",
       "Subscription Type    0\n",
       "Monthly Revenue      0\n",
       "Join Date            0\n",
       "Last Payment Date    0\n",
       "Country              0\n",
       "Age                  0\n",
       "Gender               0\n",
       "Device               0\n",
       "Days Since Join      0\n",
       "dtype: int64"
      ]
     },
     "execution_count": 17,
     "metadata": {},
     "output_type": "execute_result"
    }
   ],
   "source": [
    "# Check for missing values\n",
    "df.isnull().sum()"
   ]
  },
  {
   "cell_type": "code",
   "execution_count": 18,
   "id": "cb850b32-3d7a-495a-ade6-544f03561da8",
   "metadata": {},
   "outputs": [],
   "source": [
    "# No missing values"
   ]
  },
  {
   "cell_type": "code",
   "execution_count": 19,
   "id": "916dd0c5-b960-4f1e-99d0-48ab6a0d6fa0",
   "metadata": {},
   "outputs": [
    {
     "data": {
      "text/plain": [
       "0"
      ]
     },
     "execution_count": 19,
     "metadata": {},
     "output_type": "execute_result"
    }
   ],
   "source": [
    "# Check for duplicates\n",
    "df.duplicated().sum()"
   ]
  },
  {
   "cell_type": "code",
   "execution_count": 20,
   "id": "4c0b74a5-1f90-4e1b-a974-b9282f4e8d66",
   "metadata": {},
   "outputs": [],
   "source": [
    "# No duplicates found"
   ]
  },
  {
   "cell_type": "code",
   "execution_count": 22,
   "id": "4217bb89-f636-46e5-ad8d-86bebffc4643",
   "metadata": {},
   "outputs": [
    {
     "data": {
      "text/plain": [
       "Subscription Type\n",
       "Basic       999\n",
       "Standard    768\n",
       "Premium     733\n",
       "Name: count, dtype: int64"
      ]
     },
     "execution_count": 22,
     "metadata": {},
     "output_type": "execute_result"
    }
   ],
   "source": [
    "# Check unique values in the Subscription column \n",
    "df['Subscription Type'].value_counts()"
   ]
  },
  {
   "cell_type": "code",
   "execution_count": 23,
   "id": "17a9ec8d-ef45-4af5-965f-2dbc8459cb82",
   "metadata": {},
   "outputs": [
    {
     "data": {
      "text/plain": [
       "Monthly Revenue\n",
       "12    455\n",
       "14    431\n",
       "13    418\n",
       "10    409\n",
       "15    399\n",
       "11    388\n",
       "Name: count, dtype: int64"
      ]
     },
     "execution_count": 23,
     "metadata": {},
     "output_type": "execute_result"
    }
   ],
   "source": [
    "# Check unique values in Monthly Revenue column\n",
    "df['Monthly Revenue'].value_counts()"
   ]
  },
  {
   "cell_type": "code",
   "execution_count": 24,
   "id": "d5cdf9c0-de72-416e-ba01-2d23a07fbf40",
   "metadata": {},
   "outputs": [
    {
     "data": {
      "text/plain": [
       "Country\n",
       "United States     451\n",
       "Spain             451\n",
       "Canada            317\n",
       "Australia         183\n",
       "Germany           183\n",
       "Mexico            183\n",
       "Brazil            183\n",
       "Italy             183\n",
       "France            183\n",
       "United Kingdom    183\n",
       "Name: count, dtype: int64"
      ]
     },
     "execution_count": 24,
     "metadata": {},
     "output_type": "execute_result"
    }
   ],
   "source": [
    "# Check unique values in Country column\n",
    "df['Country'].value_counts()"
   ]
  },
  {
   "cell_type": "markdown",
   "id": "1c57cb0b-8e17-4d6d-bc3c-bae0d25634b5",
   "metadata": {},
   "source": [
    "### 3. Deriving New Column for Region"
   ]
  },
  {
   "cell_type": "code",
   "execution_count": 45,
   "id": "2a768d94-c271-4dcc-b952-ff27c52b67db",
   "metadata": {},
   "outputs": [],
   "source": [
    "# Create 'Region' column to group countries by region of the world\n",
    "# Dictionary to map countries to regions\n",
    "region_map = {\n",
    "    'United States': 'North America',\n",
    "    'Canada': 'North America',\n",
    "    'Mexico': 'North America',\n",
    "    'Spain': 'Europe',\n",
    "    'Germany': 'Europe',\n",
    "    'Italy': 'Europe',\n",
    "    'France': 'Europe',\n",
    "    'United Kingdom': 'Europe',\n",
    "    'Brazil': 'South America',\n",
    "    'Australia': 'Oceania'\n",
    "}\n",
    "\n",
    "# Create the 'Region' column by mapping the countries to their regions\n",
    "df['Region'] = df['Country'].map(region_map)"
   ]
  },
  {
   "cell_type": "code",
   "execution_count": 47,
   "id": "4261cbf9-5766-46bd-80f2-2031975e5c25",
   "metadata": {},
   "outputs": [
    {
     "data": {
      "text/html": [
       "<div>\n",
       "<style scoped>\n",
       "    .dataframe tbody tr th:only-of-type {\n",
       "        vertical-align: middle;\n",
       "    }\n",
       "\n",
       "    .dataframe tbody tr th {\n",
       "        vertical-align: top;\n",
       "    }\n",
       "\n",
       "    .dataframe thead th {\n",
       "        text-align: right;\n",
       "    }\n",
       "</style>\n",
       "<table border=\"1\" class=\"dataframe\">\n",
       "  <thead>\n",
       "    <tr style=\"text-align: right;\">\n",
       "      <th></th>\n",
       "      <th>User ID</th>\n",
       "      <th>Subscription Type</th>\n",
       "      <th>Monthly Revenue</th>\n",
       "      <th>Join Date</th>\n",
       "      <th>Last Payment Date</th>\n",
       "      <th>Country</th>\n",
       "      <th>Age</th>\n",
       "      <th>Gender</th>\n",
       "      <th>Device</th>\n",
       "      <th>Days Since Join</th>\n",
       "      <th>Region</th>\n",
       "    </tr>\n",
       "  </thead>\n",
       "  <tbody>\n",
       "    <tr>\n",
       "      <th>0</th>\n",
       "      <td>1</td>\n",
       "      <td>Basic</td>\n",
       "      <td>10</td>\n",
       "      <td>1/15/22</td>\n",
       "      <td>10/6/23</td>\n",
       "      <td>United States</td>\n",
       "      <td>28</td>\n",
       "      <td>Male</td>\n",
       "      <td>Smartphone</td>\n",
       "      <td>629</td>\n",
       "      <td>North America</td>\n",
       "    </tr>\n",
       "    <tr>\n",
       "      <th>1</th>\n",
       "      <td>2</td>\n",
       "      <td>Premium</td>\n",
       "      <td>15</td>\n",
       "      <td>5/9/21</td>\n",
       "      <td>6/22/23</td>\n",
       "      <td>Canada</td>\n",
       "      <td>35</td>\n",
       "      <td>Female</td>\n",
       "      <td>Tablet</td>\n",
       "      <td>774</td>\n",
       "      <td>North America</td>\n",
       "    </tr>\n",
       "    <tr>\n",
       "      <th>2</th>\n",
       "      <td>211</td>\n",
       "      <td>Premium</td>\n",
       "      <td>15</td>\n",
       "      <td>11/15/22</td>\n",
       "      <td>6/27/23</td>\n",
       "      <td>United States</td>\n",
       "      <td>40</td>\n",
       "      <td>Male</td>\n",
       "      <td>Tablet</td>\n",
       "      <td>224</td>\n",
       "      <td>North America</td>\n",
       "    </tr>\n",
       "    <tr>\n",
       "      <th>3</th>\n",
       "      <td>4</td>\n",
       "      <td>Standard</td>\n",
       "      <td>12</td>\n",
       "      <td>10/7/22</td>\n",
       "      <td>6/26/23</td>\n",
       "      <td>Australia</td>\n",
       "      <td>51</td>\n",
       "      <td>Female</td>\n",
       "      <td>Laptop</td>\n",
       "      <td>262</td>\n",
       "      <td>Oceania</td>\n",
       "    </tr>\n",
       "    <tr>\n",
       "      <th>4</th>\n",
       "      <td>5</td>\n",
       "      <td>Basic</td>\n",
       "      <td>10</td>\n",
       "      <td>1/5/23</td>\n",
       "      <td>6/28/23</td>\n",
       "      <td>Germany</td>\n",
       "      <td>33</td>\n",
       "      <td>Male</td>\n",
       "      <td>Smartphone</td>\n",
       "      <td>174</td>\n",
       "      <td>Europe</td>\n",
       "    </tr>\n",
       "  </tbody>\n",
       "</table>\n",
       "</div>"
      ],
      "text/plain": [
       "  User ID Subscription Type  Monthly Revenue Join Date Last Payment Date  \\\n",
       "0       1             Basic               10   1/15/22           10/6/23   \n",
       "1       2           Premium               15    5/9/21           6/22/23   \n",
       "2     211           Premium               15  11/15/22           6/27/23   \n",
       "3       4          Standard               12   10/7/22           6/26/23   \n",
       "4       5             Basic               10    1/5/23           6/28/23   \n",
       "\n",
       "         Country  Age  Gender      Device  Days Since Join         Region  \n",
       "0  United States   28    Male  Smartphone              629  North America  \n",
       "1         Canada   35  Female      Tablet              774  North America  \n",
       "2  United States   40    Male      Tablet              224  North America  \n",
       "3      Australia   51  Female      Laptop              262        Oceania  \n",
       "4        Germany   33    Male  Smartphone              174         Europe  "
      ]
     },
     "execution_count": 47,
     "metadata": {},
     "output_type": "execute_result"
    }
   ],
   "source": [
    "# Check for new column\n",
    "df.head(5)"
   ]
  },
  {
   "cell_type": "markdown",
   "id": "dcdf53e1-6997-4269-8520-4f9ead2cbe8d",
   "metadata": {},
   "source": [
    "### 4. Export Updated Dataframe"
   ]
  },
  {
   "cell_type": "code",
   "execution_count": 53,
   "id": "a7b14791-838b-4196-aa28-27cbebb8a2f1",
   "metadata": {},
   "outputs": [],
   "source": [
    "# Export updated dataframe to Prepared Data folder \n",
    "df.to_csv(os.path.join(path, '02 Data','Prepared Data', 'cleaned_derived_netflix_userbase.csv'))"
   ]
  },
  {
   "cell_type": "markdown",
   "id": "684765e9-7e10-42cd-8b47-acd8636644f7",
   "metadata": {},
   "source": []
  }
 ],
 "metadata": {
  "kernelspec": {
   "display_name": "Python 3 (ipykernel)",
   "language": "python",
   "name": "python3"
  },
  "language_info": {
   "codemirror_mode": {
    "name": "ipython",
    "version": 3
   },
   "file_extension": ".py",
   "mimetype": "text/x-python",
   "name": "python",
   "nbconvert_exporter": "python",
   "pygments_lexer": "ipython3",
   "version": "3.11.7"
  }
 },
 "nbformat": 4,
 "nbformat_minor": 5
}
