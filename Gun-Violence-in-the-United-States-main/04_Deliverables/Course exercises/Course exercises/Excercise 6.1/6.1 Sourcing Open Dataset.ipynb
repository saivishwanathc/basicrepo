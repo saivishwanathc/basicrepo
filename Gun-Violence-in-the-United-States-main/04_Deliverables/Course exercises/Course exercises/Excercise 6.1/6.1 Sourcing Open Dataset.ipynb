{
 "cells": [
  {
   "cell_type": "code",
   "execution_count": 2,
   "id": "34356a64-b16b-445b-8852-c277d1f05edc",
   "metadata": {},
   "outputs": [],
   "source": [
    "import pandas as pd\n",
    "\n",
    "# File path and name\n",
    "file_path = r\"C:\\Users\\C SaiVishwanath\\OneDrive - Exel Industries\\Data Analysis\\Data Analytics Immersion\\Advanced Analytics & Dashboard Design\\Raw Data\\gun-violence.csv\"\n",
    "\n",
    "# Load the dataset\n",
    "data = pd.read_csv(file_path)"
   ]
  },
  {
   "cell_type": "code",
   "execution_count": 3,
   "id": "536e3fb6-d8bf-4463-ad8b-f5f3d4a1375d",
   "metadata": {},
   "outputs": [
    {
     "name": "stdout",
     "output_type": "stream",
     "text": [
      "<class 'pandas.core.frame.DataFrame'>\n",
      "RangeIndex: 239677 entries, 0 to 239676\n",
      "Data columns (total 29 columns):\n",
      " #   Column                       Non-Null Count   Dtype  \n",
      "---  ------                       --------------   -----  \n",
      " 0   incident_id                  239677 non-null  int64  \n",
      " 1   date                         239677 non-null  object \n",
      " 2   state                        239677 non-null  object \n",
      " 3   city_or_county               239677 non-null  object \n",
      " 4   address                      223180 non-null  object \n",
      " 5   n_killed                     239677 non-null  int64  \n",
      " 6   n_injured                    239677 non-null  int64  \n",
      " 7   incident_url                 239677 non-null  object \n",
      " 8   source_url                   239209 non-null  object \n",
      " 9   incident_url_fields_missing  239677 non-null  bool   \n",
      " 10  congressional_district       227733 non-null  float64\n",
      " 11  gun_stolen                   140179 non-null  object \n",
      " 12  gun_type                     140226 non-null  object \n",
      " 13  incident_characteristics     239351 non-null  object \n",
      " 14  latitude                     231754 non-null  float64\n",
      " 15  location_description         42089 non-null   object \n",
      " 16  longitude                    231754 non-null  float64\n",
      " 17  n_guns_involved              140226 non-null  float64\n",
      " 18  notes                        158660 non-null  object \n",
      " 19  participant_age              147379 non-null  object \n",
      " 20  participant_age_group        197558 non-null  object \n",
      " 21  participant_gender           203315 non-null  object \n",
      " 22  participant_name             117424 non-null  object \n",
      " 23  participant_relationship     15774 non-null   object \n",
      " 24  participant_status           212051 non-null  object \n",
      " 25  participant_type             214814 non-null  object \n",
      " 26  sources                      239068 non-null  object \n",
      " 27  state_house_district         200905 non-null  float64\n",
      " 28  state_senate_district        207342 non-null  float64\n",
      "dtypes: bool(1), float64(6), int64(3), object(19)\n",
      "memory usage: 51.4+ MB\n",
      "None\n"
     ]
    }
   ],
   "source": [
    "# Check the structure and data types\n",
    "print(data.info())"
   ]
  },
  {
   "cell_type": "code",
   "execution_count": 6,
   "id": "b2656dc3-5488-485d-ba6b-4b6050d79946",
   "metadata": {},
   "outputs": [
    {
     "name": "stdout",
     "output_type": "stream",
     "text": [
      "incident_id                         0\n",
      "date                                0\n",
      "state                               0\n",
      "city_or_county                      0\n",
      "address                         16497\n",
      "n_killed                            0\n",
      "n_injured                           0\n",
      "incident_url                        0\n",
      "source_url                        468\n",
      "incident_url_fields_missing         0\n",
      "congressional_district          11944\n",
      "gun_stolen                      99498\n",
      "gun_type                        99451\n",
      "incident_characteristics          326\n",
      "latitude                         7923\n",
      "location_description           197588\n",
      "longitude                        7923\n",
      "n_guns_involved                 99451\n",
      "notes                           81017\n",
      "participant_age                 92298\n",
      "participant_age_group           42119\n",
      "participant_gender              36362\n",
      "participant_name               122253\n",
      "participant_relationship       223903\n",
      "participant_status              27626\n",
      "participant_type                24863\n",
      "sources                           609\n",
      "state_house_district            38772\n",
      "state_senate_district           32335\n",
      "dtype: int64\n"
     ]
    }
   ],
   "source": [
    "# Check for missing values\n",
    "missing_values = data.isnull().sum()\n",
    "print(missing_values)"
   ]
  },
  {
   "cell_type": "code",
   "execution_count": 7,
   "id": "88272ba9-10bb-4bf5-8e30-e4053cb1ab4f",
   "metadata": {},
   "outputs": [
    {
     "name": "stdout",
     "output_type": "stream",
     "text": [
      "incident_id                        0\n",
      "date                               0\n",
      "state                              0\n",
      "city_or_county                     0\n",
      "address                        16497\n",
      "n_killed                           0\n",
      "n_injured                          0\n",
      "incident_url                       0\n",
      "source_url                       468\n",
      "incident_url_fields_missing        0\n",
      "congressional_district         11944\n",
      "gun_stolen                         0\n",
      "gun_type                           0\n",
      "incident_characteristics         326\n",
      "latitude                           0\n",
      "longitude                          0\n",
      "n_guns_involved                    0\n",
      "notes                          81017\n",
      "participant_age                92298\n",
      "participant_age_group              0\n",
      "participant_gender                 0\n",
      "participant_status             27626\n",
      "participant_type               24863\n",
      "sources                          609\n",
      "state_house_district           38772\n",
      "state_senate_district          32335\n",
      "dtype: int64\n"
     ]
    }
   ],
   "source": [
    "# Drop columns with over 80% missing data\n",
    "columns_to_drop = ['participant_relationship', 'location_description', 'participant_name']\n",
    "data_cleaned = data.drop(columns=columns_to_drop)\n",
    "\n",
    "# Fill missing values for categorical data with \"Unknown\"\n",
    "categorical_fill = ['gun_stolen', 'gun_type', 'participant_age_group', 'participant_gender']\n",
    "for col in categorical_fill:\n",
    "    data_cleaned[col] = data_cleaned[col].fillna('Unknown')\n",
    "\n",
    "# Fill missing numerical data with the median\n",
    "numerical_fill = ['latitude', 'longitude', 'n_guns_involved']\n",
    "for col in numerical_fill:\n",
    "    data_cleaned[col] = data_cleaned[col].fillna(data_cleaned[col].median())\n",
    "\n",
    "# Verify cleaning results\n",
    "print(data_cleaned.isnull().sum())"
   ]
  },
  {
   "cell_type": "code",
   "execution_count": 8,
   "id": "b57cf2ab-ea21-43f6-ae6c-17c4f39ae339",
   "metadata": {},
   "outputs": [
    {
     "name": "stdout",
     "output_type": "stream",
     "text": [
      "0   2013-01-01\n",
      "1   2013-01-01\n",
      "2   2013-01-01\n",
      "3   2013-01-05\n",
      "4   2013-01-07\n",
      "Name: date, dtype: datetime64[ns]\n"
     ]
    }
   ],
   "source": [
    "# Convert the 'date' column to datetime format\n",
    "data_cleaned['date'] = pd.to_datetime(data_cleaned['date'])\n",
    "\n",
    "# Verify the conversion\n",
    "print(data_cleaned['date'].head())"
   ]
  },
  {
   "cell_type": "code",
   "execution_count": 10,
   "id": "2ab9a296-c93b-4204-9f33-2f7ca07401b4",
   "metadata": {},
   "outputs": [
    {
     "name": "stdout",
     "output_type": "stream",
     "text": [
      "incident_id                        0\n",
      "date                               0\n",
      "state                              0\n",
      "city_or_county                     0\n",
      "address                        16497\n",
      "n_killed                           0\n",
      "n_injured                          0\n",
      "incident_url                       0\n",
      "source_url                       468\n",
      "incident_url_fields_missing        0\n",
      "congressional_district         11944\n",
      "gun_stolen                         0\n",
      "gun_type                           0\n",
      "incident_characteristics         326\n",
      "latitude                           0\n",
      "longitude                          0\n",
      "n_guns_involved                    0\n",
      "notes                          81017\n",
      "participant_age                92298\n",
      "participant_age_group              0\n",
      "participant_gender                 0\n",
      "participant_status             27626\n",
      "participant_type               24863\n",
      "sources                          609\n",
      "state_house_district           38772\n",
      "state_senate_district          32335\n",
      "dtype: int64\n"
     ]
    }
   ],
   "source": [
    "print(data_cleaned.isnull().sum())"
   ]
  },
  {
   "cell_type": "code",
   "execution_count": 11,
   "id": "7fc1778b-dfdc-4a10-8156-e0ebb782828d",
   "metadata": {},
   "outputs": [
    {
     "name": "stdout",
     "output_type": "stream",
     "text": [
      "incident_id                        0\n",
      "date                               0\n",
      "state                              0\n",
      "city_or_county                     0\n",
      "address                            0\n",
      "n_killed                           0\n",
      "n_injured                          0\n",
      "incident_url                       0\n",
      "source_url                         0\n",
      "incident_url_fields_missing        0\n",
      "congressional_district             0\n",
      "gun_stolen                         0\n",
      "gun_type                           0\n",
      "incident_characteristics           0\n",
      "latitude                           0\n",
      "longitude                          0\n",
      "n_guns_involved                    0\n",
      "notes                              0\n",
      "participant_age                92298\n",
      "participant_age_group              0\n",
      "participant_gender                 0\n",
      "participant_status                 0\n",
      "participant_type                   0\n",
      "sources                          609\n",
      "state_house_district               0\n",
      "state_senate_district              0\n",
      "dtype: int64\n"
     ]
    }
   ],
   "source": [
    "# Fill categorical/text columns with \"Unknown\"\n",
    "text_columns = ['address', 'source_url', 'incident_characteristics', 'notes', 'participant_status', 'participant_type']\n",
    "for col in text_columns:\n",
    "    data_cleaned[col] = data_cleaned[col].fillna('Unknown')\n",
    "\n",
    "# Fill numerical columns with -1 as a placeholder\n",
    "numerical_columns = ['congressional_district', 'state_house_district', 'state_senate_district']\n",
    "for col in numerical_columns:\n",
    "    data_cleaned[col] = data_cleaned[col].fillna(-1)\n",
    "\n",
    "# Confirm missing values after cleaning\n",
    "print(data_cleaned.isnull().sum())"
   ]
  },
  {
   "cell_type": "code",
   "execution_count": 12,
   "id": "881b287e-a775-46c7-a140-f56fd86709bc",
   "metadata": {},
   "outputs": [
    {
     "name": "stdout",
     "output_type": "stream",
     "text": [
      "participant_age    92298\n",
      "sources              609\n",
      "dtype: int64\n"
     ]
    }
   ],
   "source": [
    "# Confirm missing values in the dataset\n",
    "remaining_missing = data_cleaned.isnull().sum()\n",
    "print(remaining_missing[remaining_missing > 0])\n"
   ]
  },
  {
   "cell_type": "code",
   "execution_count": 13,
   "id": "99abdac3-339c-4002-9e61-e8b494b3e00a",
   "metadata": {},
   "outputs": [
    {
     "name": "stdout",
     "output_type": "stream",
     "text": [
      "0\n"
     ]
    }
   ],
   "source": [
    "# Fill missing values in 'sources' with 'Unknown'\n",
    "data_cleaned['sources'] = data_cleaned['sources'].fillna('Unknown')\n",
    "\n",
    "# Verify the change\n",
    "print(data_cleaned['sources'].isnull().sum())\n"
   ]
  },
  {
   "cell_type": "code",
   "execution_count": 14,
   "id": "e6f9e66e-ebab-47fb-a1eb-c3a730d4b3ff",
   "metadata": {},
   "outputs": [
    {
     "name": "stdout",
     "output_type": "stream",
     "text": [
      "object\n",
      "0                                    0::20\n",
      "1                                    0::20\n",
      "2        0::25||1::31||2::33||3::34||4::33\n",
      "3               0::29||1::33||2::56||3::33\n",
      "4               0::18||1::46||2::14||3::47\n",
      "5               0::23||1::23||2::33||3::55\n",
      "6    0::51||1::40||2::9||3::5||4::2||5::15\n",
      "7                                      NaN\n",
      "8                                      NaN\n",
      "9                                    0::15\n",
      "Name: participant_age, dtype: object\n"
     ]
    }
   ],
   "source": [
    "# Check the data type and a sample of the participant_age column\n",
    "print(data_cleaned['participant_age'].dtype)\n",
    "print(data_cleaned['participant_age'].head(10))"
   ]
  },
  {
   "cell_type": "code",
   "execution_count": 15,
   "id": "7c6a7602-2712-4fe7-9a07-f21bc6ab118d",
   "metadata": {},
   "outputs": [
    {
     "name": "stdout",
     "output_type": "stream",
     "text": [
      "Index(['incident_id', 'date', 'state', 'city_or_county', 'address', 'n_killed',\n",
      "       'n_injured', 'incident_url', 'source_url',\n",
      "       'incident_url_fields_missing', 'congressional_district', 'gun_stolen',\n",
      "       'gun_type', 'incident_characteristics', 'latitude', 'longitude',\n",
      "       'n_guns_involved', 'notes', 'participant_age_group',\n",
      "       'participant_gender', 'participant_status', 'participant_type',\n",
      "       'sources', 'state_house_district', 'state_senate_district'],\n",
      "      dtype='object')\n"
     ]
    }
   ],
   "source": [
    "# Drop the 'participant_age' column\n",
    "data_cleaned = data_cleaned.drop(columns=['participant_age'])\n",
    "\n",
    "# Verify the column is dropped\n",
    "print(data_cleaned.columns)"
   ]
  },
  {
   "cell_type": "code",
   "execution_count": 18,
   "id": "2c5165a1-3cb8-462b-947c-1c646f9cd278",
   "metadata": {},
   "outputs": [
    {
     "name": "stdout",
     "output_type": "stream",
     "text": [
      "Cleaned dataset saved successfully!\n"
     ]
    }
   ],
   "source": [
    "import os\n",
    "\n",
    "# Define the directory path\n",
    "directory_path = r\"C:\\Users\\C SaiVishwanath\\OneDrive - Exel Industries\\Data Analysis\\Data Analytics Immersion\\Advanced Analytics & Dashboard Design\\Cleaned Data\"\n",
    "\n",
    "# Create the directory if it doesn't exist\n",
    "os.makedirs(directory_path, exist_ok=True)\n",
    "\n",
    "# Save the cleaned dataset\n",
    "cleaned_file_path = os.path.join(directory_path, \"gun-violence-cleaned.csv\")\n",
    "data_cleaned.to_csv(cleaned_file_path, index=False)\n",
    "\n",
    "print(\"Cleaned dataset saved successfully!\")"
   ]
  },
  {
   "cell_type": "code",
   "execution_count": null,
   "id": "75170597-23dc-4716-81f3-bdaed564f25c",
   "metadata": {},
   "outputs": [],
   "source": []
  }
 ],
 "metadata": {
  "kernelspec": {
   "display_name": "Python 3 (ipykernel)",
   "language": "python",
   "name": "python3"
  },
  "language_info": {
   "codemirror_mode": {
    "name": "ipython",
    "version": 3
   },
   "file_extension": ".py",
   "mimetype": "text/x-python",
   "name": "python",
   "nbconvert_exporter": "python",
   "pygments_lexer": "ipython3",
   "version": "3.12.4"
  }
 },
 "nbformat": 4,
 "nbformat_minor": 5
}
