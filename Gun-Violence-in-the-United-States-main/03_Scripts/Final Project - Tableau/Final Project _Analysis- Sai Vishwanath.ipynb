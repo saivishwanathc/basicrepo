{
 "cells": [
  {
   "cell_type": "markdown",
   "id": "2009335d-57a8-4ef2-bc9a-3e88fe7fb1c3",
   "metadata": {},
   "source": [
    "# 6.7 Final Project: Tableau Dashboards and Final Analysis"
   ]
  },
  {
   "cell_type": "markdown",
   "id": "58f98094-c4ae-4a27-b18c-de9743cce28b",
   "metadata": {},
   "source": [
    "## About this notebook"
   ]
  },
  {
   "cell_type": "markdown",
   "id": "3f977167-98a8-42a0-8974-e36fe914504e",
   "metadata": {},
   "source": [
    "This notebook contains a final iteration of all the techniques and methodologies practiced in this achievement. This iteration introduces suplementary datasets to delve deeper into the observations made throughout the case study. The datasets include an index of gun law strength and gun violence by Everytown, a non-governmental research organization in the United States focused on gun violence prevention, and population densities at state and county granularity.\n",
    "\n",
    "The objective of this notebook is to re-perform exploratory analysis, geographic visualization, linear regression and cluster analysis.\n"
   ]
  },
  {
   "cell_type": "markdown",
   "id": "7d6bf89a-9a77-4346-bd16-aa82dc4f7811",
   "metadata": {},
   "source": [
    "## Part 2"
   ]
  },
  {
   "cell_type": "markdown",
   "id": "1e9f0ee3-6748-469c-a6eb-eb24418e82b8",
   "metadata": {},
   "source": [
    "### This script contains"
   ]
  },
  {
   "cell_type": "markdown",
   "id": "67179f8f-9ec2-4ad2-914e-db0e952ba583",
   "metadata": {},
   "source": [
    "##### 1. Import of libraries and data\n",
    "##### 2. Data wramgling\n",
    "##### 3. Exploratory analysis\n",
    "##### 4. Linear regression\n",
    "##### 5. Unsupervised machine learning: clustering"
   ]
  },
  {
   "cell_type": "markdown",
   "id": "a8269bc4-21eb-4f5b-b033-0544b94ff3b1",
   "metadata": {},
   "source": [
    "#### 1. Import of libraries and data"
   ]
  },
  {
   "cell_type": "code",
   "execution_count": 17,
   "id": "fd24a448-dbd8-4eab-8eb6-433e78e02dcb",
   "metadata": {},
   "outputs": [],
   "source": [
    "import pandas as pd\n",
    "import numpy as np\n",
    "import seaborn as sns\n",
    "import matplotlib\n",
    "import matplotlib.pyplot as plt\n",
    "import os\n",
    "import sklearn\n",
    "from sklearn.model_selection import train_test_split\n",
    "from sklearn.linear_model import LinearRegression\n",
    "from sklearn.metrics import mean_squared_error, r2_score\n",
    "from sklearn.cluster import KMeans \n",
    "import pylab as pl\n",
    "import folium\n",
    "import json\n",
    "import geojson"
   ]
  },
  {
   "cell_type": "code",
   "execution_count": 19,
   "id": "c1656ee8-1d14-4349-a703-e44cac6c114f",
   "metadata": {},
   "outputs": [],
   "source": [
    "#Ensuring matplotlib display \n",
    "%matplotlib inline"
   ]
  },
  {
   "cell_type": "code",
   "execution_count": 21,
   "id": "aa1ec274-0f97-4ed7-9917-a690bd227880",
   "metadata": {},
   "outputs": [],
   "source": [
    "#Importing files\n",
    "path = r'C:/Users/C SaiVishwanath/Documents/CF/Data Immersion/Achievement 6'"
   ]
  },
  {
   "cell_type": "code",
   "execution_count": 23,
   "id": "bf52e6b2-4a37-4e5e-8751-fb7887ab1859",
   "metadata": {},
   "outputs": [],
   "source": [
    "df = pd.read_csv(os.path.join(path, '02_Data', 'Prepared', '150425_finalproject_2.csv'), index_col = False, encoding='latin1')"
   ]
  },
  {
   "cell_type": "code",
   "execution_count": 25,
   "id": "b92ff3da-65fc-4190-8406-f64f976f77ea",
   "metadata": {},
   "outputs": [],
   "source": [
    "county_geo = r'C:/Users/C SaiVishwanath/Documents/CF/Data Immersion/Achievement 6/02_Data/Original/counties.geojson'"
   ]
  },
  {
   "cell_type": "markdown",
   "id": "a6b6e988-4aa4-4052-a00b-70be8e433b38",
   "metadata": {},
   "source": [
    "#### 2. Data wrangling"
   ]
  },
  {
   "cell_type": "code",
   "execution_count": 28,
   "id": "a3bb9ea5-fd7f-4677-a975-e7407c01b2b9",
   "metadata": {},
   "outputs": [
    {
     "data": {
      "text/html": [
       "<div>\n",
       "<style scoped>\n",
       "    .dataframe tbody tr th:only-of-type {\n",
       "        vertical-align: middle;\n",
       "    }\n",
       "\n",
       "    .dataframe tbody tr th {\n",
       "        vertical-align: top;\n",
       "    }\n",
       "\n",
       "    .dataframe thead th {\n",
       "        text-align: right;\n",
       "    }\n",
       "</style>\n",
       "<table border=\"1\" class=\"dataframe\">\n",
       "  <thead>\n",
       "    <tr style=\"text-align: right;\">\n",
       "      <th></th>\n",
       "      <th>Unnamed: 0</th>\n",
       "      <th>Incident_ID</th>\n",
       "      <th>Date</th>\n",
       "      <th>Year</th>\n",
       "      <th>Month</th>\n",
       "      <th>Year_Month_State</th>\n",
       "      <th>State</th>\n",
       "      <th>County</th>\n",
       "      <th>City</th>\n",
       "      <th>Lat</th>\n",
       "      <th>...</th>\n",
       "      <th>Suspects_Injured</th>\n",
       "      <th>Suspects_Arrested</th>\n",
       "      <th>Shootings_State</th>\n",
       "      <th>Shootings_County</th>\n",
       "      <th>Handguns_Sold</th>\n",
       "      <th>Long_Guns_Sold</th>\n",
       "      <th>Total_Guns_Sold</th>\n",
       "      <th>Gun_Law_Strength</th>\n",
       "      <th>Gun_Violence_Rate</th>\n",
       "      <th>Category</th>\n",
       "    </tr>\n",
       "  </thead>\n",
       "  <tbody>\n",
       "    <tr>\n",
       "      <th>0</th>\n",
       "      <td>0</td>\n",
       "      <td>3181158</td>\n",
       "      <td>2025-04-09</td>\n",
       "      <td>2025</td>\n",
       "      <td>4</td>\n",
       "      <td>2025-4-Tennessee</td>\n",
       "      <td>Tennessee</td>\n",
       "      <td>Shelby</td>\n",
       "      <td>Memphis</td>\n",
       "      <td>35.1087</td>\n",
       "      <td>...</td>\n",
       "      <td>0</td>\n",
       "      <td>0</td>\n",
       "      <td>30</td>\n",
       "      <td>3</td>\n",
       "      <td>0.0</td>\n",
       "      <td>0.0</td>\n",
       "      <td>0.0</td>\n",
       "      <td>14</td>\n",
       "      <td>22</td>\n",
       "      <td>Weak systems</td>\n",
       "    </tr>\n",
       "    <tr>\n",
       "      <th>1</th>\n",
       "      <td>1</td>\n",
       "      <td>3181158</td>\n",
       "      <td>2025-04-09</td>\n",
       "      <td>2025</td>\n",
       "      <td>4</td>\n",
       "      <td>2025-4-Tennessee</td>\n",
       "      <td>Tennessee</td>\n",
       "      <td>Shelby</td>\n",
       "      <td>Memphis</td>\n",
       "      <td>35.1087</td>\n",
       "      <td>...</td>\n",
       "      <td>0</td>\n",
       "      <td>0</td>\n",
       "      <td>30</td>\n",
       "      <td>3</td>\n",
       "      <td>0.0</td>\n",
       "      <td>0.0</td>\n",
       "      <td>0.0</td>\n",
       "      <td>14</td>\n",
       "      <td>22</td>\n",
       "      <td>Weak systems</td>\n",
       "    </tr>\n",
       "    <tr>\n",
       "      <th>2</th>\n",
       "      <td>2</td>\n",
       "      <td>3181158</td>\n",
       "      <td>2025-04-09</td>\n",
       "      <td>2025</td>\n",
       "      <td>4</td>\n",
       "      <td>2025-4-Tennessee</td>\n",
       "      <td>Tennessee</td>\n",
       "      <td>Shelby</td>\n",
       "      <td>Memphis</td>\n",
       "      <td>35.1087</td>\n",
       "      <td>...</td>\n",
       "      <td>0</td>\n",
       "      <td>0</td>\n",
       "      <td>30</td>\n",
       "      <td>3</td>\n",
       "      <td>0.0</td>\n",
       "      <td>0.0</td>\n",
       "      <td>0.0</td>\n",
       "      <td>14</td>\n",
       "      <td>22</td>\n",
       "      <td>Weak systems</td>\n",
       "    </tr>\n",
       "    <tr>\n",
       "      <th>3</th>\n",
       "      <td>3</td>\n",
       "      <td>3181158</td>\n",
       "      <td>2025-04-09</td>\n",
       "      <td>2025</td>\n",
       "      <td>4</td>\n",
       "      <td>2025-4-Tennessee</td>\n",
       "      <td>Tennessee</td>\n",
       "      <td>Shelby</td>\n",
       "      <td>Memphis</td>\n",
       "      <td>35.1087</td>\n",
       "      <td>...</td>\n",
       "      <td>0</td>\n",
       "      <td>0</td>\n",
       "      <td>30</td>\n",
       "      <td>3</td>\n",
       "      <td>0.0</td>\n",
       "      <td>0.0</td>\n",
       "      <td>0.0</td>\n",
       "      <td>14</td>\n",
       "      <td>22</td>\n",
       "      <td>Weak systems</td>\n",
       "    </tr>\n",
       "    <tr>\n",
       "      <th>4</th>\n",
       "      <td>4</td>\n",
       "      <td>3181158</td>\n",
       "      <td>2025-04-09</td>\n",
       "      <td>2025</td>\n",
       "      <td>4</td>\n",
       "      <td>2025-4-Tennessee</td>\n",
       "      <td>Tennessee</td>\n",
       "      <td>Shelby</td>\n",
       "      <td>Memphis</td>\n",
       "      <td>35.1087</td>\n",
       "      <td>...</td>\n",
       "      <td>0</td>\n",
       "      <td>0</td>\n",
       "      <td>30</td>\n",
       "      <td>3</td>\n",
       "      <td>0.0</td>\n",
       "      <td>0.0</td>\n",
       "      <td>0.0</td>\n",
       "      <td>14</td>\n",
       "      <td>22</td>\n",
       "      <td>Weak systems</td>\n",
       "    </tr>\n",
       "  </tbody>\n",
       "</table>\n",
       "<p>5 rows × 28 columns</p>\n",
       "</div>"
      ],
      "text/plain": [
       "   Unnamed: 0  Incident_ID        Date  Year  Month  Year_Month_State  \\\n",
       "0           0      3181158  2025-04-09  2025      4  2025-4-Tennessee   \n",
       "1           1      3181158  2025-04-09  2025      4  2025-4-Tennessee   \n",
       "2           2      3181158  2025-04-09  2025      4  2025-4-Tennessee   \n",
       "3           3      3181158  2025-04-09  2025      4  2025-4-Tennessee   \n",
       "4           4      3181158  2025-04-09  2025      4  2025-4-Tennessee   \n",
       "\n",
       "       State  County     City      Lat  ...  Suspects_Injured  \\\n",
       "0  Tennessee  Shelby  Memphis  35.1087  ...                 0   \n",
       "1  Tennessee  Shelby  Memphis  35.1087  ...                 0   \n",
       "2  Tennessee  Shelby  Memphis  35.1087  ...                 0   \n",
       "3  Tennessee  Shelby  Memphis  35.1087  ...                 0   \n",
       "4  Tennessee  Shelby  Memphis  35.1087  ...                 0   \n",
       "\n",
       "   Suspects_Arrested  Shootings_State  Shootings_County  Handguns_Sold  \\\n",
       "0                  0               30                 3            0.0   \n",
       "1                  0               30                 3            0.0   \n",
       "2                  0               30                 3            0.0   \n",
       "3                  0               30                 3            0.0   \n",
       "4                  0               30                 3            0.0   \n",
       "\n",
       "   Long_Guns_Sold  Total_Guns_Sold  Gun_Law_Strength  Gun_Violence_Rate  \\\n",
       "0             0.0              0.0                14                 22   \n",
       "1             0.0              0.0                14                 22   \n",
       "2             0.0              0.0                14                 22   \n",
       "3             0.0              0.0                14                 22   \n",
       "4             0.0              0.0                14                 22   \n",
       "\n",
       "       Category  \n",
       "0  Weak systems  \n",
       "1  Weak systems  \n",
       "2  Weak systems  \n",
       "3  Weak systems  \n",
       "4  Weak systems  \n",
       "\n",
       "[5 rows x 28 columns]"
      ]
     },
     "execution_count": 28,
     "metadata": {},
     "output_type": "execute_result"
    }
   ],
   "source": [
    "df.head()"
   ]
  },
  {
   "cell_type": "code",
   "execution_count": 32,
   "id": "3e0dbfbe-1859-4df8-b39a-8c65bcd6dd42",
   "metadata": {},
   "outputs": [
    {
     "data": {
      "text/plain": [
       "Unnamed: 0              0\n",
       "Incident_ID             0\n",
       "Date                    0\n",
       "Year                    0\n",
       "Month                   0\n",
       "Year_Month_State        0\n",
       "State                   0\n",
       "County                  0\n",
       "City                    0\n",
       "Lat                     0\n",
       "Long                    0\n",
       "Population              0\n",
       "St_Pop_Density_sqmi     0\n",
       "Cty_Pop_Density_sqmi    0\n",
       "Victims_Killed          0\n",
       "Victims_Injured         0\n",
       "Total_Harmed_Victims    0\n",
       "Suspects_Killed         0\n",
       "Suspects_Injured        0\n",
       "Suspects_Arrested       0\n",
       "Shootings_State         0\n",
       "Shootings_County        0\n",
       "Handguns_Sold           0\n",
       "Long_Guns_Sold          0\n",
       "Total_Guns_Sold         0\n",
       "Gun_Law_Strength        0\n",
       "Gun_Violence_Rate       0\n",
       "Category                0\n",
       "dtype: int64"
      ]
     },
     "execution_count": 32,
     "metadata": {},
     "output_type": "execute_result"
    }
   ],
   "source": [
    "#Checking null values\n",
    "df.isnull().sum()"
   ]
  },
  {
   "cell_type": "code",
   "execution_count": 34,
   "id": "a8b0d95d-4281-4227-989d-1ae549715529",
   "metadata": {},
   "outputs": [
    {
     "data": {
      "text/plain": [
       "0"
      ]
     },
     "execution_count": 34,
     "metadata": {},
     "output_type": "execute_result"
    }
   ],
   "source": [
    "#Checking duplicates\n",
    "dups = df.duplicated()\n",
    "dups.sum()"
   ]
  },
  {
   "cell_type": "code",
   "execution_count": 36,
   "id": "4d48e024-62d5-4d0a-9aa8-24a431454d52",
   "metadata": {},
   "outputs": [
    {
     "data": {
      "text/plain": [
       "Unnamed: 0                int64\n",
       "Incident_ID               int64\n",
       "Date                     object\n",
       "Year                      int64\n",
       "Month                     int64\n",
       "Year_Month_State         object\n",
       "State                    object\n",
       "County                   object\n",
       "City                     object\n",
       "Lat                     float64\n",
       "Long                    float64\n",
       "Population              float64\n",
       "St_Pop_Density_sqmi     float64\n",
       "Cty_Pop_Density_sqmi    float64\n",
       "Victims_Killed            int64\n",
       "Victims_Injured           int64\n",
       "Total_Harmed_Victims      int64\n",
       "Suspects_Killed           int64\n",
       "Suspects_Injured          int64\n",
       "Suspects_Arrested         int64\n",
       "Shootings_State           int64\n",
       "Shootings_County          int64\n",
       "Handguns_Sold           float64\n",
       "Long_Guns_Sold          float64\n",
       "Total_Guns_Sold         float64\n",
       "Gun_Law_Strength         object\n",
       "Gun_Violence_Rate        object\n",
       "Category                 object\n",
       "dtype: object"
      ]
     },
     "execution_count": 36,
     "metadata": {},
     "output_type": "execute_result"
    }
   ],
   "source": [
    "df.dtypes"
   ]
  },
  {
   "cell_type": "code",
   "execution_count": 38,
   "id": "d41a1708-ae68-4f16-a9a7-0b7ffbc95568",
   "metadata": {},
   "outputs": [
    {
     "ename": "ValueError",
     "evalue": "invalid literal for int() with base 10: '90,5'",
     "output_type": "error",
     "traceback": [
      "\u001b[1;31m---------------------------------------------------------------------------\u001b[0m",
      "\u001b[1;31mValueError\u001b[0m                                Traceback (most recent call last)",
      "Cell \u001b[1;32mIn[38], line 5\u001b[0m\n\u001b[0;32m      1\u001b[0m \u001b[38;5;66;03m#Changing data types of 'Gun_Law_Strength' and 'Gun_Violence_Rate'\u001b[39;00m\n\u001b[0;32m      3\u001b[0m cols \u001b[38;5;241m=\u001b[39m [\u001b[38;5;124m'\u001b[39m\u001b[38;5;124mGun_Law_Strength\u001b[39m\u001b[38;5;124m'\u001b[39m, \u001b[38;5;124m'\u001b[39m\u001b[38;5;124mGun_Violence_Rate\u001b[39m\u001b[38;5;124m'\u001b[39m]\n\u001b[1;32m----> 5\u001b[0m df[cols] \u001b[38;5;241m=\u001b[39m df[cols]\u001b[38;5;241m.\u001b[39mastype(\u001b[38;5;28mint\u001b[39m)\n",
      "File \u001b[1;32m~\\anaconda3\\Lib\\site-packages\\pandas\\core\\generic.py:6643\u001b[0m, in \u001b[0;36mNDFrame.astype\u001b[1;34m(self, dtype, copy, errors)\u001b[0m\n\u001b[0;32m   6637\u001b[0m     results \u001b[38;5;241m=\u001b[39m [\n\u001b[0;32m   6638\u001b[0m         ser\u001b[38;5;241m.\u001b[39mastype(dtype, copy\u001b[38;5;241m=\u001b[39mcopy, errors\u001b[38;5;241m=\u001b[39merrors) \u001b[38;5;28;01mfor\u001b[39;00m _, ser \u001b[38;5;129;01min\u001b[39;00m \u001b[38;5;28mself\u001b[39m\u001b[38;5;241m.\u001b[39mitems()\n\u001b[0;32m   6639\u001b[0m     ]\n\u001b[0;32m   6641\u001b[0m \u001b[38;5;28;01melse\u001b[39;00m:\n\u001b[0;32m   6642\u001b[0m     \u001b[38;5;66;03m# else, only a single dtype is given\u001b[39;00m\n\u001b[1;32m-> 6643\u001b[0m     new_data \u001b[38;5;241m=\u001b[39m \u001b[38;5;28mself\u001b[39m\u001b[38;5;241m.\u001b[39m_mgr\u001b[38;5;241m.\u001b[39mastype(dtype\u001b[38;5;241m=\u001b[39mdtype, copy\u001b[38;5;241m=\u001b[39mcopy, errors\u001b[38;5;241m=\u001b[39merrors)\n\u001b[0;32m   6644\u001b[0m     res \u001b[38;5;241m=\u001b[39m \u001b[38;5;28mself\u001b[39m\u001b[38;5;241m.\u001b[39m_constructor_from_mgr(new_data, axes\u001b[38;5;241m=\u001b[39mnew_data\u001b[38;5;241m.\u001b[39maxes)\n\u001b[0;32m   6645\u001b[0m     \u001b[38;5;28;01mreturn\u001b[39;00m res\u001b[38;5;241m.\u001b[39m__finalize__(\u001b[38;5;28mself\u001b[39m, method\u001b[38;5;241m=\u001b[39m\u001b[38;5;124m\"\u001b[39m\u001b[38;5;124mastype\u001b[39m\u001b[38;5;124m\"\u001b[39m)\n",
      "File \u001b[1;32m~\\anaconda3\\Lib\\site-packages\\pandas\\core\\internals\\managers.py:430\u001b[0m, in \u001b[0;36mBaseBlockManager.astype\u001b[1;34m(self, dtype, copy, errors)\u001b[0m\n\u001b[0;32m    427\u001b[0m \u001b[38;5;28;01melif\u001b[39;00m using_copy_on_write():\n\u001b[0;32m    428\u001b[0m     copy \u001b[38;5;241m=\u001b[39m \u001b[38;5;28;01mFalse\u001b[39;00m\n\u001b[1;32m--> 430\u001b[0m \u001b[38;5;28;01mreturn\u001b[39;00m \u001b[38;5;28mself\u001b[39m\u001b[38;5;241m.\u001b[39mapply(\n\u001b[0;32m    431\u001b[0m     \u001b[38;5;124m\"\u001b[39m\u001b[38;5;124mastype\u001b[39m\u001b[38;5;124m\"\u001b[39m,\n\u001b[0;32m    432\u001b[0m     dtype\u001b[38;5;241m=\u001b[39mdtype,\n\u001b[0;32m    433\u001b[0m     copy\u001b[38;5;241m=\u001b[39mcopy,\n\u001b[0;32m    434\u001b[0m     errors\u001b[38;5;241m=\u001b[39merrors,\n\u001b[0;32m    435\u001b[0m     using_cow\u001b[38;5;241m=\u001b[39musing_copy_on_write(),\n\u001b[0;32m    436\u001b[0m )\n",
      "File \u001b[1;32m~\\anaconda3\\Lib\\site-packages\\pandas\\core\\internals\\managers.py:363\u001b[0m, in \u001b[0;36mBaseBlockManager.apply\u001b[1;34m(self, f, align_keys, **kwargs)\u001b[0m\n\u001b[0;32m    361\u001b[0m         applied \u001b[38;5;241m=\u001b[39m b\u001b[38;5;241m.\u001b[39mapply(f, \u001b[38;5;241m*\u001b[39m\u001b[38;5;241m*\u001b[39mkwargs)\n\u001b[0;32m    362\u001b[0m     \u001b[38;5;28;01melse\u001b[39;00m:\n\u001b[1;32m--> 363\u001b[0m         applied \u001b[38;5;241m=\u001b[39m \u001b[38;5;28mgetattr\u001b[39m(b, f)(\u001b[38;5;241m*\u001b[39m\u001b[38;5;241m*\u001b[39mkwargs)\n\u001b[0;32m    364\u001b[0m     result_blocks \u001b[38;5;241m=\u001b[39m extend_blocks(applied, result_blocks)\n\u001b[0;32m    366\u001b[0m out \u001b[38;5;241m=\u001b[39m \u001b[38;5;28mtype\u001b[39m(\u001b[38;5;28mself\u001b[39m)\u001b[38;5;241m.\u001b[39mfrom_blocks(result_blocks, \u001b[38;5;28mself\u001b[39m\u001b[38;5;241m.\u001b[39maxes)\n",
      "File \u001b[1;32m~\\anaconda3\\Lib\\site-packages\\pandas\\core\\internals\\blocks.py:758\u001b[0m, in \u001b[0;36mBlock.astype\u001b[1;34m(self, dtype, copy, errors, using_cow, squeeze)\u001b[0m\n\u001b[0;32m    755\u001b[0m         \u001b[38;5;28;01mraise\u001b[39;00m \u001b[38;5;167;01mValueError\u001b[39;00m(\u001b[38;5;124m\"\u001b[39m\u001b[38;5;124mCan not squeeze with more than one column.\u001b[39m\u001b[38;5;124m\"\u001b[39m)\n\u001b[0;32m    756\u001b[0m     values \u001b[38;5;241m=\u001b[39m values[\u001b[38;5;241m0\u001b[39m, :]  \u001b[38;5;66;03m# type: ignore[call-overload]\u001b[39;00m\n\u001b[1;32m--> 758\u001b[0m new_values \u001b[38;5;241m=\u001b[39m astype_array_safe(values, dtype, copy\u001b[38;5;241m=\u001b[39mcopy, errors\u001b[38;5;241m=\u001b[39merrors)\n\u001b[0;32m    760\u001b[0m new_values \u001b[38;5;241m=\u001b[39m maybe_coerce_values(new_values)\n\u001b[0;32m    762\u001b[0m refs \u001b[38;5;241m=\u001b[39m \u001b[38;5;28;01mNone\u001b[39;00m\n",
      "File \u001b[1;32m~\\anaconda3\\Lib\\site-packages\\pandas\\core\\dtypes\\astype.py:237\u001b[0m, in \u001b[0;36mastype_array_safe\u001b[1;34m(values, dtype, copy, errors)\u001b[0m\n\u001b[0;32m    234\u001b[0m     dtype \u001b[38;5;241m=\u001b[39m dtype\u001b[38;5;241m.\u001b[39mnumpy_dtype\n\u001b[0;32m    236\u001b[0m \u001b[38;5;28;01mtry\u001b[39;00m:\n\u001b[1;32m--> 237\u001b[0m     new_values \u001b[38;5;241m=\u001b[39m astype_array(values, dtype, copy\u001b[38;5;241m=\u001b[39mcopy)\n\u001b[0;32m    238\u001b[0m \u001b[38;5;28;01mexcept\u001b[39;00m (\u001b[38;5;167;01mValueError\u001b[39;00m, \u001b[38;5;167;01mTypeError\u001b[39;00m):\n\u001b[0;32m    239\u001b[0m     \u001b[38;5;66;03m# e.g. _astype_nansafe can fail on object-dtype of strings\u001b[39;00m\n\u001b[0;32m    240\u001b[0m     \u001b[38;5;66;03m#  trying to convert to float\u001b[39;00m\n\u001b[0;32m    241\u001b[0m     \u001b[38;5;28;01mif\u001b[39;00m errors \u001b[38;5;241m==\u001b[39m \u001b[38;5;124m\"\u001b[39m\u001b[38;5;124mignore\u001b[39m\u001b[38;5;124m\"\u001b[39m:\n",
      "File \u001b[1;32m~\\anaconda3\\Lib\\site-packages\\pandas\\core\\dtypes\\astype.py:182\u001b[0m, in \u001b[0;36mastype_array\u001b[1;34m(values, dtype, copy)\u001b[0m\n\u001b[0;32m    179\u001b[0m     values \u001b[38;5;241m=\u001b[39m values\u001b[38;5;241m.\u001b[39mastype(dtype, copy\u001b[38;5;241m=\u001b[39mcopy)\n\u001b[0;32m    181\u001b[0m \u001b[38;5;28;01melse\u001b[39;00m:\n\u001b[1;32m--> 182\u001b[0m     values \u001b[38;5;241m=\u001b[39m _astype_nansafe(values, dtype, copy\u001b[38;5;241m=\u001b[39mcopy)\n\u001b[0;32m    184\u001b[0m \u001b[38;5;66;03m# in pandas we don't store numpy str dtypes, so convert to object\u001b[39;00m\n\u001b[0;32m    185\u001b[0m \u001b[38;5;28;01mif\u001b[39;00m \u001b[38;5;28misinstance\u001b[39m(dtype, np\u001b[38;5;241m.\u001b[39mdtype) \u001b[38;5;129;01mand\u001b[39;00m \u001b[38;5;28missubclass\u001b[39m(values\u001b[38;5;241m.\u001b[39mdtype\u001b[38;5;241m.\u001b[39mtype, \u001b[38;5;28mstr\u001b[39m):\n",
      "File \u001b[1;32m~\\anaconda3\\Lib\\site-packages\\pandas\\core\\dtypes\\astype.py:133\u001b[0m, in \u001b[0;36m_astype_nansafe\u001b[1;34m(arr, dtype, copy, skipna)\u001b[0m\n\u001b[0;32m    129\u001b[0m     \u001b[38;5;28;01mraise\u001b[39;00m \u001b[38;5;167;01mValueError\u001b[39;00m(msg)\n\u001b[0;32m    131\u001b[0m \u001b[38;5;28;01mif\u001b[39;00m copy \u001b[38;5;129;01mor\u001b[39;00m arr\u001b[38;5;241m.\u001b[39mdtype \u001b[38;5;241m==\u001b[39m \u001b[38;5;28mobject\u001b[39m \u001b[38;5;129;01mor\u001b[39;00m dtype \u001b[38;5;241m==\u001b[39m \u001b[38;5;28mobject\u001b[39m:\n\u001b[0;32m    132\u001b[0m     \u001b[38;5;66;03m# Explicit copy, or required since NumPy can't view from / to object.\u001b[39;00m\n\u001b[1;32m--> 133\u001b[0m     \u001b[38;5;28;01mreturn\u001b[39;00m arr\u001b[38;5;241m.\u001b[39mastype(dtype, copy\u001b[38;5;241m=\u001b[39m\u001b[38;5;28;01mTrue\u001b[39;00m)\n\u001b[0;32m    135\u001b[0m \u001b[38;5;28;01mreturn\u001b[39;00m arr\u001b[38;5;241m.\u001b[39mastype(dtype, copy\u001b[38;5;241m=\u001b[39mcopy)\n",
      "\u001b[1;31mValueError\u001b[0m: invalid literal for int() with base 10: '90,5'"
     ]
    }
   ],
   "source": [
    "#Changing data types of 'Gun_Law_Strength' and 'Gun_Violence_Rate'\n",
    "\n",
    "cols = ['Gun_Law_Strength', 'Gun_Violence_Rate']\n",
    "\n",
    "df[cols] = df[cols].astype(int)"
   ]
  },
  {
   "cell_type": "code",
   "execution_count": 40,
   "id": "982e646c-eedf-4576-9864-67fcaea785eb",
   "metadata": {},
   "outputs": [],
   "source": [
    "cols_to_fix = ['Gun_Law_Strength', 'Gun_Violence_Rate']\n",
    "\n",
    "for col in cols_to_fix:\n",
    "    df[col] = df[col].str.replace(',', '.', regex=False).astype(float)"
   ]
  },
  {
   "cell_type": "code",
   "execution_count": 42,
   "id": "6685071b-4eb7-4702-b645-cca7a104a5d8",
   "metadata": {},
   "outputs": [],
   "source": [
    "#Retry: Changing data types of 'Gun_Law_Strength' and 'Gun_Violence_Rate'\n",
    "\n",
    "cols = ['Gun_Law_Strength', 'Gun_Violence_Rate']\n",
    "\n",
    "df[cols] = df[cols].astype(float)"
   ]
  },
  {
   "cell_type": "code",
   "execution_count": 44,
   "id": "a344e1dd-0d44-4ed1-b28e-e31eab61ecf4",
   "metadata": {},
   "outputs": [
    {
     "data": {
      "text/plain": [
       "Unnamed: 0                int64\n",
       "Incident_ID               int64\n",
       "Date                     object\n",
       "Year                      int64\n",
       "Month                     int64\n",
       "Year_Month_State         object\n",
       "State                    object\n",
       "County                   object\n",
       "City                     object\n",
       "Lat                     float64\n",
       "Long                    float64\n",
       "Population              float64\n",
       "St_Pop_Density_sqmi     float64\n",
       "Cty_Pop_Density_sqmi    float64\n",
       "Victims_Killed            int64\n",
       "Victims_Injured           int64\n",
       "Total_Harmed_Victims      int64\n",
       "Suspects_Killed           int64\n",
       "Suspects_Injured          int64\n",
       "Suspects_Arrested         int64\n",
       "Shootings_State           int64\n",
       "Shootings_County          int64\n",
       "Handguns_Sold           float64\n",
       "Long_Guns_Sold          float64\n",
       "Total_Guns_Sold         float64\n",
       "Gun_Law_Strength        float64\n",
       "Gun_Violence_Rate       float64\n",
       "Category                 object\n",
       "dtype: object"
      ]
     },
     "execution_count": 44,
     "metadata": {},
     "output_type": "execute_result"
    }
   ],
   "source": [
    "df.dtypes"
   ]
  },
  {
   "cell_type": "code",
   "execution_count": 46,
   "id": "08618ca8-9688-46f6-be92-3b0996474219",
   "metadata": {},
   "outputs": [
    {
     "data": {
      "text/html": [
       "<div>\n",
       "<style scoped>\n",
       "    .dataframe tbody tr th:only-of-type {\n",
       "        vertical-align: middle;\n",
       "    }\n",
       "\n",
       "    .dataframe tbody tr th {\n",
       "        vertical-align: top;\n",
       "    }\n",
       "\n",
       "    .dataframe thead th {\n",
       "        text-align: right;\n",
       "    }\n",
       "</style>\n",
       "<table border=\"1\" class=\"dataframe\">\n",
       "  <thead>\n",
       "    <tr style=\"text-align: right;\">\n",
       "      <th></th>\n",
       "      <th>Unnamed: 0</th>\n",
       "      <th>Incident_ID</th>\n",
       "      <th>Year</th>\n",
       "      <th>Month</th>\n",
       "      <th>Lat</th>\n",
       "      <th>Long</th>\n",
       "      <th>Population</th>\n",
       "      <th>St_Pop_Density_sqmi</th>\n",
       "      <th>Cty_Pop_Density_sqmi</th>\n",
       "      <th>Victims_Killed</th>\n",
       "      <th>...</th>\n",
       "      <th>Suspects_Killed</th>\n",
       "      <th>Suspects_Injured</th>\n",
       "      <th>Suspects_Arrested</th>\n",
       "      <th>Shootings_State</th>\n",
       "      <th>Shootings_County</th>\n",
       "      <th>Handguns_Sold</th>\n",
       "      <th>Long_Guns_Sold</th>\n",
       "      <th>Total_Guns_Sold</th>\n",
       "      <th>Gun_Law_Strength</th>\n",
       "      <th>Gun_Violence_Rate</th>\n",
       "    </tr>\n",
       "  </thead>\n",
       "  <tbody>\n",
       "    <tr>\n",
       "      <th>count</th>\n",
       "      <td>577567.000000</td>\n",
       "      <td>5.775670e+05</td>\n",
       "      <td>577567.000000</td>\n",
       "      <td>577567.000000</td>\n",
       "      <td>577567.000000</td>\n",
       "      <td>577567.000000</td>\n",
       "      <td>5.775670e+05</td>\n",
       "      <td>577567.000000</td>\n",
       "      <td>577567.000000</td>\n",
       "      <td>577567.000000</td>\n",
       "      <td>...</td>\n",
       "      <td>577567.000000</td>\n",
       "      <td>577567.000000</td>\n",
       "      <td>577567.000000</td>\n",
       "      <td>577567.000000</td>\n",
       "      <td>577567.000000</td>\n",
       "      <td>577567.00000</td>\n",
       "      <td>577567.000000</td>\n",
       "      <td>577567.000000</td>\n",
       "      <td>577567.000000</td>\n",
       "      <td>577567.000000</td>\n",
       "    </tr>\n",
       "    <tr>\n",
       "      <th>mean</th>\n",
       "      <td>301407.434938</td>\n",
       "      <td>2.293309e+06</td>\n",
       "      <td>2021.809828</td>\n",
       "      <td>6.624535</td>\n",
       "      <td>38.520081</td>\n",
       "      <td>-89.442507</td>\n",
       "      <td>1.190317e+05</td>\n",
       "      <td>161.358477</td>\n",
       "      <td>278.341495</td>\n",
       "      <td>0.974309</td>\n",
       "      <td>...</td>\n",
       "      <td>0.071072</td>\n",
       "      <td>0.048349</td>\n",
       "      <td>0.719018</td>\n",
       "      <td>531.901327</td>\n",
       "      <td>116.764857</td>\n",
       "      <td>29717.49949</td>\n",
       "      <td>18222.764919</td>\n",
       "      <td>47940.245166</td>\n",
       "      <td>22.104334</td>\n",
       "      <td>17.922015</td>\n",
       "    </tr>\n",
       "    <tr>\n",
       "      <th>std</th>\n",
       "      <td>173861.911250</td>\n",
       "      <td>5.998540e+05</td>\n",
       "      <td>2.030511</td>\n",
       "      <td>3.020515</td>\n",
       "      <td>3.768586</td>\n",
       "      <td>9.886973</td>\n",
       "      <td>5.856961e+05</td>\n",
       "      <td>133.274546</td>\n",
       "      <td>1740.351146</td>\n",
       "      <td>1.231360</td>\n",
       "      <td>...</td>\n",
       "      <td>0.263158</td>\n",
       "      <td>0.235878</td>\n",
       "      <td>1.129136</td>\n",
       "      <td>328.231340</td>\n",
       "      <td>118.250978</td>\n",
       "      <td>24361.01782</td>\n",
       "      <td>12213.802803</td>\n",
       "      <td>35541.889313</td>\n",
       "      <td>23.027833</td>\n",
       "      <td>6.539153</td>\n",
       "    </tr>\n",
       "    <tr>\n",
       "      <th>min</th>\n",
       "      <td>0.000000</td>\n",
       "      <td>2.720160e+05</td>\n",
       "      <td>2015.000000</td>\n",
       "      <td>1.000000</td>\n",
       "      <td>17.977800</td>\n",
       "      <td>-170.274300</td>\n",
       "      <td>0.000000e+00</td>\n",
       "      <td>0.000000</td>\n",
       "      <td>0.000000</td>\n",
       "      <td>0.000000</td>\n",
       "      <td>...</td>\n",
       "      <td>0.000000</td>\n",
       "      <td>0.000000</td>\n",
       "      <td>0.000000</td>\n",
       "      <td>1.000000</td>\n",
       "      <td>1.000000</td>\n",
       "      <td>0.00000</td>\n",
       "      <td>0.000000</td>\n",
       "      <td>0.000000</td>\n",
       "      <td>0.000000</td>\n",
       "      <td>0.000000</td>\n",
       "    </tr>\n",
       "    <tr>\n",
       "      <th>25%</th>\n",
       "      <td>150819.500000</td>\n",
       "      <td>1.793559e+06</td>\n",
       "      <td>2020.000000</td>\n",
       "      <td>4.000000</td>\n",
       "      <td>35.949000</td>\n",
       "      <td>-94.145100</td>\n",
       "      <td>1.094500e+04</td>\n",
       "      <td>87.100000</td>\n",
       "      <td>24.000000</td>\n",
       "      <td>0.000000</td>\n",
       "      <td>...</td>\n",
       "      <td>0.000000</td>\n",
       "      <td>0.000000</td>\n",
       "      <td>0.000000</td>\n",
       "      <td>267.000000</td>\n",
       "      <td>24.000000</td>\n",
       "      <td>11663.00000</td>\n",
       "      <td>10337.000000</td>\n",
       "      <td>22170.000000</td>\n",
       "      <td>8.000000</td>\n",
       "      <td>14.900000</td>\n",
       "    </tr>\n",
       "    <tr>\n",
       "      <th>50%</th>\n",
       "      <td>301340.000000</td>\n",
       "      <td>2.423331e+06</td>\n",
       "      <td>2022.000000</td>\n",
       "      <td>7.000000</td>\n",
       "      <td>39.044800</td>\n",
       "      <td>-87.686600</td>\n",
       "      <td>2.718200e+04</td>\n",
       "      <td>109.900000</td>\n",
       "      <td>55.000000</td>\n",
       "      <td>1.000000</td>\n",
       "      <td>...</td>\n",
       "      <td>0.000000</td>\n",
       "      <td>0.000000</td>\n",
       "      <td>0.000000</td>\n",
       "      <td>497.000000</td>\n",
       "      <td>72.000000</td>\n",
       "      <td>23205.00000</td>\n",
       "      <td>15336.000000</td>\n",
       "      <td>37650.000000</td>\n",
       "      <td>14.000000</td>\n",
       "      <td>16.600000</td>\n",
       "    </tr>\n",
       "    <tr>\n",
       "      <th>75%</th>\n",
       "      <td>452052.500000</td>\n",
       "      <td>2.737798e+06</td>\n",
       "      <td>2023.000000</td>\n",
       "      <td>9.000000</td>\n",
       "      <td>40.576600</td>\n",
       "      <td>-82.985500</td>\n",
       "      <td>6.434100e+04</td>\n",
       "      <td>202.600000</td>\n",
       "      <td>161.000000</td>\n",
       "      <td>1.000000</td>\n",
       "      <td>...</td>\n",
       "      <td>0.000000</td>\n",
       "      <td>0.000000</td>\n",
       "      <td>1.000000</td>\n",
       "      <td>712.000000</td>\n",
       "      <td>180.000000</td>\n",
       "      <td>36602.00000</td>\n",
       "      <td>22864.000000</td>\n",
       "      <td>60215.000000</td>\n",
       "      <td>24.500000</td>\n",
       "      <td>22.000000</td>\n",
       "    </tr>\n",
       "    <tr>\n",
       "      <th>max</th>\n",
       "      <td>602115.000000</td>\n",
       "      <td>3.181158e+06</td>\n",
       "      <td>2025.000000</td>\n",
       "      <td>12.000000</td>\n",
       "      <td>68.344500</td>\n",
       "      <td>-65.773300</td>\n",
       "      <td>3.129083e+07</td>\n",
       "      <td>1195.500000</td>\n",
       "      <td>70915.000000</td>\n",
       "      <td>60.000000</td>\n",
       "      <td>...</td>\n",
       "      <td>3.000000</td>\n",
       "      <td>5.000000</td>\n",
       "      <td>14.000000</td>\n",
       "      <td>1303.000000</td>\n",
       "      <td>483.000000</td>\n",
       "      <td>171600.00000</td>\n",
       "      <td>102546.000000</td>\n",
       "      <td>248724.000000</td>\n",
       "      <td>90.500000</td>\n",
       "      <td>29.400000</td>\n",
       "    </tr>\n",
       "  </tbody>\n",
       "</table>\n",
       "<p>8 rows × 22 columns</p>\n",
       "</div>"
      ],
      "text/plain": [
       "          Unnamed: 0   Incident_ID           Year          Month  \\\n",
       "count  577567.000000  5.775670e+05  577567.000000  577567.000000   \n",
       "mean   301407.434938  2.293309e+06    2021.809828       6.624535   \n",
       "std    173861.911250  5.998540e+05       2.030511       3.020515   \n",
       "min         0.000000  2.720160e+05    2015.000000       1.000000   \n",
       "25%    150819.500000  1.793559e+06    2020.000000       4.000000   \n",
       "50%    301340.000000  2.423331e+06    2022.000000       7.000000   \n",
       "75%    452052.500000  2.737798e+06    2023.000000       9.000000   \n",
       "max    602115.000000  3.181158e+06    2025.000000      12.000000   \n",
       "\n",
       "                 Lat           Long    Population  St_Pop_Density_sqmi  \\\n",
       "count  577567.000000  577567.000000  5.775670e+05        577567.000000   \n",
       "mean       38.520081     -89.442507  1.190317e+05           161.358477   \n",
       "std         3.768586       9.886973  5.856961e+05           133.274546   \n",
       "min        17.977800    -170.274300  0.000000e+00             0.000000   \n",
       "25%        35.949000     -94.145100  1.094500e+04            87.100000   \n",
       "50%        39.044800     -87.686600  2.718200e+04           109.900000   \n",
       "75%        40.576600     -82.985500  6.434100e+04           202.600000   \n",
       "max        68.344500     -65.773300  3.129083e+07          1195.500000   \n",
       "\n",
       "       Cty_Pop_Density_sqmi  Victims_Killed  ...  Suspects_Killed  \\\n",
       "count         577567.000000   577567.000000  ...    577567.000000   \n",
       "mean             278.341495        0.974309  ...         0.071072   \n",
       "std             1740.351146        1.231360  ...         0.263158   \n",
       "min                0.000000        0.000000  ...         0.000000   \n",
       "25%               24.000000        0.000000  ...         0.000000   \n",
       "50%               55.000000        1.000000  ...         0.000000   \n",
       "75%              161.000000        1.000000  ...         0.000000   \n",
       "max            70915.000000       60.000000  ...         3.000000   \n",
       "\n",
       "       Suspects_Injured  Suspects_Arrested  Shootings_State  Shootings_County  \\\n",
       "count     577567.000000      577567.000000    577567.000000     577567.000000   \n",
       "mean           0.048349           0.719018       531.901327        116.764857   \n",
       "std            0.235878           1.129136       328.231340        118.250978   \n",
       "min            0.000000           0.000000         1.000000          1.000000   \n",
       "25%            0.000000           0.000000       267.000000         24.000000   \n",
       "50%            0.000000           0.000000       497.000000         72.000000   \n",
       "75%            0.000000           1.000000       712.000000        180.000000   \n",
       "max            5.000000          14.000000      1303.000000        483.000000   \n",
       "\n",
       "       Handguns_Sold  Long_Guns_Sold  Total_Guns_Sold  Gun_Law_Strength  \\\n",
       "count   577567.00000   577567.000000    577567.000000     577567.000000   \n",
       "mean     29717.49949    18222.764919     47940.245166         22.104334   \n",
       "std      24361.01782    12213.802803     35541.889313         23.027833   \n",
       "min          0.00000        0.000000         0.000000          0.000000   \n",
       "25%      11663.00000    10337.000000     22170.000000          8.000000   \n",
       "50%      23205.00000    15336.000000     37650.000000         14.000000   \n",
       "75%      36602.00000    22864.000000     60215.000000         24.500000   \n",
       "max     171600.00000   102546.000000    248724.000000         90.500000   \n",
       "\n",
       "       Gun_Violence_Rate  \n",
       "count      577567.000000  \n",
       "mean           17.922015  \n",
       "std             6.539153  \n",
       "min             0.000000  \n",
       "25%            14.900000  \n",
       "50%            16.600000  \n",
       "75%            22.000000  \n",
       "max            29.400000  \n",
       "\n",
       "[8 rows x 22 columns]"
      ]
     },
     "execution_count": 46,
     "metadata": {},
     "output_type": "execute_result"
    }
   ],
   "source": [
    "df.describe()"
   ]
  },
  {
   "cell_type": "code",
   "execution_count": 48,
   "id": "74d375c3-276e-4c28-a0ac-d6e7e7132153",
   "metadata": {},
   "outputs": [],
   "source": [
    "df.to_csv(os.path.join(path, '02_Data', 'Prepared', '150425_finalproject_3.csv'))"
   ]
  },
  {
   "cell_type": "markdown",
   "id": "ba7859f5-f85d-43d0-84aa-1c85ff0e6f25",
   "metadata": {},
   "source": [
    "#### 3. Exploratory analysis"
   ]
  },
  {
   "cell_type": "markdown",
   "id": "02ccd1b7-0d72-48a5-829a-eb7982171dfa",
   "metadata": {},
   "source": [
    "##### Heatmaps"
   ]
  },
  {
   "cell_type": "code",
   "execution_count": null,
   "id": "ee57369c-ae29-4dd5-ab28-efd198eb4ad1",
   "metadata": {},
   "outputs": [],
   "source": [
    "# Create a correlation matrix using pandas\n",
    "df.corr()"
   ]
  },
  {
   "cell_type": "code",
   "execution_count": null,
   "id": "35027781-5c3c-4cd4-b939-fd969afd6ecb",
   "metadata": {},
   "outputs": [],
   "source": [
    "df.columns"
   ]
  },
  {
   "cell_type": "code",
   "execution_count": null,
   "id": "b6dfb179-c255-4e4e-a34e-9e3e929564a4",
   "metadata": {},
   "outputs": [],
   "source": [
    "#Creating subset\n",
    "sub = df[['Incident_ID', 'Year', 'Month',\n",
    "       'Lat', 'Long', \n",
    "       'St_Pop_Density_sqmi', 'Cty_Pop_Density_sqmi', 'Victims_Killed',\n",
    "       'Victims_Injured', 'Total_Harmed_Victims', 'Suspects_Killed',\n",
    "       'Suspects_Injured', 'Suspects_Arrested', 'Shootings_State',\n",
    "       'Shootings_County', 'Handguns_Sold', 'Long_Guns_Sold',\n",
    "       'Total_Guns_Sold', 'Gun_Law_Strength', 'Gun_Violence_Rate'\n",
    "         ]]"
   ]
  },
  {
   "cell_type": "code",
   "execution_count": null,
   "id": "81bebf71-434a-4190-a7bb-1d90c2471bbc",
   "metadata": {},
   "outputs": [],
   "source": [
    "sub.corr()"
   ]
  },
  {
   "cell_type": "code",
   "execution_count": null,
   "id": "bb6ee8b0-db34-4e9b-8e6a-73d01e70ca9a",
   "metadata": {},
   "outputs": [],
   "source": [
    "# Create a correlation heatmap using matplotlib\n",
    "\n",
    "plt.matshow(sub.corr())\n",
    "plt.show()\n",
    "\n",
    "# Add labels, a legend, and change the size of the heatmap\n",
    "f = plt.figure(figsize=(8, 8)) \n",
    "plt.matshow(df.corr(numeric_only=True), fignum=f.number) \n",
    "plt.xticks(range(sub.shape[1]), df.columns, fontsize=14, rotation=45)\n",
    "plt.yticks(range(sub.shape[1]), df.columns, fontsize=14)\n",
    "cb = plt.colorbar() \n",
    "cb.ax.tick_params(labelsize=14) \n",
    "plt.title('Correlation Matrix', fontsize=14)"
   ]
  },
  {
   "cell_type": "code",
   "execution_count": null,
   "id": "1aed7d94-a703-4608-8b42-eef914772b3d",
   "metadata": {},
   "outputs": [],
   "source": [
    "# Create a subplot with matplotlib\n",
    "f,ax = plt.subplots(figsize=(20,20))\n",
    "\n",
    "# Create the correlation heatmap in seaborn by applying a heatmap onto the correlation matrix and the subplots defined above.\n",
    "corr = sns.heatmap(sub.corr(), annot = True, ax = ax) \n",
    "plt.show()"
   ]
  },
  {
   "cell_type": "markdown",
   "id": "5ece12ec-be4f-430b-ad12-a16375f5c87e",
   "metadata": {},
   "source": [
    "Initially, the correlations between gun law and variables like shootings per state or number of guns sold is not strongly correlated. However there is a slight negative correlation between gun law strength index and gun violence rate, demonstrating a possible relationship between legislation and the level of violence. At the same time, gun law strength seems to have a strong correlation with statal population density. "
   ]
  },
  {
   "cell_type": "markdown",
   "id": "1f3d67c2-299c-4970-94f2-5c3708e19e20",
   "metadata": {},
   "source": [
    "##### Scatterplot for gun law strength and guns sold, then for gun law strength and shootings"
   ]
  },
  {
   "cell_type": "code",
   "execution_count": null,
   "id": "59772756-8454-4efb-ae62-374a65e86e6c",
   "metadata": {},
   "outputs": [],
   "source": [
    "scp_1 = sns.lmplot(x = 'Gun_Law_Strength', y = 'Total_Guns_Sold', data = sub)\n",
    "plt.show()"
   ]
  },
  {
   "cell_type": "code",
   "execution_count": null,
   "id": "d6970d56-1802-4f25-b208-e883b48a33b4",
   "metadata": {},
   "outputs": [],
   "source": [
    "scp_2 = sns.lmplot(x = 'Gun_Law_Strength', y = 'Shootings_State', data = sub)\n",
    "plt.show()"
   ]
  },
  {
   "cell_type": "markdown",
   "id": "b7b5de74-0bbd-4973-a4ef-d54b6f968dce",
   "metadata": {},
   "source": [
    "On the first graph we can appreciate a very slight positive correlation, while in the second, a slightly more visible negative correlation: The stronger gun laws, the less shootings there are. But this does not mean causation."
   ]
  },
  {
   "cell_type": "markdown",
   "id": "bb5bec52-464e-45c8-b955-b6be22df12d7",
   "metadata": {},
   "source": [
    "##### Pair plots"
   ]
  },
  {
   "cell_type": "code",
   "execution_count": null,
   "id": "58cb5049-2868-40b3-bf08-4ee87cc3a745",
   "metadata": {},
   "outputs": [],
   "source": [
    "# Keep only the variables you want to use in the pair plot\n",
    "\n",
    "sub_2 = sub[['St_Pop_Density_sqmi', 'Total_Harmed_Victims', 'Shootings_State', \n",
    "          'Total_Guns_Sold', 'Gun_Law_Strength', 'Gun_Violence_Rate']]"
   ]
  },
  {
   "cell_type": "code",
   "execution_count": null,
   "id": "37af167d-9a24-4941-807a-8e2e4f0f4db6",
   "metadata": {},
   "outputs": [],
   "source": [
    "# Create a pair plot \n",
    "g = sns.pairplot(sub_2)\n",
    "plt.show()"
   ]
  },
  {
   "cell_type": "markdown",
   "id": "9ec3c886-d8dd-4923-9605-3cbf55e5de69",
   "metadata": {},
   "source": [
    "#### 4. Linear regression"
   ]
  },
  {
   "cell_type": "code",
   "execution_count": null,
   "id": "0158ea78-67ab-4ea3-a991-d9deb86a7350",
   "metadata": {},
   "outputs": [],
   "source": [
    "#Extreme value check\n",
    "sns.distplot(df['St_Pop_Density_sqmi'], bins=25)\n",
    "plt.show()\n",
    "sns.distplot(df['Gun_Law_Strength'], bins=25)\n",
    "plt.show()"
   ]
  },
  {
   "cell_type": "code",
   "execution_count": null,
   "id": "707fc203-a776-4e1b-aa16-f23876945ff0",
   "metadata": {},
   "outputs": [],
   "source": [
    "df['St_Pop_Density_sqmi'].describe()"
   ]
  },
  {
   "cell_type": "code",
   "execution_count": null,
   "id": "82f0c1d6-4c42-40e9-855a-5400290a80fb",
   "metadata": {},
   "outputs": [],
   "source": [
    "df['St_Pop_Density_sqmi'].median()"
   ]
  },
  {
   "cell_type": "code",
   "execution_count": null,
   "id": "cb5dbdeb-105c-4a6e-93e1-6ab1462b39c9",
   "metadata": {},
   "outputs": [],
   "source": [
    "df['Gun_Law_Strength'].describe()"
   ]
  },
  {
   "cell_type": "code",
   "execution_count": null,
   "id": "ec93b63c-c6ae-461a-b2c9-f6ec5d139f88",
   "metadata": {},
   "outputs": [],
   "source": [
    "df['Gun_Law_Strength'].median()"
   ]
  },
  {
   "cell_type": "code",
   "execution_count": null,
   "id": "8b135484-03d1-49d5-ac4c-6633f0a5e51f",
   "metadata": {},
   "outputs": [],
   "source": [
    "#Scatterplot with matplotlib\n",
    "df.plot(x = 'St_Pop_Density_sqmi', y='Gun_Law_Strength',style='o') \n",
    "plt.title('State population density vs. Gun Law Strength Index')  \n",
    "plt.xlabel('Population density')  \n",
    "plt.ylabel('Gun Law Strength Index')  \n",
    "plt.show()"
   ]
  },
  {
   "cell_type": "code",
   "execution_count": null,
   "id": "9746a446-0c3f-40ba-b97a-3bdb63b0314a",
   "metadata": {},
   "outputs": [],
   "source": [
    "#Reshaping variables to NumPy arrays & putting them into separate objects\n",
    "\n",
    "X = df['St_Pop_Density_sqmi'].values.reshape(-1,1)\n",
    "y = df['Gun_Law_Strength'].values.reshape(-1,1)"
   ]
  },
  {
   "cell_type": "code",
   "execution_count": null,
   "id": "270f6580-f1ca-4026-a7fb-5863ff4062c8",
   "metadata": {},
   "outputs": [],
   "source": [
    "X"
   ]
  },
  {
   "cell_type": "code",
   "execution_count": null,
   "id": "d2a984e6-0d01-4597-b3e3-ca0ca6980d7c",
   "metadata": {},
   "outputs": [],
   "source": [
    "# Split data into a training set and a test set\n",
    "X_train, X_test, y_train, y_test = train_test_split(X, y, test_size=0.3, random_state=0)"
   ]
  },
  {
   "cell_type": "code",
   "execution_count": null,
   "id": "a46a4660-988e-4187-b5d3-7b389fc8a7c1",
   "metadata": {},
   "outputs": [],
   "source": [
    "#Creating regression object\n",
    "regression = LinearRegression()"
   ]
  },
  {
   "cell_type": "code",
   "execution_count": null,
   "id": "0d89e9e8-84f2-4c19-a6ab-d14b0e3bc4c1",
   "metadata": {},
   "outputs": [],
   "source": [
    "#Fit the regression object onto training set\n",
    "regression.fit(X_train, y_train)"
   ]
  },
  {
   "cell_type": "code",
   "execution_count": null,
   "id": "002d0573-5bbe-4345-a25a-6d8bcd6abc40",
   "metadata": {},
   "outputs": [],
   "source": [
    "# Predict the values of y using X.\n",
    "y_predicted = regression.predict(X_test)"
   ]
  },
  {
   "cell_type": "code",
   "execution_count": null,
   "id": "293deae9-7e87-41a6-8e17-64edd60366ad",
   "metadata": {},
   "outputs": [],
   "source": [
    "#Plot that shows regression line from model on test set\n",
    "plot_test = plt\n",
    "plot_test.scatter(X_test, y_test, color='gray', s = 15)\n",
    "plot_test.plot(X_test, y_predicted, color='red', linewidth =3)\n",
    "plot_test.title('State population density vs. Gun Law Strength Index (Test set)')\n",
    "plot_test.xlabel('Population density')\n",
    "plot_test.ylabel('Gun Law Strength Index')\n",
    "plot_test.show()"
   ]
  },
  {
   "cell_type": "code",
   "execution_count": null,
   "id": "75b2a74d-9d51-4081-b04e-92a16df831d0",
   "metadata": {},
   "outputs": [],
   "source": [
    "#Create objects containing model summary statistics\n",
    "\n",
    "rmse = mean_squared_error(y_test, y_predicted) #Mean sq. error\n",
    "r2 = r2_score(y_test, y_predicted) #R2 score"
   ]
  },
  {
   "cell_type": "code",
   "execution_count": null,
   "id": "d699666e-12d3-4097-8119-e88851a46327",
   "metadata": {},
   "outputs": [],
   "source": [
    "#Print summary statistics\n",
    "print('Slope:' ,regression.coef_)\n",
    "print('Mean squared error: ', rmse)\n",
    "print('R2 score: ', r2)"
   ]
  },
  {
   "cell_type": "code",
   "execution_count": null,
   "id": "accab042-cf84-433a-bf3c-1e7260d4421d",
   "metadata": {},
   "outputs": [],
   "source": [
    "#Dataframe comparing actual and predicted values of y\n",
    "data = pd.DataFrame({'Actual': y_test.flatten(), 'Predicted': y_predicted.flatten()})\n",
    "data.head(30)"
   ]
  },
  {
   "cell_type": "code",
   "execution_count": null,
   "id": "c8c2b3f0-55f7-4b2e-b869-d2b0ffeaa4d5",
   "metadata": {},
   "outputs": [],
   "source": [
    "#Predicting X_train\n",
    "y_predicted_train = regression.predict(X_train)"
   ]
  },
  {
   "cell_type": "code",
   "execution_count": null,
   "id": "d5990a85-daae-4cba-b6ae-e02d21dd4bac",
   "metadata": {},
   "outputs": [],
   "source": [
    "rmse = mean_squared_error(y_train, y_predicted_train)\n",
    "r2 = r2_score(y_train, y_predicted_train)"
   ]
  },
  {
   "cell_type": "code",
   "execution_count": null,
   "id": "d2a945c5-271e-4c24-9abe-88fa9e780d16",
   "metadata": {},
   "outputs": [],
   "source": [
    "print('Slope:' ,regression.coef_)\n",
    "print('Mean squared error: ', rmse)\n",
    "print('R2 score: ', r2)"
   ]
  },
  {
   "cell_type": "code",
   "execution_count": null,
   "id": "b1eb0926-6a61-4fca-b463-aafe52a439c7",
   "metadata": {},
   "outputs": [],
   "source": [
    "#Visualizing results\n",
    "plot_test = plt\n",
    "plot_test.scatter(X_train, y_train, color='green', s = 15)\n",
    "plot_test.plot(X_train, y_predicted_train, color='red', linewidth =3)\n",
    "plot_test.title('State population density vs. Gun Law Strength Index (Train set)')\n",
    "plot_test.xlabel('Population density')\n",
    "plot_test.ylabel('Gun Law Strength Index')\n",
    "plot_test.show()"
   ]
  },
  {
   "cell_type": "markdown",
   "id": "cd6c9951-5177-4f42-9142-efca95f5b70e",
   "metadata": {},
   "source": [
    "##### Interpretation"
   ]
  },
  {
   "cell_type": "markdown",
   "id": "0402ad2a-bda0-4452-8e4e-eb036fee1a99",
   "metadata": {},
   "source": [
    "The model shows a very small slope and a low R² score (~0.3), meaning it explains just over 38% of the variance in the data. While the model does provide predictions somewhat close to the actual values in magnitude, it fails to capture meaningful patterns or variability in the target variable."
   ]
  },
  {
   "cell_type": "markdown",
   "id": "23129ba5-dac9-43bb-ac41-3b5ac46e1ee0",
   "metadata": {},
   "source": [
    "#### 4. Unsupervised machine learning: clustering"
   ]
  },
  {
   "cell_type": "markdown",
   "id": "d6987fc9-1548-4759-8395-4d63424a65de",
   "metadata": {},
   "source": [
    "##### Iteration 1: State population density x Shootings per state"
   ]
  },
  {
   "cell_type": "markdown",
   "id": "ec41df5c-2baa-4a94-9803-7019f0882dd9",
   "metadata": {},
   "source": [
    "##### Elbow technique"
   ]
  },
  {
   "cell_type": "code",
   "execution_count": null,
   "id": "32895eb7-ea59-4a3e-8cd0-b6e423342e55",
   "metadata": {},
   "outputs": [],
   "source": [
    "#Defining range of potential clusters\n",
    "num_cl = range(1, 10) \n",
    "#Defining k-means clusters in assigned range\n",
    "kmeans = [KMeans(n_clusters=i) for i in num_cl]"
   ]
  },
  {
   "cell_type": "code",
   "execution_count": null,
   "id": "add47eb7-77c9-4d84-aaa9-5387dbd986fa",
   "metadata": {},
   "outputs": [],
   "source": [
    "#Creating score representing rate of variation for the given cluster option\n",
    "score = [kmeans[i].fit(sub).score(sub) for i in range(len(kmeans))]"
   ]
  },
  {
   "cell_type": "code",
   "execution_count": null,
   "id": "e5285d3c-01eb-44a9-828b-8ff452ec8a45",
   "metadata": {},
   "outputs": [],
   "source": [
    "#Plotting elbow\n",
    "pl.plot(num_cl,score)\n",
    "pl.xlabel('Number of Clusters')\n",
    "pl.ylabel('Score')\n",
    "pl.title('Elbow Curve')\n",
    "pl.show()"
   ]
  },
  {
   "cell_type": "code",
   "execution_count": null,
   "id": "816c844d-2e51-47cd-a0d8-0699d1971d5a",
   "metadata": {},
   "outputs": [],
   "source": [
    "#Result: 3 clusters"
   ]
  },
  {
   "cell_type": "markdown",
   "id": "038733dc-785a-40f6-ae06-58e97fca9f78",
   "metadata": {},
   "source": [
    "##### K-means clustering"
   ]
  },
  {
   "cell_type": "code",
   "execution_count": null,
   "id": "37232551-6b4e-44ce-bc6c-ae100fc16af0",
   "metadata": {},
   "outputs": [],
   "source": [
    "#Creating k-means object\n",
    "kmeans = KMeans(n_clusters = 3) "
   ]
  },
  {
   "cell_type": "code",
   "execution_count": null,
   "id": "8e2ca946-e361-46fe-9a04-e5cbb42d9ae2",
   "metadata": {},
   "outputs": [],
   "source": [
    "#Fitting k-means object to data\n",
    "kmeans.fit(sub)"
   ]
  },
  {
   "cell_type": "code",
   "execution_count": null,
   "id": "d69d1d32-ecc7-4c44-94d9-90dd7dce7777",
   "metadata": {},
   "outputs": [],
   "source": [
    "sub['clusters'] = kmeans.fit_predict(sub)"
   ]
  },
  {
   "cell_type": "code",
   "execution_count": null,
   "id": "5ff6c743-6011-4019-9af4-4da8a3fd3fe8",
   "metadata": {},
   "outputs": [],
   "source": [
    "sub.head()"
   ]
  },
  {
   "cell_type": "code",
   "execution_count": null,
   "id": "4822f609-0a98-4054-8642-305e5379373f",
   "metadata": {},
   "outputs": [],
   "source": [
    "sub['clusters'].value_counts()"
   ]
  },
  {
   "cell_type": "code",
   "execution_count": null,
   "id": "48957e52-4998-4a0e-a915-932c9b305cd1",
   "metadata": {},
   "outputs": [],
   "source": [
    "#Plotting clusters for 'Total_Guns_Sold' and 'Shootings_County' \n",
    "plt.figure(figsize=(12,8))\n",
    "ax = sns.scatterplot(x=sub['St_Pop_Density_sqmi'], y=sub['Shootings_County'], hue=kmeans.labels_, s=100) \n",
    "\n",
    "#Removing grid\n",
    "ax.grid(False) \n",
    "\n",
    "#Labels \n",
    "plt.xlabel('State population density (sq. mi)') \n",
    "plt.ylabel('Shootings per State') \n",
    "plt.show()"
   ]
  },
  {
   "cell_type": "markdown",
   "id": "6365863f-3be3-4be0-bb81-498aa445926e",
   "metadata": {},
   "source": [
    "##### Interpretation"
   ]
  },
  {
   "cell_type": "markdown",
   "id": "a96170d8-2320-42ea-8e69-0b0888c523a1",
   "metadata": {},
   "source": [
    "The chart above shows that higher population densities are not necessarily correlated to high mass shooting incidents, but quite the contrary, clusters 0 and 1 have a higher incidence of mass shootings despite the low population density. Recall the fact that we observed a slightly positive correlation with the linear regression for population density and gun law strength. Although it was not significant enough, this clustering result shows that indeed, there might be a relationship present. If gun law strength proves to be negatively correlated to shooting incidents, we might be able to further back this argument. "
   ]
  },
  {
   "cell_type": "markdown",
   "id": "f210a902-1c67-41d4-9549-6c0ab51ddfe9",
   "metadata": {},
   "source": [
    "##### Iteration 2: Gun law strength x Shootings per state"
   ]
  },
  {
   "cell_type": "markdown",
   "id": "6e9311d4-c745-4ae6-aa7c-e1e9af5e9cff",
   "metadata": {},
   "source": [
    "##### k-means clustering"
   ]
  },
  {
   "cell_type": "code",
   "execution_count": null,
   "id": "e93b5518-c864-4692-b188-abf00cdd55f6",
   "metadata": {},
   "outputs": [],
   "source": [
    "#Plotting clusters for 'Total_Guns_Sold' and 'Shootings_County' \n",
    "plt.figure(figsize=(12,8))\n",
    "ax = sns.scatterplot(x=sub['Gun_Law_Strength'], y=sub['Shootings_County'], hue=kmeans.labels_, s=100) \n",
    "\n",
    "#Removing grid\n",
    "ax.grid(False) \n",
    "\n",
    "#Labels \n",
    "plt.xlabel('Gun law strength index') \n",
    "plt.ylabel('Shootings per State') \n",
    "plt.show()"
   ]
  }
 ],
 "metadata": {
  "kernelspec": {
   "display_name": "Python [conda env:base] *",
   "language": "python",
   "name": "conda-base-py"
  },
  "language_info": {
   "codemirror_mode": {
    "name": "ipython",
    "version": 3
   },
   "file_extension": ".py",
   "mimetype": "text/x-python",
   "name": "python",
   "nbconvert_exporter": "python",
   "pygments_lexer": "ipython3",
   "version": "3.12.7"
  }
 },
 "nbformat": 4,
 "nbformat_minor": 5
}
