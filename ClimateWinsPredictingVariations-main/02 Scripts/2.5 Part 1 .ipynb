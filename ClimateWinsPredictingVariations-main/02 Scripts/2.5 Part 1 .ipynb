{
 "cells": [
  {
   "cell_type": "markdown",
   "id": "d6119ddb-4961-4fbd-973a-cd44f3fdab88",
   "metadata": {},
   "source": [
    "## This Script Contains the Following Points:\n",
    "#### 1. Importing Libraries \n",
    "#### 2. Load MNIST Data & Data Split \n",
    "#### 3. Plot Images\n",
    "#### 4. Preprocess Input Data\n",
    "#### 5. Preprocess Class Labels\n",
    "#### 6. Fit Model on Training Data\n",
    "#### 7. Evaluate Model on Test Data"
   ]
  },
  {
   "cell_type": "markdown",
   "id": "daa7e2ca-907a-4568-aa7e-64230d344dee",
   "metadata": {},
   "source": [
    "# 1. Importing Libraries & Data"
   ]
  },
  {
   "cell_type": "code",
   "execution_count": 8,
   "id": "0b490636-13af-410a-88c3-e542ad8b2969",
   "metadata": {},
   "outputs": [],
   "source": [
    "import pandas as pd\n",
    "import numpy as np\n",
    "import seaborn as sns\n",
    "import os\n",
    "import operator\n",
    "import warnings\n",
    "import matplotlib.pyplot as plt\n",
    "from sklearn.preprocessing import LabelEncoder\n",
    "from sklearn.metrics import confusion_matrix\n",
    "import tensorflow as tf\n",
    "from numpy import unique\n",
    "from numpy import reshape\n",
    "from keras.models import Sequential\n",
    "from keras.layers import Conv1D, Conv2D, Dense, BatchNormalization, Flatten, MaxPooling2D, Activation, Dropout\n",
    "from tensorflow.keras.utils import to_categorical\n",
    "from keras.datasets import mnist\n",
    "from numpy import argmax\n",
    "from PIL import Image\n",
    "from numpy import asarray"
   ]
  },
  {
   "cell_type": "code",
   "execution_count": 9,
   "id": "8b9c5474-2ade-45ca-a247-26b410a56494",
   "metadata": {},
   "outputs": [],
   "source": [
    "%matplotlib inline\n",
    "\n",
    "# Turning off warning feature\n",
    "warnings.filterwarnings('ignore')"
   ]
  },
  {
   "cell_type": "code",
   "execution_count": 10,
   "id": "9d8d0277-66c2-49c4-84fa-f7c106a7a9ba",
   "metadata": {},
   "outputs": [],
   "source": [
    "tf.random.set_seed(42)"
   ]
  },
  {
   "cell_type": "markdown",
   "id": "781e635a-1721-4330-b21e-0977b6216e83",
   "metadata": {},
   "source": [
    "# 2. Load MNIST Data & Data Split "
   ]
  },
  {
   "cell_type": "code",
   "execution_count": 12,
   "id": "5b5c08bd-661f-4c0f-a728-b94e694ec2e1",
   "metadata": {},
   "outputs": [
    {
     "name": "stdout",
     "output_type": "stream",
     "text": [
      "Downloading data from https://storage.googleapis.com/tensorflow/tf-keras-datasets/mnist.npz\n",
      "\u001b[1m11490434/11490434\u001b[0m \u001b[32m━━━━━━━━━━━━━━━━━━━━\u001b[0m\u001b[37m\u001b[0m \u001b[1m0s\u001b[0m 0us/step\n"
     ]
    }
   ],
   "source": [
    "hand = mnist.load_data()"
   ]
  },
  {
   "cell_type": "code",
   "execution_count": 18,
   "id": "4638f57b-02f8-405d-8524-1764733b8e29",
   "metadata": {},
   "outputs": [
    {
     "data": {
      "text/plain": [
       "(array([[[0, 0, 0, ..., 0, 0, 0],\n",
       "         [0, 0, 0, ..., 0, 0, 0],\n",
       "         [0, 0, 0, ..., 0, 0, 0],\n",
       "         ...,\n",
       "         [0, 0, 0, ..., 0, 0, 0],\n",
       "         [0, 0, 0, ..., 0, 0, 0],\n",
       "         [0, 0, 0, ..., 0, 0, 0]],\n",
       " \n",
       "        [[0, 0, 0, ..., 0, 0, 0],\n",
       "         [0, 0, 0, ..., 0, 0, 0],\n",
       "         [0, 0, 0, ..., 0, 0, 0],\n",
       "         ...,\n",
       "         [0, 0, 0, ..., 0, 0, 0],\n",
       "         [0, 0, 0, ..., 0, 0, 0],\n",
       "         [0, 0, 0, ..., 0, 0, 0]],\n",
       " \n",
       "        [[0, 0, 0, ..., 0, 0, 0],\n",
       "         [0, 0, 0, ..., 0, 0, 0],\n",
       "         [0, 0, 0, ..., 0, 0, 0],\n",
       "         ...,\n",
       "         [0, 0, 0, ..., 0, 0, 0],\n",
       "         [0, 0, 0, ..., 0, 0, 0],\n",
       "         [0, 0, 0, ..., 0, 0, 0]],\n",
       " \n",
       "        ...,\n",
       " \n",
       "        [[0, 0, 0, ..., 0, 0, 0],\n",
       "         [0, 0, 0, ..., 0, 0, 0],\n",
       "         [0, 0, 0, ..., 0, 0, 0],\n",
       "         ...,\n",
       "         [0, 0, 0, ..., 0, 0, 0],\n",
       "         [0, 0, 0, ..., 0, 0, 0],\n",
       "         [0, 0, 0, ..., 0, 0, 0]],\n",
       " \n",
       "        [[0, 0, 0, ..., 0, 0, 0],\n",
       "         [0, 0, 0, ..., 0, 0, 0],\n",
       "         [0, 0, 0, ..., 0, 0, 0],\n",
       "         ...,\n",
       "         [0, 0, 0, ..., 0, 0, 0],\n",
       "         [0, 0, 0, ..., 0, 0, 0],\n",
       "         [0, 0, 0, ..., 0, 0, 0]],\n",
       " \n",
       "        [[0, 0, 0, ..., 0, 0, 0],\n",
       "         [0, 0, 0, ..., 0, 0, 0],\n",
       "         [0, 0, 0, ..., 0, 0, 0],\n",
       "         ...,\n",
       "         [0, 0, 0, ..., 0, 0, 0],\n",
       "         [0, 0, 0, ..., 0, 0, 0],\n",
       "         [0, 0, 0, ..., 0, 0, 0]]], dtype=uint8),\n",
       " array([5, 0, 4, ..., 5, 6, 8], dtype=uint8))"
      ]
     },
     "execution_count": 18,
     "metadata": {},
     "output_type": "execute_result"
    }
   ],
   "source": [
    "hand[0]"
   ]
  },
  {
   "cell_type": "code",
   "execution_count": 20,
   "id": "0302b0ac-bee9-496f-bd86-38035f4ce229",
   "metadata": {},
   "outputs": [],
   "source": [
    "(X_train, y_train), (X_test, y_test) = hand"
   ]
  },
  {
   "cell_type": "code",
   "execution_count": 22,
   "id": "2b77f3bf-a67b-4f17-b004-34836d3f4eff",
   "metadata": {},
   "outputs": [],
   "source": [
    "np.set_printoptions(edgeitems=3)\n",
    "np.core.arrayprint._line_width = 180000"
   ]
  },
  {
   "cell_type": "code",
   "execution_count": 24,
   "id": "f9840ed9-194f-4d3c-8725-e60f30891320",
   "metadata": {},
   "outputs": [
    {
     "data": {
      "text/plain": [
       "array([[  0,   0,   0,   0,   0,   0,   0,   0,   0,   0,   0,   0,   0,\n",
       "          0,   0,   0,   0,   0,   0,   0,   0,   0,   0,   0,   0,   0,\n",
       "          0,   0],\n",
       "       [  0,   0,   0,   0,   0,   0,   0,   0,   0,   0,   0,   0,   0,\n",
       "          0,   0,   0,   0,   0,   0,   0,   0,   0,   0,   0,   0,   0,\n",
       "          0,   0],\n",
       "       [  0,   0,   0,   0,   0,   0,   0,   0,   0,   0,   0,   0,   0,\n",
       "          0,   0,   0,   0,   0,   0,   0,   0,   0,   0,   0,   0,   0,\n",
       "          0,   0],\n",
       "       [  0,   0,   0,   0,   0,   0,   0,   0,   0,   0,   0,   0,   0,\n",
       "          0,   0,   0,   0,   0,   0,   0,   0,   0,   0,   0,   0,   0,\n",
       "          0,   0],\n",
       "       [  0,   0,   0,   0,   0,   0,   0,   0,   0,   0,   0,   0,   0,\n",
       "          0,   0,   0,   0,   0,   0,   0,   0,   0,   0,   0,   0,   0,\n",
       "          0,   0],\n",
       "       [  0,   0,   0,   0,   0,   0,   0,   0,   0,   0,   0,   0,   3,\n",
       "         18,  18,  18, 126, 136, 175,  26, 166, 255, 247, 127,   0,   0,\n",
       "          0,   0],\n",
       "       [  0,   0,   0,   0,   0,   0,   0,   0,  30,  36,  94, 154, 170,\n",
       "        253, 253, 253, 253, 253, 225, 172, 253, 242, 195,  64,   0,   0,\n",
       "          0,   0],\n",
       "       [  0,   0,   0,   0,   0,   0,   0,  49, 238, 253, 253, 253, 253,\n",
       "        253, 253, 253, 253, 251,  93,  82,  82,  56,  39,   0,   0,   0,\n",
       "          0,   0],\n",
       "       [  0,   0,   0,   0,   0,   0,   0,  18, 219, 253, 253, 253, 253,\n",
       "        253, 198, 182, 247, 241,   0,   0,   0,   0,   0,   0,   0,   0,\n",
       "          0,   0],\n",
       "       [  0,   0,   0,   0,   0,   0,   0,   0,  80, 156, 107, 253, 253,\n",
       "        205,  11,   0,  43, 154,   0,   0,   0,   0,   0,   0,   0,   0,\n",
       "          0,   0],\n",
       "       [  0,   0,   0,   0,   0,   0,   0,   0,   0,  14,   1, 154, 253,\n",
       "         90,   0,   0,   0,   0,   0,   0,   0,   0,   0,   0,   0,   0,\n",
       "          0,   0],\n",
       "       [  0,   0,   0,   0,   0,   0,   0,   0,   0,   0,   0, 139, 253,\n",
       "        190,   2,   0,   0,   0,   0,   0,   0,   0,   0,   0,   0,   0,\n",
       "          0,   0],\n",
       "       [  0,   0,   0,   0,   0,   0,   0,   0,   0,   0,   0,  11, 190,\n",
       "        253,  70,   0,   0,   0,   0,   0,   0,   0,   0,   0,   0,   0,\n",
       "          0,   0],\n",
       "       [  0,   0,   0,   0,   0,   0,   0,   0,   0,   0,   0,   0,  35,\n",
       "        241, 225, 160, 108,   1,   0,   0,   0,   0,   0,   0,   0,   0,\n",
       "          0,   0],\n",
       "       [  0,   0,   0,   0,   0,   0,   0,   0,   0,   0,   0,   0,   0,\n",
       "         81, 240, 253, 253, 119,  25,   0,   0,   0,   0,   0,   0,   0,\n",
       "          0,   0],\n",
       "       [  0,   0,   0,   0,   0,   0,   0,   0,   0,   0,   0,   0,   0,\n",
       "          0,  45, 186, 253, 253, 150,  27,   0,   0,   0,   0,   0,   0,\n",
       "          0,   0],\n",
       "       [  0,   0,   0,   0,   0,   0,   0,   0,   0,   0,   0,   0,   0,\n",
       "          0,   0,  16,  93, 252, 253, 187,   0,   0,   0,   0,   0,   0,\n",
       "          0,   0],\n",
       "       [  0,   0,   0,   0,   0,   0,   0,   0,   0,   0,   0,   0,   0,\n",
       "          0,   0,   0,   0, 249, 253, 249,  64,   0,   0,   0,   0,   0,\n",
       "          0,   0],\n",
       "       [  0,   0,   0,   0,   0,   0,   0,   0,   0,   0,   0,   0,   0,\n",
       "          0,  46, 130, 183, 253, 253, 207,   2,   0,   0,   0,   0,   0,\n",
       "          0,   0],\n",
       "       [  0,   0,   0,   0,   0,   0,   0,   0,   0,   0,   0,   0,  39,\n",
       "        148, 229, 253, 253, 253, 250, 182,   0,   0,   0,   0,   0,   0,\n",
       "          0,   0],\n",
       "       [  0,   0,   0,   0,   0,   0,   0,   0,   0,   0,  24, 114, 221,\n",
       "        253, 253, 253, 253, 201,  78,   0,   0,   0,   0,   0,   0,   0,\n",
       "          0,   0],\n",
       "       [  0,   0,   0,   0,   0,   0,   0,   0,  23,  66, 213, 253, 253,\n",
       "        253, 253, 198,  81,   2,   0,   0,   0,   0,   0,   0,   0,   0,\n",
       "          0,   0],\n",
       "       [  0,   0,   0,   0,   0,   0,  18, 171, 219, 253, 253, 253, 253,\n",
       "        195,  80,   9,   0,   0,   0,   0,   0,   0,   0,   0,   0,   0,\n",
       "          0,   0],\n",
       "       [  0,   0,   0,   0,  55, 172, 226, 253, 253, 253, 253, 244, 133,\n",
       "         11,   0,   0,   0,   0,   0,   0,   0,   0,   0,   0,   0,   0,\n",
       "          0,   0],\n",
       "       [  0,   0,   0,   0, 136, 253, 253, 253, 212, 135, 132,  16,   0,\n",
       "          0,   0,   0,   0,   0,   0,   0,   0,   0,   0,   0,   0,   0,\n",
       "          0,   0],\n",
       "       [  0,   0,   0,   0,   0,   0,   0,   0,   0,   0,   0,   0,   0,\n",
       "          0,   0,   0,   0,   0,   0,   0,   0,   0,   0,   0,   0,   0,\n",
       "          0,   0],\n",
       "       [  0,   0,   0,   0,   0,   0,   0,   0,   0,   0,   0,   0,   0,\n",
       "          0,   0,   0,   0,   0,   0,   0,   0,   0,   0,   0,   0,   0,\n",
       "          0,   0],\n",
       "       [  0,   0,   0,   0,   0,   0,   0,   0,   0,   0,   0,   0,   0,\n",
       "          0,   0,   0,   0,   0,   0,   0,   0,   0,   0,   0,   0,   0,\n",
       "          0,   0]], dtype=uint8)"
      ]
     },
     "execution_count": 24,
     "metadata": {},
     "output_type": "execute_result"
    }
   ],
   "source": [
    "X_train[0]"
   ]
  },
  {
   "cell_type": "code",
   "execution_count": 26,
   "id": "b7f40af4-70d1-465f-8d28-79485d513357",
   "metadata": {},
   "outputs": [
    {
     "name": "stdout",
     "output_type": "stream",
     "text": [
      "(60000, 28, 28) (60000,)\n",
      "(10000, 28, 28) (10000,)\n"
     ]
    }
   ],
   "source": [
    "print(X_train.shape, y_train.shape)\n",
    "print(X_test.shape, y_test.shape)"
   ]
  },
  {
   "cell_type": "code",
   "execution_count": 28,
   "id": "585886af-9e50-4e2d-8c95-a6cef99f339b",
   "metadata": {},
   "outputs": [
    {
     "data": {
      "text/plain": [
       "array([5, 0, 4, ..., 5, 6, 8], dtype=uint8)"
      ]
     },
     "execution_count": 28,
     "metadata": {},
     "output_type": "execute_result"
    }
   ],
   "source": [
    "y_train"
   ]
  },
  {
   "cell_type": "markdown",
   "id": "4ffe1a87-aaf6-4117-9fd5-9fdb28fda19a",
   "metadata": {},
   "source": [
    "# 3. Plot Images"
   ]
  },
  {
   "cell_type": "code",
   "execution_count": 31,
   "id": "a09a1cc1-b3ec-41e9-96ef-8196a72bac32",
   "metadata": {},
   "outputs": [
    {
     "data": {
      "text/plain": [
       "<matplotlib.image.AxesImage at 0x17ec6b950>"
      ]
     },
     "execution_count": 31,
     "metadata": {},
     "output_type": "execute_result"
    },
    {
     "data": {
      "image/png": "[encoded data removed]",
      "text/plain": [
       "<Figure size 640x480 with 1 Axes>"
      ]
     },
     "metadata": {},
     "output_type": "display_data"
    }
   ],
   "source": [
    "plt.imshow(X_train[0])"
   ]
  },
  {
   "cell_type": "code",
   "execution_count": 33,
   "id": "c7878f17-4275-4f05-b433-c41138f945f7",
   "metadata": {},
   "outputs": [
    {
     "data": {
      "image/png": "[encoded data removed]",
      "text/plain": [
       "<Figure size 750x1000 with 25 Axes>"
      ]
     },
     "metadata": {},
     "output_type": "display_data"
    }
   ],
   "source": [
    "num = 25\n",
    "images = X_train[:num]\n",
    "labels = y_train[:num]\n",
    "\n",
    "num_row = 5\n",
    "num_col = 5\n",
    "# plot images\n",
    "fig, axes = plt.subplots(num_row, num_col, figsize=(1.5*num_col,2*num_row))\n",
    "for i in range(num):\n",
    "    ax = axes[i//num_col, i%num_col]\n",
    "    ax.imshow(images[i])#, cmap='gray')\n",
    "    ax.set_title('Label: {}'.format(labels[i]))\n",
    "plt.tight_layout()"
   ]
  },
  {
   "cell_type": "markdown",
   "id": "31076ab3-bbc8-41ea-bd84-1705c6e5386d",
   "metadata": {},
   "source": [
    "# 4. Preprocess Input Data"
   ]
  },
  {
   "cell_type": "code",
   "execution_count": 36,
   "id": "f6132875-dbef-45d8-9553-2eb6ce9b2ca9",
   "metadata": {},
   "outputs": [],
   "source": [
    "X_train = X_train.reshape(X_train.shape[0], 28, 28, 1)\n",
    "X_test = X_test.reshape(X_test.shape[0], 28, 28, 1)"
   ]
  },
  {
   "cell_type": "code",
   "execution_count": 38,
   "id": "af4346db-f07c-45b6-8795-6ad1a86f738c",
   "metadata": {},
   "outputs": [],
   "source": [
    "X_train = X_train.astype('float32')\n",
    "X_test = X_test.astype('float32')"
   ]
  },
  {
   "cell_type": "code",
   "execution_count": 40,
   "id": "13420b04-6579-46e2-8208-cfa6761d1adf",
   "metadata": {},
   "outputs": [],
   "source": [
    "X_train /= 255\n",
    "X_test /= 255"
   ]
  },
  {
   "cell_type": "markdown",
   "id": "3732cc1a-948e-4d8a-b7fb-f94d5dd44ec1",
   "metadata": {},
   "source": [
    "# 5. Preprocess Class Labels"
   ]
  },
  {
   "cell_type": "code",
   "execution_count": 43,
   "id": "c819e9d8-39e4-4c85-b375-16f28a78f050",
   "metadata": {},
   "outputs": [],
   "source": [
    "Y_train = to_categorical(y_train, 10)\n",
    "Y_test = to_categorical(y_test, 10)"
   ]
  },
  {
   "cell_type": "code",
   "execution_count": 45,
   "id": "952472f4-858b-40df-bdd4-1ce183bcb7e1",
   "metadata": {},
   "outputs": [
    {
     "data": {
      "text/plain": [
       "array([[0., 0., 0., ..., 0., 0., 0.],\n",
       "       [1., 0., 0., ..., 0., 0., 0.],\n",
       "       [0., 0., 0., ..., 0., 0., 0.],\n",
       "       ...,\n",
       "       [0., 0., 0., ..., 0., 0., 0.],\n",
       "       [0., 0., 0., ..., 0., 0., 0.],\n",
       "       [0., 0., 0., ..., 0., 1., 0.]])"
      ]
     },
     "execution_count": 45,
     "metadata": {},
     "output_type": "execute_result"
    }
   ],
   "source": [
    "Y_train"
   ]
  },
  {
   "cell_type": "code",
   "execution_count": 47,
   "id": "d3f661f8-ba21-4a31-8663-9d7336119022",
   "metadata": {},
   "outputs": [
    {
     "name": "stdout",
     "output_type": "stream",
     "text": [
      "label:  0  in one-hot representation:  [0 0 0 0 0 1 0 0 0 0]\n",
      "label:  1  in one-hot representation:  [1 0 0 0 0 0 0 0 0 0]\n",
      "label:  2  in one-hot representation:  [0 0 0 0 1 0 0 0 0 0]\n",
      "label:  3  in one-hot representation:  [0 1 0 0 0 0 0 0 0 0]\n",
      "label:  4  in one-hot representation:  [0 0 0 0 0 0 0 0 0 1]\n",
      "label:  5  in one-hot representation:  [0 0 1 0 0 0 0 0 0 0]\n",
      "label:  6  in one-hot representation:  [0 1 0 0 0 0 0 0 0 0]\n",
      "label:  7  in one-hot representation:  [0 0 0 1 0 0 0 0 0 0]\n",
      "label:  8  in one-hot representation:  [0 1 0 0 0 0 0 0 0 0]\n",
      "label:  9  in one-hot representation:  [0 0 0 0 1 0 0 0 0 0]\n"
     ]
    }
   ],
   "source": [
    "for label in range(10):\n",
    "    one_hot = (Y_train[label]).astype(np.int32)\n",
    "    print(\"label: \", label, \" in one-hot representation: \", one_hot)"
   ]
  },
  {
   "cell_type": "code",
   "execution_count": 49,
   "id": "be0442ef-8c96-405c-85d9-88678724a4ef",
   "metadata": {},
   "outputs": [],
   "source": [
    "epochs = 30\n",
    "batch_size = 16\n",
    "n_hidden = 32\n",
    "\n",
    "#timesteps = len(X_train[0])\n",
    "#input_dim = len(X_train[0][0])\n",
    "#n_classes = _count_classes(Y_train)\n",
    "\n",
    "# 7. Define model architecture\n",
    "model = Sequential()\n",
    " \n",
    "model.add(Conv2D(32, (3,3), activation='relu', input_shape=(28,28,1)))\n",
    "model.add(Conv2D(32, (3,3), activation='relu'))\n",
    "model.add(MaxPooling2D(pool_size=(2,2)))\n",
    "model.add(Dropout(0.25))\n",
    " \n",
    "model.add(Flatten())\n",
    "model.add(Dense(128, activation='relu'))\n",
    "model.add(Dropout(0.5))\n",
    "model.add(Dense(10, activation='softmax'))\n",
    " \n",
    "# 8. Compile model\n",
    "model.compile(loss='categorical_crossentropy', optimizer='adam', metrics=['accuracy'])"
   ]
  },
  {
   "cell_type": "markdown",
   "id": "6a0d5f31-8c0d-4243-900d-5cf3fe8bdb52",
   "metadata": {},
   "source": [
    "# 6. Fit Model on Training Data"
   ]
  },
  {
   "cell_type": "code",
   "execution_count": 53,
   "id": "c65570e5-4521-424a-ad45-6f1f7cfb6350",
   "metadata": {},
   "outputs": [
    {
     "name": "stdout",
     "output_type": "stream",
     "text": [
      "Epoch 1/10\n",
      "\u001b[1m1875/1875\u001b[0m \u001b[32m━━━━━━━━━━━━━━━━━━━━\u001b[0m\u001b[37m\u001b[0m \u001b[1m23s\u001b[0m 12ms/step - accuracy: 0.8749 - loss: 0.3932\n",
      "Epoch 2/10\n",
      "\u001b[1m1875/1875\u001b[0m \u001b[32m━━━━━━━━━━━━━━━━━━━━\u001b[0m\u001b[37m\u001b[0m \u001b[1m23s\u001b[0m 12ms/step - accuracy: 0.9739 - loss: 0.0893\n",
      "Epoch 3/10\n",
      "\u001b[1m1875/1875\u001b[0m \u001b[32m━━━━━━━━━━━━━━━━━━━━\u001b[0m\u001b[37m\u001b[0m \u001b[1m24s\u001b[0m 13ms/step - accuracy: 0.9792 - loss: 0.0690\n",
      "Epoch 4/10\n",
      "\u001b[1m1875/1875\u001b[0m \u001b[32m━━━━━━━━━━━━━━━━━━━━\u001b[0m\u001b[37m\u001b[0m \u001b[1m22s\u001b[0m 12ms/step - accuracy: 0.9839 - loss: 0.0549\n",
      "Epoch 5/10\n",
      "\u001b[1m1875/1875\u001b[0m \u001b[32m━━━━━━━━━━━━━━━━━━━━\u001b[0m\u001b[37m\u001b[0m \u001b[1m22s\u001b[0m 12ms/step - accuracy: 0.9857 - loss: 0.0461\n",
      "Epoch 6/10\n",
      "\u001b[1m1875/1875\u001b[0m \u001b[32m━━━━━━━━━━━━━━━━━━━━\u001b[0m\u001b[37m\u001b[0m \u001b[1m23s\u001b[0m 12ms/step - accuracy: 0.9886 - loss: 0.0385\n",
      "Epoch 7/10\n",
      "\u001b[1m1875/1875\u001b[0m \u001b[32m━━━━━━━━━━━━━━━━━━━━\u001b[0m\u001b[37m\u001b[0m \u001b[1m22s\u001b[0m 12ms/step - accuracy: 0.9885 - loss: 0.0355\n",
      "Epoch 8/10\n",
      "\u001b[1m1875/1875\u001b[0m \u001b[32m━━━━━━━━━━━━━━━━━━━━\u001b[0m\u001b[37m\u001b[0m \u001b[1m22s\u001b[0m 12ms/step - accuracy: 0.9889 - loss: 0.0359\n",
      "Epoch 9/10\n",
      "\u001b[1m1875/1875\u001b[0m \u001b[32m━━━━━━━━━━━━━━━━━━━━\u001b[0m\u001b[37m\u001b[0m \u001b[1m22s\u001b[0m 12ms/step - accuracy: 0.9904 - loss: 0.0304\n",
      "Epoch 10/10\n",
      "\u001b[1m1875/1875\u001b[0m \u001b[32m━━━━━━━━━━━━━━━━━━━━\u001b[0m\u001b[37m\u001b[0m \u001b[1m22s\u001b[0m 12ms/step - accuracy: 0.9913 - loss: 0.0259\n"
     ]
    },
    {
     "data": {
      "text/plain": [
       "<keras.src.callbacks.history.History at 0x17efba050>"
      ]
     },
     "execution_count": 53,
     "metadata": {},
     "output_type": "execute_result"
    }
   ],
   "source": [
    "model.fit(X_train, Y_train, batch_size=32, epochs=10, verbose=1)"
   ]
  },
  {
   "cell_type": "markdown",
   "id": "2dd882d9-0d18-41d6-ba1c-c0f2355fb35d",
   "metadata": {},
   "source": [
    "# 7. Evaluate Model on Test Data"
   ]
  },
  {
   "cell_type": "code",
   "execution_count": 56,
   "id": "d36a757d-8cb1-4b7b-8a70-67610c5c64b7",
   "metadata": {},
   "outputs": [
    {
     "name": "stdout",
     "output_type": "stream",
     "text": [
      "313/313 - 1s - 3ms/step - accuracy: 0.9909 - loss: 0.0359\n"
     ]
    }
   ],
   "source": [
    "score = model.evaluate(X_test, Y_test, verbose=2)"
   ]
  },
  {
   "cell_type": "code",
   "execution_count": 58,
   "id": "fbdbf3ee-c62d-4db1-b5d7-e25e5fe32d9a",
   "metadata": {},
   "outputs": [
    {
     "name": "stdout",
     "output_type": "stream",
     "text": [
      "\u001b[1m1/1\u001b[0m \u001b[32m━━━━━━━━━━━━━━━━━━━━\u001b[0m\u001b[37m\u001b[0m \u001b[1m0s\u001b[0m 47ms/step\n"
     ]
    },
    {
     "data": {
      "text/plain": [
       "array([[7.1025367e-17, 5.3184419e-12, 1.6474735e-11, 3.3391577e-12,\n",
       "        4.4785270e-15, 4.1970379e-16, 6.7195293e-22, 1.0000000e+00,\n",
       "        1.3284791e-15, 1.1170680e-13],\n",
       "       [2.9418681e-14, 2.3433165e-13, 1.0000000e+00, 4.9592939e-18,\n",
       "        2.1946424e-21, 3.2819355e-25, 1.8388455e-16, 1.8494452e-18,\n",
       "        6.6089053e-19, 3.3092822e-23],\n",
       "       [2.2396802e-12, 1.0000000e+00, 7.6343136e-09, 3.6100894e-13,\n",
       "        6.9735377e-09, 1.3255066e-09, 6.8243600e-10, 2.2513593e-09,\n",
       "        3.6929453e-09, 9.0266180e-12],\n",
       "       [9.9999988e-01, 1.8079920e-14, 4.7692167e-10, 5.2134052e-12,\n",
       "        1.2815738e-11, 6.7402290e-12, 1.2977992e-07, 3.5318393e-13,\n",
       "        9.7150468e-11, 1.1318925e-09]], dtype=float32)"
      ]
     },
     "execution_count": 58,
     "metadata": {},
     "output_type": "execute_result"
    }
   ],
   "source": [
    "# Predicting first 4 images in the test set\n",
    "\n",
    "model.predict(X_test[:4])"
   ]
  },
  {
   "cell_type": "code",
   "execution_count": 60,
   "id": "2034427a-38a2-4607-b2e0-8c1bf4c3bdb3",
   "metadata": {},
   "outputs": [
    {
     "name": "stdout",
     "output_type": "stream",
     "text": [
      "\u001b[1m1/1\u001b[0m \u001b[32m━━━━━━━━━━━━━━━━━━━━\u001b[0m\u001b[37m\u001b[0m \u001b[1m0s\u001b[0m 53ms/step\n"
     ]
    },
    {
     "data": {
      "text/plain": [
       "array([1., 1., 1., 1.], dtype=float32)"
      ]
     },
     "execution_count": 60,
     "metadata": {},
     "output_type": "execute_result"
    }
   ],
   "source": [
    "sumarray = np.sum(model.predict(X_test[:4]), axis=1)\n",
    "sumarray"
   ]
  },
  {
   "cell_type": "code",
   "execution_count": 62,
   "id": "0d29a8af-287e-496b-9f45-2d3cf9671296",
   "metadata": {},
   "outputs": [
    {
     "data": {
      "text/plain": [
       "array([7, 2, 1, 0], dtype=uint8)"
      ]
     },
     "execution_count": 62,
     "metadata": {},
     "output_type": "execute_result"
    }
   ],
   "source": [
    "# Printing actual results for first 4 images in test set\n",
    "\n",
    "y_test[:4]"
   ]
  },
  {
   "cell_type": "code",
   "execution_count": 64,
   "id": "26fcd52a-83b1-49fc-b7e5-286644d6d2d0",
   "metadata": {},
   "outputs": [
    {
     "name": "stdout",
     "output_type": "stream",
     "text": [
      "\u001b[1m313/313\u001b[0m \u001b[32m━━━━━━━━━━━━━━━━━━━━\u001b[0m\u001b[37m\u001b[0m \u001b[1m1s\u001b[0m 3ms/step\n",
      "[[ 974    0    1    0    0    0    3    0    1    1]\n",
      " [   0 1131    2    1    0    1    0    0    0    0]\n",
      " [   1    1 1025    0    0    0    0    5    0    0]\n",
      " [   0    0    2 1005    0    2    0    0    1    0]\n",
      " [   0    0    0    0  973    0    3    0    3    3]\n",
      " [   0    0    0    4    0  886    2    0    0    0]\n",
      " [   4    2    0    0    2    5  942    0    3    0]\n",
      " [   1    2    3    1    0    0    0 1020    1    0]\n",
      " [   0    0    2    1    0    0    0    2  967    2]\n",
      " [   2    1    0    3    3    6    0    4    4  986]]\n"
     ]
    }
   ],
   "source": [
    "test_predictions = model.predict(X_test)\n",
    "cm = confusion_matrix(y_test, np.argmax(test_predictions,axis=1))\n",
    "print(cm)"
   ]
  },
  {
   "cell_type": "markdown",
   "id": "2ba28166-c59a-43ec-af5a-cb9b889fc31e",
   "metadata": {},
   "source": [
    "# 8. Importing Handwritten Numbers"
   ]
  },
  {
   "cell_type": "code",
   "execution_count": 67,
   "id": "3862ee64-69c5-4064-8f20-5ee268cc1174",
   "metadata": {},
   "outputs": [],
   "source": [
    "# Creating path to project folder\n",
    "\n",
    "path = r'/Users/kimkmiz/Desktop/ClimateWins'"
   ]
  },
  {
   "cell_type": "code",
   "execution_count": 73,
   "id": "9f4bf7c2-d7f4-439f-ae14-60afc982bc9d",
   "metadata": {},
   "outputs": [
    {
     "name": "stdout",
     "output_type": "stream",
     "text": [
      "PNG\n",
      "(506, 420)\n",
      "RGBA\n"
     ]
    }
   ],
   "source": [
    "# Importing image 9\n",
    "\n",
    "img = Image.open(os.path.join(path, 'handwritten_numbers', '9.png'))\n",
    "print(img.format)\n",
    "print(img.size)\n",
    "print(img.mode)"
   ]
  },
  {
   "cell_type": "code",
   "execution_count": 75,
   "id": "77c6ced4-f098-42f6-9043-13b97a17e2d0",
   "metadata": {},
   "outputs": [
    {
     "data": {
      "image/png": "[encoded data removed]",
      "text/plain": [
       "<PIL.Image.Image image mode=RGBA size=28x28>"
      ]
     },
     "execution_count": 75,
     "metadata": {},
     "output_type": "execute_result"
    }
   ],
   "source": [
    "newsize = (28,28)\n",
    "img2 = img.resize(newsize)\n",
    "img2"
   ]
  },
  {
   "cell_type": "code",
   "execution_count": 77,
   "id": "4b1f96a6-bcc5-46d5-aa08-950eed87b02f",
   "metadata": {},
   "outputs": [],
   "source": [
    "testimg = asarray(img2)"
   ]
  },
  {
   "cell_type": "code",
   "execution_count": 79,
   "id": "a3886118-dc61-485a-8b03-8001507299b2",
   "metadata": {},
   "outputs": [
    {
     "name": "stdout",
     "output_type": "stream",
     "text": [
      "(28, 28, 4)\n"
     ]
    }
   ],
   "source": [
    "print(testimg.shape)"
   ]
  },
  {
   "cell_type": "code",
   "execution_count": 87,
   "id": "2fb8a544-abb4-4aa5-8a14-7dba99c3e1db",
   "metadata": {},
   "outputs": [
    {
     "ename": "ValueError",
     "evalue": "cannot reshape array of size 3136 into shape (1,28,28,1)",
     "output_type": "error",
     "traceback": [
      "\u001b[0;31m---------------------------------------------------------------------------\u001b[0m",
      "\u001b[0;31mValueError\u001b[0m                                Traceback (most recent call last)",
      "Cell \u001b[0;32mIn[87], line 1\u001b[0m\n\u001b[0;32m----> 1\u001b[0m testimg \u001b[38;5;241m=\u001b[39m testimg\u001b[38;5;241m.\u001b[39mreshape(\u001b[38;5;241m1\u001b[39m, \u001b[38;5;241m28\u001b[39m, \u001b[38;5;241m28\u001b[39m, \u001b[38;5;241m1\u001b[39m)\n",
      "\u001b[0;31mValueError\u001b[0m: cannot reshape array of size 3136 into shape (1,28,28,1)"
     ]
    }
   ],
   "source": [
    "testimg = testimg.reshape(1, 28, 28, 1)"
   ]
  },
  {
   "cell_type": "code",
   "execution_count": 95,
   "id": "2870ed30-d238-4216-ba3f-3224ff59723f",
   "metadata": {},
   "outputs": [],
   "source": [
    "# Images not properly in grayscale, need to fix this."
   ]
  },
  {
   "cell_type": "code",
   "execution_count": 85,
   "id": "480f47e3-c5c6-4bf0-831e-08c167aabbc7",
   "metadata": {},
   "outputs": [
    {
     "name": "stdout",
     "output_type": "stream",
     "text": [
      "Collecting opencv-python-headless\n",
      "  Downloading opencv_python_headless-4.10.0.84-cp37-abi3-macosx_11_0_arm64.whl.metadata (20 kB)\n",
      "Requirement already satisfied: numpy>=1.21.2 in /opt/anaconda3/lib/python3.11/site-packages (from opencv-python-headless) (1.26.4)\n",
      "Downloading opencv_python_headless-4.10.0.84-cp37-abi3-macosx_11_0_arm64.whl (54.8 MB)\n",
      "\u001b[2K   \u001b[90m━━━━━━━━━━━━━━━━━━━━━━━━━━━━━━━━━━━━━━━━\u001b[0m \u001b[32m54.8/54.8 MB\u001b[0m \u001b[31m58.9 MB/s\u001b[0m eta \u001b[36m0:00:00\u001b[0m00:01\u001b[0m00:01\u001b[0m\n",
      "\u001b[?25hInstalling collected packages: opencv-python-headless\n",
      "Successfully installed opencv-python-headless-4.10.0.84\n"
     ]
    }
   ],
   "source": [
    "!pip install opencv-python-headless"
   ]
  },
  {
   "cell_type": "code",
   "execution_count": 89,
   "id": "fa1b3494-318a-420e-8c29-6a00bbb7a5e7",
   "metadata": {},
   "outputs": [],
   "source": [
    "import cv2\n",
    "testimg = cv2.cvtColor(testimg, cv2.COLOR_RGBA2GRAY)  # Convert from RGBA to Grayscale\n",
    "testimg = testimg.reshape(1, 28, 28, 1)  # Reshape to the desired format"
   ]
  },
  {
   "cell_type": "code",
   "execution_count": 91,
   "id": "40a721df-4716-4a47-95e7-971f6ec82b75",
   "metadata": {},
   "outputs": [],
   "source": [
    "testimg = testimg.reshape(1, 28, 28, 1)"
   ]
  },
  {
   "cell_type": "code",
   "execution_count": 93,
   "id": "0639c826-f3be-400c-90c2-6fd103a08926",
   "metadata": {},
   "outputs": [
    {
     "name": "stdout",
     "output_type": "stream",
     "text": [
      "\u001b[1m1/1\u001b[0m \u001b[32m━━━━━━━━━━━━━━━━━━━━\u001b[0m\u001b[37m\u001b[0m \u001b[1m0s\u001b[0m 47ms/step\n",
      "4\n"
     ]
    }
   ],
   "source": [
    "# Predicting the class\n",
    "predict_value = model.predict(testimg)\n",
    "digit = argmax(predict_value)\n",
    "print(digit)"
   ]
  },
  {
   "cell_type": "code",
   "execution_count": 97,
   "id": "49b000de-b075-4713-bc26-314815946271",
   "metadata": {},
   "outputs": [],
   "source": [
    "# Importing next number image"
   ]
  },
  {
   "cell_type": "code",
   "execution_count": 101,
   "id": "219a42f6-d332-4362-b339-e6abe0f2c0c5",
   "metadata": {},
   "outputs": [
    {
     "name": "stdout",
     "output_type": "stream",
     "text": [
      "PNG\n",
      "(504, 446)\n",
      "RGBA\n"
     ]
    }
   ],
   "source": [
    "img = Image.open(os.path.join(path,'handwritten_numbers', '1.png')) #<--FILL IN THIS VALUE!\n",
    "print(img.format)\n",
    "print(img.size)\n",
    "print(img.mode)"
   ]
  },
  {
   "cell_type": "code",
   "execution_count": 103,
   "id": "dd0bcddd-facf-4031-9d43-b40141dcc6ad",
   "metadata": {},
   "outputs": [
    {
     "data": {
      "image/png": "[encoded data removed]",
      "text/plain": [
       "<PIL.Image.Image image mode=RGBA size=28x28>"
      ]
     },
     "execution_count": 103,
     "metadata": {},
     "output_type": "execute_result"
    }
   ],
   "source": [
    "newsize = (28,28)\n",
    "img2 = img.resize(newsize)\n",
    "img2"
   ]
  },
  {
   "cell_type": "code",
   "execution_count": 105,
   "id": "2205f9a5-df8c-40a6-b382-fa9ef7ae8879",
   "metadata": {},
   "outputs": [],
   "source": [
    "testimg = asarray(img2)"
   ]
  },
  {
   "cell_type": "code",
   "execution_count": 109,
   "id": "0fc0057b-7e90-444a-b857-5ff1501d1ddf",
   "metadata": {},
   "outputs": [],
   "source": [
    "testimg = cv2.cvtColor(testimg, cv2.COLOR_RGBA2GRAY)  # Convert from RGBA to Grayscale\n",
    "testimg = testimg.reshape(1, 28, 28, 1)  # Reshape to the desired format"
   ]
  },
  {
   "cell_type": "code",
   "execution_count": 111,
   "id": "a3f25456-01d1-45cb-98f8-5090a3cf9f83",
   "metadata": {},
   "outputs": [
    {
     "name": "stdout",
     "output_type": "stream",
     "text": [
      "\u001b[1m1/1\u001b[0m \u001b[32m━━━━━━━━━━━━━━━━━━━━\u001b[0m\u001b[37m\u001b[0m \u001b[1m0s\u001b[0m 26ms/step\n",
      "1\n"
     ]
    }
   ],
   "source": [
    "# Predicting the class\n",
    "predict_value = model.predict(testimg)\n",
    "digit = argmax(predict_value)\n",
    "print(digit)"
   ]
  },
  {
   "cell_type": "code",
   "execution_count": 113,
   "id": "f82a6b80-77d2-4b6c-9bed-002bcebc0010",
   "metadata": {},
   "outputs": [
    {
     "name": "stdout",
     "output_type": "stream",
     "text": [
      "PNG\n",
      "(506, 420)\n",
      "RGBA\n"
     ]
    }
   ],
   "source": [
    "# Importing next number image\n",
    "\n",
    "img = Image.open(os.path.join(path,'handwritten_numbers', '2.png')) #<--FILL IN THIS VALUE!\n",
    "print(img.format)\n",
    "print(img.size)\n",
    "print(img.mode)"
   ]
  },
  {
   "cell_type": "code",
   "execution_count": 115,
   "id": "5d0b7c11-c5b2-4c94-805c-c1b023a015d5",
   "metadata": {},
   "outputs": [
    {
     "data": {
      "image/png": "[encoded data removed]",
      "text/plain": [
       "<PIL.Image.Image image mode=RGBA size=28x28>"
      ]
     },
     "execution_count": 115,
     "metadata": {},
     "output_type": "execute_result"
    }
   ],
   "source": [
    "newsize = (28,28)\n",
    "img2 = img.resize(newsize)\n",
    "img2"
   ]
  },
  {
   "cell_type": "code",
   "execution_count": 119,
   "id": "3f0aebdc-a25f-49f9-a981-9d5e81721330",
   "metadata": {},
   "outputs": [],
   "source": [
    "testimg = testimg.reshape(1, 28, 28, 1)"
   ]
  },
  {
   "cell_type": "code",
   "execution_count": 121,
   "id": "98cb9a7c-db89-4770-b4c4-f1a763d33824",
   "metadata": {},
   "outputs": [
    {
     "name": "stdout",
     "output_type": "stream",
     "text": [
      "\u001b[1m1/1\u001b[0m \u001b[32m━━━━━━━━━━━━━━━━━━━━\u001b[0m\u001b[37m\u001b[0m \u001b[1m0s\u001b[0m 82ms/step\n",
      "1\n"
     ]
    }
   ],
   "source": [
    "# Predicting the class\n",
    "predict_value = model.predict(testimg)\n",
    "digit = argmax(predict_value)\n",
    "print(digit)"
   ]
  },
  {
   "cell_type": "code",
   "execution_count": 123,
   "id": "97130006-acd7-40a5-adce-0ec1ca56e3ef",
   "metadata": {},
   "outputs": [
    {
     "name": "stdout",
     "output_type": "stream",
     "text": [
      "PNG\n",
      "(506, 420)\n",
      "RGBA\n"
     ]
    }
   ],
   "source": [
    "# Importing next number image\n",
    "\n",
    "img = Image.open(os.path.join(path,'handwritten_numbers', '3.png')) #<--FILL IN THIS VALUE!\n",
    "print(img.format)\n",
    "print(img.size)\n",
    "print(img.mode)"
   ]
  },
  {
   "cell_type": "code",
   "execution_count": 125,
   "id": "eb449af6-c1d8-40d6-ad10-0cff3a6d60a2",
   "metadata": {},
   "outputs": [
    {
     "data": {
      "image/png": "[encoded data removed]",
      "text/plain": [
       "<PIL.Image.Image image mode=RGBA size=28x28>"
      ]
     },
     "execution_count": 125,
     "metadata": {},
     "output_type": "execute_result"
    }
   ],
   "source": [
    "newsize = (28,28)\n",
    "img2 = img.resize(newsize)\n",
    "img2"
   ]
  },
  {
   "cell_type": "code",
   "execution_count": 127,
   "id": "87e6f7cd-b0ba-459e-b15a-552c98ee1ec0",
   "metadata": {},
   "outputs": [],
   "source": [
    "testimg = asarray(img2)"
   ]
  },
  {
   "cell_type": "code",
   "execution_count": 129,
   "id": "b84af4b2-499f-4b58-85a3-c29d747df566",
   "metadata": {},
   "outputs": [
    {
     "name": "stdout",
     "output_type": "stream",
     "text": [
      "(28, 28, 4)\n"
     ]
    }
   ],
   "source": [
    "print(testimg.shape)"
   ]
  },
  {
   "cell_type": "code",
   "execution_count": 133,
   "id": "31a0cdd7-6604-43ec-b41b-728e140b6051",
   "metadata": {},
   "outputs": [],
   "source": [
    "testimg = cv2.cvtColor(testimg, cv2.COLOR_RGBA2GRAY)  # Convert from RGBA to Grayscale\n",
    "testimg = testimg.reshape(1, 28, 28, 1)  # Reshape to the desired format"
   ]
  },
  {
   "cell_type": "code",
   "execution_count": 135,
   "id": "97f1055e-5604-479b-bbd2-568b1494df9c",
   "metadata": {},
   "outputs": [
    {
     "name": "stdout",
     "output_type": "stream",
     "text": [
      "\u001b[1m1/1\u001b[0m \u001b[32m━━━━━━━━━━━━━━━━━━━━\u001b[0m\u001b[37m\u001b[0m \u001b[1m0s\u001b[0m 75ms/step\n",
      "3\n"
     ]
    }
   ],
   "source": [
    "# predict the class\n",
    "predict_value = model.predict(testimg)\n",
    "digit = argmax(predict_value)\n",
    "print(digit)"
   ]
  },
  {
   "cell_type": "code",
   "execution_count": 137,
   "id": "89acbb8a-c507-49b5-a21c-02976ce31bb0",
   "metadata": {},
   "outputs": [
    {
     "name": "stdout",
     "output_type": "stream",
     "text": [
      "PNG\n",
      "(506, 420)\n",
      "RGBA\n"
     ]
    }
   ],
   "source": [
    "# Importing next number image\n",
    "\n",
    "img = Image.open(os.path.join(path,'handwritten_numbers', '8.png')) #<--FILL IN THIS VALUE!\n",
    "print(img.format)\n",
    "print(img.size)\n",
    "print(img.mode)"
   ]
  },
  {
   "cell_type": "code",
   "execution_count": 139,
   "id": "4f59fde8-5d5e-4a21-bf34-22670a270655",
   "metadata": {},
   "outputs": [
    {
     "data": {
      "image/png": "[encoded data removed]",
      "text/plain": [
       "<PIL.Image.Image image mode=RGBA size=28x28>"
      ]
     },
     "execution_count": 139,
     "metadata": {},
     "output_type": "execute_result"
    }
   ],
   "source": [
    "newsize = (28,28)\n",
    "img2 = img.resize(newsize)\n",
    "img2"
   ]
  },
  {
   "cell_type": "code",
   "execution_count": 141,
   "id": "4d65acc0-d72b-4772-b23a-8f55575f3557",
   "metadata": {},
   "outputs": [],
   "source": [
    "testimg = asarray(img2)"
   ]
  },
  {
   "cell_type": "code",
   "execution_count": 143,
   "id": "53653117-f299-4892-a7c8-fcdb09675f55",
   "metadata": {},
   "outputs": [
    {
     "name": "stdout",
     "output_type": "stream",
     "text": [
      "(28, 28, 4)\n"
     ]
    }
   ],
   "source": [
    "print(testimg.shape)"
   ]
  },
  {
   "cell_type": "code",
   "execution_count": 147,
   "id": "c0e2135c-c994-414c-a06a-19e1ab0f1238",
   "metadata": {},
   "outputs": [],
   "source": [
    "testimg = cv2.cvtColor(testimg, cv2.COLOR_RGBA2GRAY)  # Convert from RGBA to Grayscale\n",
    "testimg = testimg.reshape(1, 28, 28, 1)  # Reshape to the desired format"
   ]
  },
  {
   "cell_type": "code",
   "execution_count": 149,
   "id": "634e1878-9274-4eec-b0b5-896a6bd96ee9",
   "metadata": {},
   "outputs": [
    {
     "name": "stdout",
     "output_type": "stream",
     "text": [
      "\u001b[1m1/1\u001b[0m \u001b[32m━━━━━━━━━━━━━━━━━━━━\u001b[0m\u001b[37m\u001b[0m \u001b[1m0s\u001b[0m 26ms/step\n",
      "8\n"
     ]
    }
   ],
   "source": [
    "# predict the class\n",
    "predict_value = model.predict(testimg)\n",
    "digit = argmax(predict_value)\n",
    "print(digit)"
   ]
  },
  {
   "cell_type": "code",
   "execution_count": 151,
   "id": "0577edbb-1433-4df1-9cb5-dfbde311805a",
   "metadata": {},
   "outputs": [
    {
     "name": "stdout",
     "output_type": "stream",
     "text": [
      "PNG\n",
      "(396, 420)\n",
      "RGBA\n"
     ]
    }
   ],
   "source": [
    "# Importing next number image\n",
    "\n",
    "img = Image.open(os.path.join(path,'handwritten_numbers', '4.png')) #<--FILL IN THIS VALUE!\n",
    "print(img.format)\n",
    "print(img.size)\n",
    "print(img.mode)"
   ]
  },
  {
   "cell_type": "code",
   "execution_count": 153,
   "id": "020f0264-0659-4885-8991-aede9c4d7eb5",
   "metadata": {},
   "outputs": [
    {
     "data": {
      "image/png": "[encoded data removed]",
      "text/plain": [
       "<PIL.Image.Image image mode=RGBA size=28x28>"
      ]
     },
     "execution_count": 153,
     "metadata": {},
     "output_type": "execute_result"
    }
   ],
   "source": [
    "newsize = (28,28)\n",
    "img2 = img.resize(newsize)\n",
    "img2"
   ]
  },
  {
   "cell_type": "code",
   "execution_count": 157,
   "id": "0e1a4fe7-d577-4d18-9901-56dfb1752f91",
   "metadata": {},
   "outputs": [],
   "source": [
    "testimg = asarray(img2)"
   ]
  },
  {
   "cell_type": "code",
   "execution_count": 159,
   "id": "66eec184-5318-48c2-9d7b-7ca74f1fb69f",
   "metadata": {},
   "outputs": [
    {
     "name": "stdout",
     "output_type": "stream",
     "text": [
      "(28, 28, 4)\n"
     ]
    }
   ],
   "source": [
    "print(testimg.shape)"
   ]
  },
  {
   "cell_type": "code",
   "execution_count": 163,
   "id": "329e4bae-574c-4955-a29a-75a2d7e78d76",
   "metadata": {},
   "outputs": [],
   "source": [
    "testimg = cv2.cvtColor(testimg, cv2.COLOR_RGBA2GRAY)  # Convert from RGBA to Grayscale\n",
    "testimg = testimg.reshape(1, 28, 28, 1)  # Reshape to the desired format"
   ]
  },
  {
   "cell_type": "code",
   "execution_count": 165,
   "id": "f4b19a37-d25a-4493-bf27-a4d744d49a83",
   "metadata": {},
   "outputs": [
    {
     "name": "stdout",
     "output_type": "stream",
     "text": [
      "\u001b[1m1/1\u001b[0m \u001b[32m━━━━━━━━━━━━━━━━━━━━\u001b[0m\u001b[37m\u001b[0m \u001b[1m0s\u001b[0m 24ms/step\n",
      "4\n"
     ]
    }
   ],
   "source": [
    "# predict the class\n",
    "predict_value = model.predict(testimg)\n",
    "digit = argmax(predict_value)\n",
    "print(digit)"
   ]
  },
  {
   "cell_type": "code",
   "execution_count": 167,
   "id": "4b5ca080-cbb3-4bdc-8f31-8379cffc0c88",
   "metadata": {},
   "outputs": [
    {
     "name": "stdout",
     "output_type": "stream",
     "text": [
      "PNG\n",
      "(506, 420)\n",
      "RGBA\n"
     ]
    }
   ],
   "source": [
    "# Importing next number image\n",
    "\n",
    "img = Image.open(os.path.join(path,'handwritten_numbers', '7.png')) #<--FILL IN THIS VALUE!\n",
    "print(img.format)\n",
    "print(img.size)\n",
    "print(img.mode)"
   ]
  },
  {
   "cell_type": "code",
   "execution_count": 169,
   "id": "27de5fa8-53ce-4c41-b741-2250911f6f64",
   "metadata": {},
   "outputs": [
    {
     "data": {
      "image/png": "[encoded data removed]",
      "text/plain": [
       "<PIL.Image.Image image mode=RGBA size=28x28>"
      ]
     },
     "execution_count": 169,
     "metadata": {},
     "output_type": "execute_result"
    }
   ],
   "source": [
    "newsize = (28,28)\n",
    "img2 = img.resize(newsize)\n",
    "img2"
   ]
  },
  {
   "cell_type": "code",
   "execution_count": 171,
   "id": "11706c22-5513-4989-980f-8469acbcddb3",
   "metadata": {},
   "outputs": [],
   "source": [
    "testimg = asarray(img2)"
   ]
  },
  {
   "cell_type": "code",
   "execution_count": 173,
   "id": "30702458-ab76-4b40-a14d-747e6652c92e",
   "metadata": {},
   "outputs": [
    {
     "name": "stdout",
     "output_type": "stream",
     "text": [
      "(28, 28, 4)\n"
     ]
    }
   ],
   "source": [
    "print(testimg.shape)"
   ]
  },
  {
   "cell_type": "code",
   "execution_count": 175,
   "id": "474bf6f7-3ab6-4c4f-bfb6-bd8617c26148",
   "metadata": {},
   "outputs": [],
   "source": [
    "testimg = cv2.cvtColor(testimg, cv2.COLOR_RGBA2GRAY)  # Convert from RGBA to Grayscale\n",
    "testimg = testimg.reshape(1, 28, 28, 1)  # Reshape to the desired format"
   ]
  },
  {
   "cell_type": "code",
   "execution_count": 177,
   "id": "d78a1d32-c081-488e-ace8-d00595a6fd52",
   "metadata": {},
   "outputs": [
    {
     "name": "stdout",
     "output_type": "stream",
     "text": [
      "\u001b[1m1/1\u001b[0m \u001b[32m━━━━━━━━━━━━━━━━━━━━\u001b[0m\u001b[37m\u001b[0m \u001b[1m0s\u001b[0m 27ms/step\n",
      "3\n"
     ]
    }
   ],
   "source": [
    "# predict the class\n",
    "predict_value = model.predict(testimg)\n",
    "digit = argmax(predict_value)\n",
    "print(digit)"
   ]
  },
  {
   "cell_type": "code",
   "execution_count": 179,
   "id": "9b9a9e7e-a28d-4d0a-a213-0ff9db6543c2",
   "metadata": {},
   "outputs": [
    {
     "name": "stdout",
     "output_type": "stream",
     "text": [
      "PNG\n",
      "(506, 420)\n",
      "RGBA\n"
     ]
    }
   ],
   "source": [
    "# Importing next number image\n",
    "\n",
    "img = Image.open(os.path.join(path,'handwritten_numbers', '10.png')) #<--FILL IN THIS VALUE!\n",
    "print(img.format)\n",
    "print(img.size)\n",
    "print(img.mode)"
   ]
  },
  {
   "cell_type": "code",
   "execution_count": 181,
   "id": "9e84eb6f-8cc9-4df5-8cf5-176ce15ad45e",
   "metadata": {},
   "outputs": [
    {
     "data": {
      "image/png": "[encoded data removed]",
      "text/plain": [
       "<PIL.Image.Image image mode=RGBA size=28x28>"
      ]
     },
     "execution_count": 181,
     "metadata": {},
     "output_type": "execute_result"
    }
   ],
   "source": [
    "newsize = (28,28)\n",
    "img2 = img.resize(newsize)\n",
    "img2"
   ]
  },
  {
   "cell_type": "code",
   "execution_count": 183,
   "id": "01a6acf1-5fb5-4c4e-be70-bbd97f08761f",
   "metadata": {},
   "outputs": [],
   "source": [
    "testimg = asarray(img2)"
   ]
  },
  {
   "cell_type": "code",
   "execution_count": 185,
   "id": "ad3f65e7-22dc-418d-80e5-feda3000508d",
   "metadata": {},
   "outputs": [
    {
     "name": "stdout",
     "output_type": "stream",
     "text": [
      "(28, 28, 4)\n"
     ]
    }
   ],
   "source": [
    "print(testimg.shape)"
   ]
  },
  {
   "cell_type": "code",
   "execution_count": 187,
   "id": "2d251af0-218e-403d-a748-fbaedde1f5b5",
   "metadata": {},
   "outputs": [],
   "source": [
    "testimg = cv2.cvtColor(testimg, cv2.COLOR_RGBA2GRAY)  # Convert from RGBA to Grayscale\n",
    "testimg = testimg.reshape(1, 28, 28, 1)  # Reshape to the desired format"
   ]
  },
  {
   "cell_type": "code",
   "execution_count": 189,
   "id": "3e15cdd2-9c82-4b4e-ae08-b7c1bc34d43a",
   "metadata": {},
   "outputs": [
    {
     "name": "stdout",
     "output_type": "stream",
     "text": [
      "\u001b[1m1/1\u001b[0m \u001b[32m━━━━━━━━━━━━━━━━━━━━\u001b[0m\u001b[37m\u001b[0m \u001b[1m0s\u001b[0m 27ms/step\n",
      "6\n"
     ]
    }
   ],
   "source": [
    "# predict the class\n",
    "predict_value = model.predict(testimg)\n",
    "digit = argmax(predict_value)\n",
    "print(digit)"
   ]
  },
  {
   "cell_type": "code",
   "execution_count": 191,
   "id": "ff01c14e-36af-48b1-8a39-6a60f0396465",
   "metadata": {},
   "outputs": [
    {
     "name": "stdout",
     "output_type": "stream",
     "text": [
      "PNG\n",
      "(506, 420)\n",
      "RGBA\n"
     ]
    }
   ],
   "source": [
    "# Importing next number image\n",
    "\n",
    "img = Image.open(os.path.join(path,'handwritten_numbers', '6.png')) #<--FILL IN THIS VALUE!\n",
    "print(img.format)\n",
    "print(img.size)\n",
    "print(img.mode)"
   ]
  },
  {
   "cell_type": "code",
   "execution_count": 193,
   "id": "688daddb-149a-4780-8286-9e9c7e5fec35",
   "metadata": {},
   "outputs": [
    {
     "data": {
      "image/png": "[encoded data removed]",
      "text/plain": [
       "<PIL.Image.Image image mode=RGBA size=28x28>"
      ]
     },
     "execution_count": 193,
     "metadata": {},
     "output_type": "execute_result"
    }
   ],
   "source": [
    "newsize = (28,28)\n",
    "img2 = img.resize(newsize)\n",
    "img2"
   ]
  },
  {
   "cell_type": "code",
   "execution_count": 195,
   "id": "b7b5e1b1-6e7f-4e1a-97d4-2ca573867ab7",
   "metadata": {},
   "outputs": [],
   "source": [
    "testimg = asarray(img2)"
   ]
  },
  {
   "cell_type": "code",
   "execution_count": 197,
   "id": "4074ec81-a50e-4fc5-81cf-c363b07759b4",
   "metadata": {},
   "outputs": [
    {
     "name": "stdout",
     "output_type": "stream",
     "text": [
      "(28, 28, 4)\n"
     ]
    }
   ],
   "source": [
    "print(testimg.shape)"
   ]
  },
  {
   "cell_type": "code",
   "execution_count": 199,
   "id": "d1661c46-1953-498a-aadc-5433b00252fa",
   "metadata": {},
   "outputs": [],
   "source": [
    "testimg = cv2.cvtColor(testimg, cv2.COLOR_RGBA2GRAY)  # Convert from RGBA to Grayscale\n",
    "testimg = testimg.reshape(1, 28, 28, 1)  # Reshape to the desired format"
   ]
  },
  {
   "cell_type": "code",
   "execution_count": 201,
   "id": "d2dad9a7-d7e9-429f-b15f-dded4d3d1398",
   "metadata": {},
   "outputs": [
    {
     "name": "stdout",
     "output_type": "stream",
     "text": [
      "\u001b[1m1/1\u001b[0m \u001b[32m━━━━━━━━━━━━━━━━━━━━\u001b[0m\u001b[37m\u001b[0m \u001b[1m0s\u001b[0m 27ms/step\n",
      "6\n"
     ]
    }
   ],
   "source": [
    "# predict the class\n",
    "predict_value = model.predict(testimg)\n",
    "digit = argmax(predict_value)\n",
    "print(digit)"
   ]
  },
  {
   "cell_type": "code",
   "execution_count": 203,
   "id": "af6e64dd-4e95-46f8-b2a1-f5eb7a84e71b",
   "metadata": {},
   "outputs": [
    {
     "name": "stdout",
     "output_type": "stream",
     "text": [
      "PNG\n",
      "(506, 420)\n",
      "RGBA\n"
     ]
    }
   ],
   "source": [
    "# Importing next number image\n",
    "\n",
    "img = Image.open(os.path.join(path,'handwritten_numbers', '5.png')) #<--FILL IN THIS VALUE!\n",
    "print(img.format)\n",
    "print(img.size)\n",
    "print(img.mode)"
   ]
  },
  {
   "cell_type": "code",
   "execution_count": 205,
   "id": "546ccd66-9568-450e-9855-e64585932c57",
   "metadata": {},
   "outputs": [
    {
     "data": {
      "image/png": "[encoded data removed]",
      "text/plain": [
       "<PIL.Image.Image image mode=RGBA size=28x28>"
      ]
     },
     "execution_count": 205,
     "metadata": {},
     "output_type": "execute_result"
    }
   ],
   "source": [
    "newsize = (28,28)\n",
    "img3 = img.resize(newsize)\n",
    "img3"
   ]
  },
  {
   "cell_type": "code",
   "execution_count": 207,
   "id": "07a47358-c5eb-445d-a058-dd9f56796644",
   "metadata": {},
   "outputs": [],
   "source": [
    "testimg = asarray(img3)"
   ]
  },
  {
   "cell_type": "code",
   "execution_count": 209,
   "id": "a7c934f0-447e-44db-87cd-3da4a7030496",
   "metadata": {},
   "outputs": [
    {
     "name": "stdout",
     "output_type": "stream",
     "text": [
      "(28, 28, 4)\n"
     ]
    }
   ],
   "source": [
    "print(testimg.shape)"
   ]
  },
  {
   "cell_type": "code",
   "execution_count": 211,
   "id": "82612bcc-894b-4e73-ac4d-596506ce2350",
   "metadata": {},
   "outputs": [],
   "source": [
    "testimg = cv2.cvtColor(testimg, cv2.COLOR_RGBA2GRAY)  # Convert from RGBA to Grayscale\n",
    "testimg = testimg.reshape(1, 28, 28, 1)  # Reshape to the desired format"
   ]
  },
  {
   "cell_type": "code",
   "execution_count": 213,
   "id": "11339753-2056-4af3-b6b8-64b650a39ab1",
   "metadata": {},
   "outputs": [
    {
     "name": "stdout",
     "output_type": "stream",
     "text": [
      "\u001b[1m1/1\u001b[0m \u001b[32m━━━━━━━━━━━━━━━━━━━━\u001b[0m\u001b[37m\u001b[0m \u001b[1m0s\u001b[0m 25ms/step\n",
      "5\n"
     ]
    }
   ],
   "source": [
    "# predict the class\n",
    "predict_value = model.predict(testimg)\n",
    "digit = argmax(predict_value)\n",
    "print(digit)"
   ]
  },
  {
   "cell_type": "code",
   "execution_count": 215,
   "id": "e8c0c413-8fc2-43ce-8bdb-e7fdb075ec5d",
   "metadata": {},
   "outputs": [
    {
     "name": "stdout",
     "output_type": "stream",
     "text": [
      "PNG\n",
      "(506, 420)\n",
      "RGBA\n"
     ]
    }
   ],
   "source": [
    "# Importing next number image - trying 2 again\n",
    "\n",
    "img = Image.open(os.path.join(path,'handwritten_numbers', '2.png')) #<--FILL IN THIS VALUE!\n",
    "print(img.format)\n",
    "print(img.size)\n",
    "print(img.mode)"
   ]
  },
  {
   "cell_type": "code",
   "execution_count": 217,
   "id": "d655cf92-5255-4bf0-84fa-b0df320bae2e",
   "metadata": {},
   "outputs": [
    {
     "data": {
      "image/png": "[encoded data removed]",
      "text/plain": [
       "<PIL.Image.Image image mode=RGBA size=28x28>"
      ]
     },
     "execution_count": 217,
     "metadata": {},
     "output_type": "execute_result"
    }
   ],
   "source": [
    "newsize = (28,28)\n",
    "img4 = img.resize(newsize)\n",
    "img4"
   ]
  },
  {
   "cell_type": "code",
   "execution_count": 219,
   "id": "cb9f72d9-9287-4a48-a271-6104be1791cf",
   "metadata": {},
   "outputs": [],
   "source": [
    "testimg = asarray(img4)"
   ]
  },
  {
   "cell_type": "code",
   "execution_count": 221,
   "id": "e44e2cf8-d61e-4a8a-a487-f0e113989bd0",
   "metadata": {},
   "outputs": [
    {
     "name": "stdout",
     "output_type": "stream",
     "text": [
      "(28, 28, 4)\n"
     ]
    }
   ],
   "source": [
    "print(testimg.shape)"
   ]
  },
  {
   "cell_type": "code",
   "execution_count": 223,
   "id": "ee87e76d-bfc4-45be-a588-16b75e02ff2a",
   "metadata": {},
   "outputs": [],
   "source": [
    "testimg = cv2.cvtColor(testimg, cv2.COLOR_RGBA2GRAY)  # Convert from RGBA to Grayscale\n",
    "testimg = testimg.reshape(1, 28, 28, 1)  # Reshape to the desired format"
   ]
  },
  {
   "cell_type": "code",
   "execution_count": 225,
   "id": "9bb319d6-83ef-49ce-98a5-2b685506e0fa",
   "metadata": {},
   "outputs": [
    {
     "name": "stdout",
     "output_type": "stream",
     "text": [
      "\u001b[1m1/1\u001b[0m \u001b[32m━━━━━━━━━━━━━━━━━━━━\u001b[0m\u001b[37m\u001b[0m \u001b[1m0s\u001b[0m 27ms/step\n",
      "2\n"
     ]
    }
   ],
   "source": [
    "# predict the class\n",
    "predict_value = model.predict(testimg)\n",
    "digit = argmax(predict_value)\n",
    "print(digit)"
   ]
  },
  {
   "cell_type": "code",
   "execution_count": 227,
   "id": "292be00f-f3f7-446e-8bac-def4c499a3bc",
   "metadata": {},
   "outputs": [
    {
     "name": "stdout",
     "output_type": "stream",
     "text": [
      "PNG\n",
      "(506, 420)\n",
      "RGBA\n"
     ]
    }
   ],
   "source": [
    "# Importing next number image - trying 9 again\n",
    "\n",
    "img = Image.open(os.path.join(path,'handwritten_numbers', '9.png')) #<--FILL IN THIS VALUE!\n",
    "print(img.format)\n",
    "print(img.size)\n",
    "print(img.mode)"
   ]
  },
  {
   "cell_type": "code",
   "execution_count": 229,
   "id": "05e60aa0-f438-4097-a919-a169b136e31c",
   "metadata": {},
   "outputs": [
    {
     "data": {
      "image/png": "[encoded data removed]",
      "text/plain": [
       "<PIL.Image.Image image mode=RGBA size=28x28>"
      ]
     },
     "execution_count": 229,
     "metadata": {},
     "output_type": "execute_result"
    }
   ],
   "source": [
    "newsize = (28,28)\n",
    "img5 = img.resize(newsize)\n",
    "img5"
   ]
  },
  {
   "cell_type": "code",
   "execution_count": 231,
   "id": "67a1e6ea-ab2e-49f8-903f-81eeee5c82ac",
   "metadata": {},
   "outputs": [],
   "source": [
    "testimg = asarray(img5)"
   ]
  },
  {
   "cell_type": "code",
   "execution_count": 233,
   "id": "5a46ebbf-cfa1-48b5-81c9-8c32cc85a6f7",
   "metadata": {},
   "outputs": [
    {
     "name": "stdout",
     "output_type": "stream",
     "text": [
      "(28, 28, 4)\n"
     ]
    }
   ],
   "source": [
    "print(testimg.shape)"
   ]
  },
  {
   "cell_type": "code",
   "execution_count": 235,
   "id": "bd34414e-bc25-451a-8470-56605d8d5d2c",
   "metadata": {},
   "outputs": [],
   "source": [
    "testimg = cv2.cvtColor(testimg, cv2.COLOR_RGBA2GRAY)  # Convert from RGBA to Grayscale\n",
    "testimg = testimg.reshape(1, 28, 28, 1)  # Reshape to the desired format"
   ]
  },
  {
   "cell_type": "code",
   "execution_count": 237,
   "id": "23803d5f-b96c-4e74-9dc5-d3f610ab127d",
   "metadata": {},
   "outputs": [
    {
     "name": "stdout",
     "output_type": "stream",
     "text": [
      "\u001b[1m1/1\u001b[0m \u001b[32m━━━━━━━━━━━━━━━━━━━━\u001b[0m\u001b[37m\u001b[0m \u001b[1m0s\u001b[0m 28ms/step\n",
      "4\n"
     ]
    }
   ],
   "source": [
    "# predict the class\n",
    "predict_value = model.predict(testimg)\n",
    "digit = argmax(predict_value)\n",
    "print(digit)"
   ]
  }
 ],
 "metadata": {
  "kernelspec": {
   "display_name": "Python 3 (ipykernel)",
   "language": "python",
   "name": "python3"
  },
  "language_info": {
   "codemirror_mode": {
    "name": "ipython",
    "version": 3
   },
   "file_extension": ".py",
   "mimetype": "text/x-python",
   "name": "python",
   "nbconvert_exporter": "python",
   "pygments_lexer": "ipython3",
   "version": "3.11.7"
  }
 },
 "nbformat": 4,
 "nbformat_minor": 5
}
