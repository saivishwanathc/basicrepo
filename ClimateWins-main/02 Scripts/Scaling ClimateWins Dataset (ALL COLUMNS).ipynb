{
 "cells": [
  {
   "cell_type": "markdown",
   "id": "8b414750-4977-44da-a54f-7eed0caf9d79",
   "metadata": {},
   "source": [
    "# Scaling ClimateWins Dataset"
   ]
  },
  {
   "cell_type": "markdown",
   "id": "41a37d6b-371e-4363-8562-b98eed55dd74",
   "metadata": {},
   "source": [
    "### This Script Contains the Following Points:\n",
    "#### 1. Importing Libraries & Dataset\n",
    "#### 2. Scaling Dataset\n",
    "#### 3. Saving Scaled Dataset"
   ]
  },
  {
   "cell_type": "markdown",
   "id": "e2c9a957-7135-4f60-8cb3-0189c23038ff",
   "metadata": {},
   "source": [
    "## 1. Importing Libraries & Dataset"
   ]
  },
  {
   "cell_type": "code",
   "execution_count": 76,
   "id": "f91bbb05-9ef6-44be-96c0-3006f4d03ced",
   "metadata": {},
   "outputs": [],
   "source": [
    "# Importing Libraries\n",
    "import pandas as pd\n",
    "import numpy as np\n",
    "import seaborn as sns\n",
    "import matplotlib\n",
    "import matplotlib.pyplot as plt\n",
    "import os\n",
    "import sklearn\n",
    "from sklearn.preprocessing import StandardScaler"
   ]
  },
  {
   "cell_type": "code",
   "execution_count": 77,
   "id": "1ee5b323-f7a0-425b-8113-6d38495b747d",
   "metadata": {},
   "outputs": [],
   "source": [
    "# Creating folder path to project folder\n",
    "path = r'/Users/C SaiVishwanath/Desktop/ClimateWins'"
   ]
  },
  {
   "cell_type": "code",
   "execution_count": 78,
   "id": "e204709c-d68f-452d-aca3-d6188314da59",
   "metadata": {},
   "outputs": [],
   "source": [
    "# importing dataset\n",
    "df = pd.read_csv(os.path.join(path, '01 Data/Original Data/original_weather_prediction_dataset.csv'))"
   ]
  },
  {
   "cell_type": "code",
   "execution_count": 79,
   "id": "449b23fa-959c-423b-b0c8-506c529cd7a9",
   "metadata": {},
   "outputs": [
    {
     "data": {
      "text/html": [
       "<div>\n",
       "<style scoped>\n",
       "    .dataframe tbody tr th:only-of-type {\n",
       "        vertical-align: middle;\n",
       "    }\n",
       "\n",
       "    .dataframe tbody tr th {\n",
       "        vertical-align: top;\n",
       "    }\n",
       "\n",
       "    .dataframe thead th {\n",
       "        text-align: right;\n",
       "    }\n",
       "</style>\n",
       "<table border=\"1\" class=\"dataframe\">\n",
       "  <thead>\n",
       "    <tr style=\"text-align: right;\">\n",
       "      <th></th>\n",
       "      <th>DATE</th>\n",
       "      <th>MONTH</th>\n",
       "      <th>BASEL_cloud_cover</th>\n",
       "      <th>BASEL_wind_speed</th>\n",
       "      <th>BASEL_humidity</th>\n",
       "      <th>BASEL_pressure</th>\n",
       "      <th>BASEL_global_radiation</th>\n",
       "      <th>BASEL_precipitation</th>\n",
       "      <th>BASEL_snow_depth</th>\n",
       "      <th>BASEL_sunshine</th>\n",
       "      <th>...</th>\n",
       "      <th>VALENTIA_cloud_cover</th>\n",
       "      <th>VALENTIA_humidity</th>\n",
       "      <th>VALENTIA_pressure</th>\n",
       "      <th>VALENTIA_global_radiation</th>\n",
       "      <th>VALENTIA_precipitation</th>\n",
       "      <th>VALENTIA_snow_depth</th>\n",
       "      <th>VALENTIA_sunshine</th>\n",
       "      <th>VALENTIA_temp_mean</th>\n",
       "      <th>VALENTIA_temp_min</th>\n",
       "      <th>VALENTIA_temp_max</th>\n",
       "    </tr>\n",
       "  </thead>\n",
       "  <tbody>\n",
       "    <tr>\n",
       "      <th>0</th>\n",
       "      <td>19600101</td>\n",
       "      <td>1</td>\n",
       "      <td>7</td>\n",
       "      <td>2.1</td>\n",
       "      <td>0.85</td>\n",
       "      <td>1.018</td>\n",
       "      <td>0.32</td>\n",
       "      <td>0.09</td>\n",
       "      <td>0</td>\n",
       "      <td>0.7</td>\n",
       "      <td>...</td>\n",
       "      <td>5</td>\n",
       "      <td>0.88</td>\n",
       "      <td>1.0003</td>\n",
       "      <td>0.45</td>\n",
       "      <td>0.34</td>\n",
       "      <td>0</td>\n",
       "      <td>4.7</td>\n",
       "      <td>8.5</td>\n",
       "      <td>6.0</td>\n",
       "      <td>10.9</td>\n",
       "    </tr>\n",
       "    <tr>\n",
       "      <th>1</th>\n",
       "      <td>19600102</td>\n",
       "      <td>1</td>\n",
       "      <td>6</td>\n",
       "      <td>2.1</td>\n",
       "      <td>0.84</td>\n",
       "      <td>1.018</td>\n",
       "      <td>0.36</td>\n",
       "      <td>1.05</td>\n",
       "      <td>0</td>\n",
       "      <td>1.1</td>\n",
       "      <td>...</td>\n",
       "      <td>7</td>\n",
       "      <td>0.91</td>\n",
       "      <td>1.0007</td>\n",
       "      <td>0.25</td>\n",
       "      <td>0.84</td>\n",
       "      <td>0</td>\n",
       "      <td>0.7</td>\n",
       "      <td>8.9</td>\n",
       "      <td>5.6</td>\n",
       "      <td>12.1</td>\n",
       "    </tr>\n",
       "    <tr>\n",
       "      <th>2</th>\n",
       "      <td>19600103</td>\n",
       "      <td>1</td>\n",
       "      <td>8</td>\n",
       "      <td>2.1</td>\n",
       "      <td>0.90</td>\n",
       "      <td>1.018</td>\n",
       "      <td>0.18</td>\n",
       "      <td>0.30</td>\n",
       "      <td>0</td>\n",
       "      <td>0.0</td>\n",
       "      <td>...</td>\n",
       "      <td>7</td>\n",
       "      <td>0.91</td>\n",
       "      <td>1.0096</td>\n",
       "      <td>0.17</td>\n",
       "      <td>0.08</td>\n",
       "      <td>0</td>\n",
       "      <td>0.1</td>\n",
       "      <td>10.5</td>\n",
       "      <td>8.1</td>\n",
       "      <td>12.9</td>\n",
       "    </tr>\n",
       "    <tr>\n",
       "      <th>3</th>\n",
       "      <td>19600104</td>\n",
       "      <td>1</td>\n",
       "      <td>3</td>\n",
       "      <td>2.1</td>\n",
       "      <td>0.92</td>\n",
       "      <td>1.018</td>\n",
       "      <td>0.58</td>\n",
       "      <td>0.00</td>\n",
       "      <td>0</td>\n",
       "      <td>4.1</td>\n",
       "      <td>...</td>\n",
       "      <td>7</td>\n",
       "      <td>0.86</td>\n",
       "      <td>1.0184</td>\n",
       "      <td>0.13</td>\n",
       "      <td>0.98</td>\n",
       "      <td>0</td>\n",
       "      <td>0.0</td>\n",
       "      <td>7.4</td>\n",
       "      <td>7.3</td>\n",
       "      <td>10.6</td>\n",
       "    </tr>\n",
       "    <tr>\n",
       "      <th>4</th>\n",
       "      <td>19600105</td>\n",
       "      <td>1</td>\n",
       "      <td>6</td>\n",
       "      <td>2.1</td>\n",
       "      <td>0.95</td>\n",
       "      <td>1.018</td>\n",
       "      <td>0.65</td>\n",
       "      <td>0.14</td>\n",
       "      <td>0</td>\n",
       "      <td>5.4</td>\n",
       "      <td>...</td>\n",
       "      <td>3</td>\n",
       "      <td>0.80</td>\n",
       "      <td>1.0328</td>\n",
       "      <td>0.46</td>\n",
       "      <td>0.00</td>\n",
       "      <td>0</td>\n",
       "      <td>5.7</td>\n",
       "      <td>5.7</td>\n",
       "      <td>3.0</td>\n",
       "      <td>8.4</td>\n",
       "    </tr>\n",
       "  </tbody>\n",
       "</table>\n",
       "<p>5 rows × 170 columns</p>\n",
       "</div>"
      ],
      "text/plain": [
       "       DATE  MONTH  BASEL_cloud_cover  BASEL_wind_speed  BASEL_humidity  \\\n",
       "0  19600101      1                  7               2.1            0.85   \n",
       "1  19600102      1                  6               2.1            0.84   \n",
       "2  19600103      1                  8               2.1            0.90   \n",
       "3  19600104      1                  3               2.1            0.92   \n",
       "4  19600105      1                  6               2.1            0.95   \n",
       "\n",
       "   BASEL_pressure  BASEL_global_radiation  BASEL_precipitation  \\\n",
       "0           1.018                    0.32                 0.09   \n",
       "1           1.018                    0.36                 1.05   \n",
       "2           1.018                    0.18                 0.30   \n",
       "3           1.018                    0.58                 0.00   \n",
       "4           1.018                    0.65                 0.14   \n",
       "\n",
       "   BASEL_snow_depth  BASEL_sunshine  ...  VALENTIA_cloud_cover  \\\n",
       "0                 0             0.7  ...                     5   \n",
       "1                 0             1.1  ...                     7   \n",
       "2                 0             0.0  ...                     7   \n",
       "3                 0             4.1  ...                     7   \n",
       "4                 0             5.4  ...                     3   \n",
       "\n",
       "   VALENTIA_humidity  VALENTIA_pressure  VALENTIA_global_radiation  \\\n",
       "0               0.88             1.0003                       0.45   \n",
       "1               0.91             1.0007                       0.25   \n",
       "2               0.91             1.0096                       0.17   \n",
       "3               0.86             1.0184                       0.13   \n",
       "4               0.80             1.0328                       0.46   \n",
       "\n",
       "   VALENTIA_precipitation  VALENTIA_snow_depth  VALENTIA_sunshine  \\\n",
       "0                    0.34                    0                4.7   \n",
       "1                    0.84                    0                0.7   \n",
       "2                    0.08                    0                0.1   \n",
       "3                    0.98                    0                0.0   \n",
       "4                    0.00                    0                5.7   \n",
       "\n",
       "   VALENTIA_temp_mean  VALENTIA_temp_min  VALENTIA_temp_max  \n",
       "0                 8.5                6.0               10.9  \n",
       "1                 8.9                5.6               12.1  \n",
       "2                10.5                8.1               12.9  \n",
       "3                 7.4                7.3               10.6  \n",
       "4                 5.7                3.0                8.4  \n",
       "\n",
       "[5 rows x 170 columns]"
      ]
     },
     "execution_count": 79,
     "metadata": {},
     "output_type": "execute_result"
    }
   ],
   "source": [
    "# Checking dataset\n",
    "df.head()"
   ]
  },
  {
   "cell_type": "code",
   "execution_count": 80,
   "id": "401b8983-107f-40f2-8de6-9842d9309784",
   "metadata": {},
   "outputs": [
    {
     "data": {
      "text/plain": [
       "DATE                     int64\n",
       "MONTH                    int64\n",
       "BASEL_cloud_cover        int64\n",
       "BASEL_wind_speed       float64\n",
       "BASEL_humidity         float64\n",
       "                        ...   \n",
       "VALENTIA_snow_depth      int64\n",
       "VALENTIA_sunshine      float64\n",
       "VALENTIA_temp_mean     float64\n",
       "VALENTIA_temp_min      float64\n",
       "VALENTIA_temp_max      float64\n",
       "Length: 170, dtype: object"
      ]
     },
     "execution_count": 80,
     "metadata": {},
     "output_type": "execute_result"
    }
   ],
   "source": [
    "# Printing Column data types\n",
    "df.dtypes"
   ]
  },
  {
   "cell_type": "code",
   "execution_count": 81,
   "id": "eb86b611-1da0-498b-859f-19f9b96d1068",
   "metadata": {},
   "outputs": [
    {
     "data": {
      "text/plain": [
       "DATE                   0\n",
       "MONTH                  0\n",
       "BASEL_cloud_cover      0\n",
       "BASEL_wind_speed       0\n",
       "BASEL_humidity         0\n",
       "                      ..\n",
       "VALENTIA_snow_depth    0\n",
       "VALENTIA_sunshine      0\n",
       "VALENTIA_temp_mean     0\n",
       "VALENTIA_temp_min      0\n",
       "VALENTIA_temp_max      0\n",
       "Length: 170, dtype: int64"
      ]
     },
     "execution_count": 81,
     "metadata": {},
     "output_type": "execute_result"
    }
   ],
   "source": [
    "# Checking for missing values\n",
    "df.isnull().sum()"
   ]
  },
  {
   "cell_type": "code",
   "execution_count": 82,
   "id": "9f3a8cc2-6bf0-40eb-a37c-fce82a340694",
   "metadata": {},
   "outputs": [],
   "source": [
    "# No missing values"
   ]
  },
  {
   "cell_type": "code",
   "execution_count": 83,
   "id": "fd73ca1c-4248-4435-905f-c53fa9911b0a",
   "metadata": {},
   "outputs": [
    {
     "data": {
      "text/plain": [
       "(22950, 170)"
      ]
     },
     "execution_count": 83,
     "metadata": {},
     "output_type": "execute_result"
    }
   ],
   "source": [
    "# Printing Shape of Dataset\n",
    "df.shape"
   ]
  },
  {
   "cell_type": "code",
   "execution_count": 84,
   "id": "7dcfec8f-c1f8-4eb0-91a7-6938b97a7537",
   "metadata": {},
   "outputs": [],
   "source": [
    "# Checking for Duplicates\n",
    "df_dups=df[df.duplicated()]"
   ]
  },
  {
   "cell_type": "code",
   "execution_count": 85,
   "id": "83f6ac95-402e-4bd2-9358-7f61fc157f6c",
   "metadata": {},
   "outputs": [
    {
     "name": "stdout",
     "output_type": "stream",
     "text": [
      "Empty DataFrame\n",
      "Columns: [DATE, MONTH, BASEL_cloud_cover, BASEL_wind_speed, BASEL_humidity, BASEL_pressure, BASEL_global_radiation, BASEL_precipitation, BASEL_snow_depth, BASEL_sunshine, BASEL_temp_mean, BASEL_temp_min, BASEL_temp_max, BELGRADE_cloud_cover, BELGRADE_humidity, BELGRADE_pressure, BELGRADE_global_radiation, BELGRADE_precipitation, BELGRADE_sunshine, BELGRADE_temp_mean, BELGRADE_temp_min, BELGRADE_temp_max, BUDAPEST_cloud_cover, BUDAPEST_humidity, BUDAPEST_pressure, BUDAPEST_global_radiation, BUDAPEST_precipitation, BUDAPEST_sunshine, BUDAPEST_temp_mean, BUDAPEST_temp_min, BUDAPEST_temp_max, DEBILT_cloud_cover, DEBILT_wind_speed, DEBILT_humidity, DEBILT_pressure, DEBILT_global_radiation, DEBILT_precipitation, DEBILT_sunshine, DEBILT_temp_mean, DEBILT_temp_min, DEBILT_temp_max, DUSSELDORF_cloud_cover, DUSSELDORF_wind_speed, DUSSELDORF_humidity, DUSSELDORF_pressure, DUSSELDORF_global_radiation, DUSSELDORF_precipitation, DUSSELDORF_snow_depth, DUSSELDORF_sunshine, DUSSELDORF_temp_mean, DUSSELDORF_temp_min, DUSSELDORF_temp_max, GDANSK_cloud_cover, GDANSK_humidity, GDANSK_precipitation, GDANSK_snow_depth, GDANSK_temp_mean, GDANSK_temp_min, GDANSK_temp_max, HEATHROW_cloud_cover, HEATHROW_humidity, HEATHROW_pressure, HEATHROW_global_radiation, HEATHROW_precipitation, HEATHROW_snow_depth, HEATHROW_sunshine, HEATHROW_temp_mean, HEATHROW_temp_min, HEATHROW_temp_max, KASSEL_wind_speed, KASSEL_humidity, KASSEL_pressure, KASSEL_global_radiation, KASSEL_precipitation, KASSEL_sunshine, KASSEL_temp_mean, KASSEL_temp_min, KASSEL_temp_max, LJUBLJANA_cloud_cover, LJUBLJANA_wind_speed, LJUBLJANA_humidity, LJUBLJANA_pressure, LJUBLJANA_global_radiation, LJUBLJANA_precipitation, LJUBLJANA_sunshine, LJUBLJANA_temp_mean, LJUBLJANA_temp_min, LJUBLJANA_temp_max, MAASTRICHT_cloud_cover, MAASTRICHT_wind_speed, MAASTRICHT_humidity, MAASTRICHT_pressure, MAASTRICHT_global_radiation, MAASTRICHT_precipitation, MAASTRICHT_sunshine, MAASTRICHT_temp_mean, MAASTRICHT_temp_min, MAASTRICHT_temp_max, MADRID_cloud_cover, MADRID_wind_speed, ...]\n",
      "Index: []\n",
      "\n",
      "[0 rows x 170 columns]\n"
     ]
    }
   ],
   "source": [
    "print(df_dups)"
   ]
  },
  {
   "cell_type": "code",
   "execution_count": 86,
   "id": "32bd8291-e501-40f6-9db7-6fcd5918e7e0",
   "metadata": {},
   "outputs": [],
   "source": [
    "# No duplicates found"
   ]
  },
  {
   "cell_type": "markdown",
   "id": "c869d397-eb24-4150-964b-a70fa9823148",
   "metadata": {},
   "source": [
    "## 2. Scaling All Columns in Dataset"
   ]
  },
  {
   "cell_type": "code",
   "execution_count": 88,
   "id": "e0d1e0e9-064f-486a-893f-848c2125f8a6",
   "metadata": {},
   "outputs": [],
   "source": [
    "# Creating scaler with StandardScaler from sklearn.preprocessing\n",
    "# StandardScaler assumes data is normally distributed and scales with a distribution\n",
    "# End data should have values arount 0 and standard deviation of 1 \n",
    "    \n",
    "scaler = StandardScaler()"
   ]
  },
  {
   "cell_type": "code",
   "execution_count": 89,
   "id": "1958b5e6-452f-4fdb-a053-b4818d95cf4a",
   "metadata": {},
   "outputs": [],
   "source": [
    "# Scaling all columns in the dataset\n",
    "df_scaled = pd.DataFrame(scaler.fit_transform(df), columns=df.columns)"
   ]
  },
  {
   "cell_type": "code",
   "execution_count": 90,
   "id": "18dac00d-6fee-4287-8518-361359e75e7d",
   "metadata": {},
   "outputs": [
    {
     "data": {
      "text/html": [
       "<div>\n",
       "<style scoped>\n",
       "    .dataframe tbody tr th:only-of-type {\n",
       "        vertical-align: middle;\n",
       "    }\n",
       "\n",
       "    .dataframe tbody tr th {\n",
       "        vertical-align: top;\n",
       "    }\n",
       "\n",
       "    .dataframe thead th {\n",
       "        text-align: right;\n",
       "    }\n",
       "</style>\n",
       "<table border=\"1\" class=\"dataframe\">\n",
       "  <thead>\n",
       "    <tr style=\"text-align: right;\">\n",
       "      <th></th>\n",
       "      <th>DATE</th>\n",
       "      <th>MONTH</th>\n",
       "      <th>BASEL_cloud_cover</th>\n",
       "      <th>BASEL_wind_speed</th>\n",
       "      <th>BASEL_humidity</th>\n",
       "      <th>BASEL_pressure</th>\n",
       "      <th>BASEL_global_radiation</th>\n",
       "      <th>BASEL_precipitation</th>\n",
       "      <th>BASEL_snow_depth</th>\n",
       "      <th>BASEL_sunshine</th>\n",
       "      <th>...</th>\n",
       "      <th>VALENTIA_cloud_cover</th>\n",
       "      <th>VALENTIA_humidity</th>\n",
       "      <th>VALENTIA_pressure</th>\n",
       "      <th>VALENTIA_global_radiation</th>\n",
       "      <th>VALENTIA_precipitation</th>\n",
       "      <th>VALENTIA_snow_depth</th>\n",
       "      <th>VALENTIA_sunshine</th>\n",
       "      <th>VALENTIA_temp_mean</th>\n",
       "      <th>VALENTIA_temp_min</th>\n",
       "      <th>VALENTIA_temp_max</th>\n",
       "    </tr>\n",
       "  </thead>\n",
       "  <tbody>\n",
       "    <tr>\n",
       "      <th>0</th>\n",
       "      <td>-1.707663</td>\n",
       "      <td>-1.599964</td>\n",
       "      <td>0.660514</td>\n",
       "      <td>-0.02793</td>\n",
       "      <td>0.826097</td>\n",
       "      <td>-0.001949</td>\n",
       "      <td>-1.101066</td>\n",
       "      <td>-0.265148</td>\n",
       "      <td>-0.179228</td>\n",
       "      <td>-0.902918</td>\n",
       "      <td>...</td>\n",
       "      <td>-0.443701</td>\n",
       "      <td>0.761754</td>\n",
       "      <td>-1.299744</td>\n",
       "      <td>-0.806427</td>\n",
       "      <td>-0.088407</td>\n",
       "      <td>-0.024706</td>\n",
       "      <td>0.372147</td>\n",
       "      <td>-0.668215</td>\n",
       "      <td>-0.519743</td>\n",
       "      <td>-0.752237</td>\n",
       "    </tr>\n",
       "    <tr>\n",
       "      <th>1</th>\n",
       "      <td>-1.707657</td>\n",
       "      <td>-1.599964</td>\n",
       "      <td>0.244897</td>\n",
       "      <td>-0.02793</td>\n",
       "      <td>0.735760</td>\n",
       "      <td>-0.001949</td>\n",
       "      <td>-1.058108</td>\n",
       "      <td>1.658760</td>\n",
       "      <td>-0.179228</td>\n",
       "      <td>-0.810126</td>\n",
       "      <td>...</td>\n",
       "      <td>0.783085</td>\n",
       "      <td>1.183580</td>\n",
       "      <td>-1.262455</td>\n",
       "      <td>-1.042055</td>\n",
       "      <td>0.503361</td>\n",
       "      <td>-0.024706</td>\n",
       "      <td>-0.829285</td>\n",
       "      <td>-0.548046</td>\n",
       "      <td>-0.629054</td>\n",
       "      <td>-0.407141</td>\n",
       "    </tr>\n",
       "    <tr>\n",
       "      <th>2</th>\n",
       "      <td>-1.707652</td>\n",
       "      <td>-1.599964</td>\n",
       "      <td>1.076130</td>\n",
       "      <td>-0.02793</td>\n",
       "      <td>1.277781</td>\n",
       "      <td>-0.001949</td>\n",
       "      <td>-1.251420</td>\n",
       "      <td>0.155707</td>\n",
       "      <td>-0.179228</td>\n",
       "      <td>-1.065304</td>\n",
       "      <td>...</td>\n",
       "      <td>0.783085</td>\n",
       "      <td>1.183580</td>\n",
       "      <td>-0.432779</td>\n",
       "      <td>-1.136306</td>\n",
       "      <td>-0.396127</td>\n",
       "      <td>-0.024706</td>\n",
       "      <td>-1.009500</td>\n",
       "      <td>-0.067372</td>\n",
       "      <td>0.054135</td>\n",
       "      <td>-0.177078</td>\n",
       "    </tr>\n",
       "    <tr>\n",
       "      <th>3</th>\n",
       "      <td>-1.707646</td>\n",
       "      <td>-1.599964</td>\n",
       "      <td>-1.001953</td>\n",
       "      <td>-0.02793</td>\n",
       "      <td>1.458455</td>\n",
       "      <td>-0.001949</td>\n",
       "      <td>-0.821838</td>\n",
       "      <td>-0.445514</td>\n",
       "      <td>-0.179228</td>\n",
       "      <td>-0.114186</td>\n",
       "      <td>...</td>\n",
       "      <td>0.783085</td>\n",
       "      <td>0.480538</td>\n",
       "      <td>0.387574</td>\n",
       "      <td>-1.183432</td>\n",
       "      <td>0.669056</td>\n",
       "      <td>-0.024706</td>\n",
       "      <td>-1.039536</td>\n",
       "      <td>-0.998679</td>\n",
       "      <td>-0.164486</td>\n",
       "      <td>-0.838511</td>\n",
       "    </tr>\n",
       "    <tr>\n",
       "      <th>4</th>\n",
       "      <td>-1.707641</td>\n",
       "      <td>-1.599964</td>\n",
       "      <td>0.244897</td>\n",
       "      <td>-0.02793</td>\n",
       "      <td>1.729466</td>\n",
       "      <td>-0.001949</td>\n",
       "      <td>-0.746661</td>\n",
       "      <td>-0.164944</td>\n",
       "      <td>-0.179228</td>\n",
       "      <td>0.187388</td>\n",
       "      <td>...</td>\n",
       "      <td>-1.670486</td>\n",
       "      <td>-0.363113</td>\n",
       "      <td>1.729970</td>\n",
       "      <td>-0.794645</td>\n",
       "      <td>-0.490810</td>\n",
       "      <td>-0.024706</td>\n",
       "      <td>0.672505</td>\n",
       "      <td>-1.509396</td>\n",
       "      <td>-1.339569</td>\n",
       "      <td>-1.471186</td>\n",
       "    </tr>\n",
       "  </tbody>\n",
       "</table>\n",
       "<p>5 rows × 170 columns</p>\n",
       "</div>"
      ],
      "text/plain": [
       "       DATE     MONTH  BASEL_cloud_cover  BASEL_wind_speed  BASEL_humidity  \\\n",
       "0 -1.707663 -1.599964           0.660514          -0.02793        0.826097   \n",
       "1 -1.707657 -1.599964           0.244897          -0.02793        0.735760   \n",
       "2 -1.707652 -1.599964           1.076130          -0.02793        1.277781   \n",
       "3 -1.707646 -1.599964          -1.001953          -0.02793        1.458455   \n",
       "4 -1.707641 -1.599964           0.244897          -0.02793        1.729466   \n",
       "\n",
       "   BASEL_pressure  BASEL_global_radiation  BASEL_precipitation  \\\n",
       "0       -0.001949               -1.101066            -0.265148   \n",
       "1       -0.001949               -1.058108             1.658760   \n",
       "2       -0.001949               -1.251420             0.155707   \n",
       "3       -0.001949               -0.821838            -0.445514   \n",
       "4       -0.001949               -0.746661            -0.164944   \n",
       "\n",
       "   BASEL_snow_depth  BASEL_sunshine  ...  VALENTIA_cloud_cover  \\\n",
       "0         -0.179228       -0.902918  ...             -0.443701   \n",
       "1         -0.179228       -0.810126  ...              0.783085   \n",
       "2         -0.179228       -1.065304  ...              0.783085   \n",
       "3         -0.179228       -0.114186  ...              0.783085   \n",
       "4         -0.179228        0.187388  ...             -1.670486   \n",
       "\n",
       "   VALENTIA_humidity  VALENTIA_pressure  VALENTIA_global_radiation  \\\n",
       "0           0.761754          -1.299744                  -0.806427   \n",
       "1           1.183580          -1.262455                  -1.042055   \n",
       "2           1.183580          -0.432779                  -1.136306   \n",
       "3           0.480538           0.387574                  -1.183432   \n",
       "4          -0.363113           1.729970                  -0.794645   \n",
       "\n",
       "   VALENTIA_precipitation  VALENTIA_snow_depth  VALENTIA_sunshine  \\\n",
       "0               -0.088407            -0.024706           0.372147   \n",
       "1                0.503361            -0.024706          -0.829285   \n",
       "2               -0.396127            -0.024706          -1.009500   \n",
       "3                0.669056            -0.024706          -1.039536   \n",
       "4               -0.490810            -0.024706           0.672505   \n",
       "\n",
       "   VALENTIA_temp_mean  VALENTIA_temp_min  VALENTIA_temp_max  \n",
       "0           -0.668215          -0.519743          -0.752237  \n",
       "1           -0.548046          -0.629054          -0.407141  \n",
       "2           -0.067372           0.054135          -0.177078  \n",
       "3           -0.998679          -0.164486          -0.838511  \n",
       "4           -1.509396          -1.339569          -1.471186  \n",
       "\n",
       "[5 rows x 170 columns]"
      ]
     },
     "execution_count": 90,
     "metadata": {},
     "output_type": "execute_result"
    }
   ],
   "source": [
    "# Checking output of df_scaled\n",
    "df_scaled.head()"
   ]
  },
  {
   "cell_type": "code",
   "execution_count": 91,
   "id": "7dfd3ec2-a322-409e-96fb-a66da68aac7f",
   "metadata": {},
   "outputs": [
    {
     "name": "stdout",
     "output_type": "stream",
     "text": [
      "1.8691289705283285e-16\n"
     ]
    }
   ],
   "source": [
    "# Finding average mean of all scaled features to check if the values are around 0 \n",
    "print(df_scaled.mean().mean())  "
   ]
  },
  {
   "cell_type": "code",
   "execution_count": 92,
   "id": "13dc5027-5e74-4113-91bd-bf734dfae403",
   "metadata": {},
   "outputs": [],
   "source": [
    "# Values are correctly centered around 0 after scaling"
   ]
  },
  {
   "cell_type": "code",
   "execution_count": 93,
   "id": "839d49a0-0e0e-4b96-be49-6a92c35e6cd0",
   "metadata": {},
   "outputs": [
    {
     "data": {
      "text/plain": [
       "1.000021787204379"
      ]
     },
     "execution_count": 93,
     "metadata": {},
     "output_type": "execute_result"
    }
   ],
   "source": [
    "# Finding average standard deviation of all features to check if close to 1\n",
    "df_scaled.std().mean()"
   ]
  },
  {
   "cell_type": "code",
   "execution_count": 94,
   "id": "4ae41dab-9e8f-468f-b6db-7afc7feef88a",
   "metadata": {},
   "outputs": [],
   "source": [
    "#  Output is very close to 1, indicating that the scaling process was successful"
   ]
  },
  {
   "cell_type": "markdown",
   "id": "da41f16d-46af-4f9d-9d3a-f68a574dfda6",
   "metadata": {},
   "source": [
    "## 3. Saving Scaled Dataset"
   ]
  },
  {
   "cell_type": "code",
   "execution_count": 96,
   "id": "82b7a39a-e432-4424-850b-1152080086a9",
   "metadata": {},
   "outputs": [],
   "source": [
    "# Exporting scaled dataset to Prepared Data folder as pkl file\n",
    "\n",
    "df_scaled.to_pickle(os.path.join(path, '01 Data/Prepared Data/Dataset_scaled.pkl'))"
   ]
  },
  {
   "cell_type": "code",
   "execution_count": 97,
   "id": "ebb38f74-5ce6-41ce-8ec5-30c11a4553be",
   "metadata": {},
   "outputs": [],
   "source": [
    "# Exporting scaled dataset to Prepared Data folder as csv file\n",
    "\n",
    "df_scaled.to_csv(os.path.join(path, '01 Data/Prepared Data/Dataset_scaled.csv'))"
   ]
  }
 ],
 "metadata": {
  "kernelspec": {
   "display_name": "Python 3 (ipykernel)",
   "language": "python",
   "name": "python3"
  },
  "language_info": {
   "codemirror_mode": {
    "name": "ipython",
    "version": 3
   },
   "file_extension": ".py",
   "mimetype": "text/x-python",
   "name": "python",
   "nbconvert_exporter": "python",
   "pygments_lexer": "ipython3",
   "version": "3.11.7"
  }
 },
 "nbformat": 4,
 "nbformat_minor": 5
}
